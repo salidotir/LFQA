{
  "cells": [
    {
      "cell_type": "markdown",
      "id": "e8b1ff24",
      "metadata": {
        "id": "e8b1ff24",
        "papermill": {
          "duration": 0.065898,
          "end_time": "2024-05-24T08:39:23.938979",
          "exception": false,
          "start_time": "2024-05-24T08:39:23.873081",
          "status": "completed"
        },
        "tags": []
      },
      "source": [
        "#**Step1: Install amd import libraries**"
      ]
    },
    {
      "cell_type": "code",
      "execution_count": null,
      "id": "a0e828ed",
      "metadata": {
        "execution": {
          "iopub.execute_input": "2024-05-24T08:39:24.062249Z",
          "iopub.status.busy": "2024-05-24T08:39:24.061807Z",
          "iopub.status.idle": "2024-05-24T08:40:02.340498Z",
          "shell.execute_reply": "2024-05-24T08:40:02.339275Z"
        },
        "id": "a0e828ed",
        "outputId": "90cc8715-4b21-43a7-cec0-1df145177d6d",
        "papermill": {
          "duration": 38.343545,
          "end_time": "2024-05-24T08:40:02.343051",
          "exception": false,
          "start_time": "2024-05-24T08:39:23.999506",
          "status": "completed"
        },
        "tags": []
      },
      "outputs": [
        {
          "name": "stdout",
          "output_type": "stream",
          "text": [
            "\u001b[31mERROR: pip's dependency resolver does not currently take into account all the packages that are installed. This behaviour is the source of the following dependency conflicts.\r\n",
            "cudf 23.8.0 requires cubinlinker, which is not installed.\r\n",
            "cudf 23.8.0 requires cupy-cuda11x>=12.0.0, which is not installed.\r\n",
            "cudf 23.8.0 requires ptxcompiler, which is not installed.\r\n",
            "cuml 23.8.0 requires cupy-cuda11x>=12.0.0, which is not installed.\r\n",
            "dask-cudf 23.8.0 requires cupy-cuda11x>=12.0.0, which is not installed.\r\n",
            "apache-beam 2.46.0 requires dill<0.3.2,>=0.3.1.1, but you have dill 0.3.7 which is incompatible.\r\n",
            "apache-beam 2.46.0 requires numpy<1.25.0,>=1.14.3, but you have numpy 1.26.4 which is incompatible.\r\n",
            "apache-beam 2.46.0 requires pyarrow<10.0.0,>=3.0.0, but you have pyarrow 15.0.2 which is incompatible.\r\n",
            "cudf 23.8.0 requires cuda-python<12.0a0,>=11.7.1, but you have cuda-python 12.4.0 which is incompatible.\r\n",
            "cudf 23.8.0 requires pandas<1.6.0dev0,>=1.3, but you have pandas 2.1.4 which is incompatible.\r\n",
            "cudf 23.8.0 requires protobuf<5,>=4.21, but you have protobuf 3.20.3 which is incompatible.\r\n",
            "cudf 23.8.0 requires pyarrow==11.*, but you have pyarrow 15.0.2 which is incompatible.\r\n",
            "cuml 23.8.0 requires dask==2023.7.1, but you have dask 2024.4.1 which is incompatible.\r\n",
            "dask-cuda 23.8.0 requires dask==2023.7.1, but you have dask 2024.4.1 which is incompatible.\r\n",
            "dask-cuda 23.8.0 requires pandas<1.6.0dev0,>=1.3, but you have pandas 2.1.4 which is incompatible.\r\n",
            "dask-cudf 23.8.0 requires dask==2023.7.1, but you have dask 2024.4.1 which is incompatible.\r\n",
            "dask-cudf 23.8.0 requires pandas<1.6.0dev0,>=1.3, but you have pandas 2.1.4 which is incompatible.\r\n",
            "distributed 2023.7.1 requires dask==2023.7.1, but you have dask 2024.4.1 which is incompatible.\r\n",
            "gcsfs 2024.2.0 requires fsspec==2024.2.0, but you have fsspec 2023.10.0 which is incompatible.\r\n",
            "pathos 0.3.2 requires dill>=0.3.8, but you have dill 0.3.7 which is incompatible.\r\n",
            "pathos 0.3.2 requires multiprocess>=0.70.16, but you have multiprocess 0.70.15 which is incompatible.\r\n",
            "raft-dask 23.8.0 requires dask==2023.7.1, but you have dask 2024.4.1 which is incompatible.\r\n",
            "s3fs 2024.2.0 requires fsspec==2024.2.0, but you have fsspec 2023.10.0 which is incompatible.\u001b[0m\u001b[31m\r\n",
            "\u001b[0m"
          ]
        }
      ],
      "source": [
        "!pip install -q \"transformers==4.35\" \"peft==0.5.0\" \"accelerate==0.21.0\" \"bitsandbytes==0.40.2\" \"trl==0.4.7\" \"safetensors>=0.3.1\" \"tiktoken\"\n",
        "import torch\n",
        "import transformers\n",
        "import pandas as pd\n",
        "import torch\n",
        "from datasets import Dataset, load_dataset\n",
        "from random import randrange\n",
        "from peft import LoraConfig, get_peft_model, AutoPeftModelForCausalLM\n",
        "from transformers import AutoTokenizer, AutoModelForCausalLM, BitsAndBytesConfig, TrainingArguments\n",
        "from trl import SFTTrainer\n",
        "from datasets import load_dataset\n",
        "import time\n",
        "print('transformers.__version__: ',transformers.__version__)\n",
        "device = torch.device(\"cuda\" if torch.cuda.is_available() else \"cpu\")\n",
        "print('Device ',device,' is being used')"
      ]
    },
    {
      "cell_type": "markdown",
      "id": "54f30177",
      "metadata": {
        "id": "54f30177",
        "papermill": {
          "duration": 0.060394,
          "end_time": "2024-05-24T08:40:25.573275",
          "exception": false,
          "start_time": "2024-05-24T08:40:25.512881",
          "status": "completed"
        },
        "tags": []
      },
      "source": [
        "#**Step 2: Data Loading**"
      ]
    },
    {
      "cell_type": "code",
      "execution_count": null,
      "id": "7b169b7b",
      "metadata": {
        "execution": {
          "iopub.execute_input": "2024-05-24T08:40:25.697342Z",
          "iopub.status.busy": "2024-05-24T08:40:25.696978Z",
          "iopub.status.idle": "2024-05-24T08:41:05.321334Z",
          "shell.execute_reply": "2024-05-24T08:41:05.320525Z"
        },
        "id": "7b169b7b",
        "papermill": {
          "duration": 39.68926,
          "end_time": "2024-05-24T08:41:05.323717",
          "exception": false,
          "start_time": "2024-05-24T08:40:25.634457",
          "status": "completed"
        },
        "tags": [],
        "colab": {
          "referenced_widgets": [
            "1281cc17862242d288553c96b38480d1",
            "27546f6dc1e5476482792eea726acb67",
            "39385bbd5a4c47acb0e91284ba7e1be5",
            "1175f32e2acd4f12af770927fdb65985",
            "9553ec0efd4849fd8a058735efc2a958",
            "b84fc05b00b048eb837ad6b9f17e0870",
            "114fcb89bf784f209ca26f650fb9f051",
            "fbaf38935d3c44cb8dcd92408d005d97",
            "8a9e046f71e14624a012dd4b4c3d10e2",
            "0077a9debf9242f3b289e32917b24fbf",
            "e7c6720163c944dd846d6f3f220500ab",
            "53afe13eb6df4fd5866ce7ba61936c0c"
          ]
        },
        "outputId": "32d0eabb-f8cb-402e-dc25-c06d7ae46ede"
      },
      "outputs": [
        {
          "data": {
            "application/vnd.jupyter.widget-view+json": {
              "model_id": "1281cc17862242d288553c96b38480d1",
              "version_major": 2,
              "version_minor": 0
            },
            "text/plain": [
              "Downloading builder script:   0%|          | 0.00/4.17k [00:00<?, ?B/s]"
            ]
          },
          "metadata": {},
          "output_type": "display_data"
        },
        {
          "data": {
            "application/vnd.jupyter.widget-view+json": {
              "model_id": "27546f6dc1e5476482792eea726acb67",
              "version_major": 2,
              "version_minor": 0
            },
            "text/plain": [
              "Downloading readme:   0%|          | 0.00/12.6k [00:00<?, ?B/s]"
            ]
          },
          "metadata": {},
          "output_type": "display_data"
        },
        {
          "data": {
            "application/vnd.jupyter.widget-view+json": {
              "model_id": "39385bbd5a4c47acb0e91284ba7e1be5",
              "version_major": 2,
              "version_minor": 0
            },
            "text/plain": [
              "Downloading data files:   0%|          | 0/4 [00:00<?, ?it/s]"
            ]
          },
          "metadata": {},
          "output_type": "display_data"
        },
        {
          "data": {
            "application/vnd.jupyter.widget-view+json": {
              "model_id": "1175f32e2acd4f12af770927fdb65985",
              "version_major": 2,
              "version_minor": 0
            },
            "text/plain": [
              "Downloading data:   0%|          | 0.00/62.3M [00:00<?, ?B/s]"
            ]
          },
          "metadata": {},
          "output_type": "display_data"
        },
        {
          "data": {
            "application/vnd.jupyter.widget-view+json": {
              "model_id": "9553ec0efd4849fd8a058735efc2a958",
              "version_major": 2,
              "version_minor": 0
            },
            "text/plain": [
              "Downloading data:   0%|          | 0.00/5.00M [00:00<?, ?B/s]"
            ]
          },
          "metadata": {},
          "output_type": "display_data"
        },
        {
          "data": {
            "application/vnd.jupyter.widget-view+json": {
              "model_id": "b84fc05b00b048eb837ad6b9f17e0870",
              "version_major": 2,
              "version_minor": 0
            },
            "text/plain": [
              "Downloading data:   0%|          | 0.00/1.76M [00:00<?, ?B/s]"
            ]
          },
          "metadata": {},
          "output_type": "display_data"
        },
        {
          "data": {
            "application/vnd.jupyter.widget-view+json": {
              "model_id": "114fcb89bf784f209ca26f650fb9f051",
              "version_major": 2,
              "version_minor": 0
            },
            "text/plain": [
              "Downloading data:   0%|          | 0.00/3.85M [00:00<?, ?B/s]"
            ]
          },
          "metadata": {},
          "output_type": "display_data"
        },
        {
          "data": {
            "application/vnd.jupyter.widget-view+json": {
              "model_id": "fbaf38935d3c44cb8dcd92408d005d97",
              "version_major": 2,
              "version_minor": 0
            },
            "text/plain": [
              "Extracting data files:   0%|          | 0/4 [00:00<?, ?it/s]"
            ]
          },
          "metadata": {},
          "output_type": "display_data"
        },
        {
          "data": {
            "application/vnd.jupyter.widget-view+json": {
              "model_id": "8a9e046f71e14624a012dd4b4c3d10e2",
              "version_major": 2,
              "version_minor": 0
            },
            "text/plain": [
              "Generating train split:   0%|          | 0/91772 [00:00<?, ? examples/s]"
            ]
          },
          "metadata": {},
          "output_type": "display_data"
        },
        {
          "data": {
            "application/vnd.jupyter.widget-view+json": {
              "model_id": "0077a9debf9242f3b289e32917b24fbf",
              "version_major": 2,
              "version_minor": 0
            },
            "text/plain": [
              "Generating validation1 split:   0%|          | 0/5446 [00:00<?, ? examples/s]"
            ]
          },
          "metadata": {},
          "output_type": "display_data"
        },
        {
          "data": {
            "application/vnd.jupyter.widget-view+json": {
              "model_id": "e7c6720163c944dd846d6f3f220500ab",
              "version_major": 2,
              "version_minor": 0
            },
            "text/plain": [
              "Generating validation2 split:   0%|          | 0/2375 [00:00<?, ? examples/s]"
            ]
          },
          "metadata": {},
          "output_type": "display_data"
        },
        {
          "data": {
            "application/vnd.jupyter.widget-view+json": {
              "model_id": "53afe13eb6df4fd5866ce7ba61936c0c",
              "version_major": 2,
              "version_minor": 0
            },
            "text/plain": [
              "Generating test split:   0%|          | 0/5411 [00:00<?, ? examples/s]"
            ]
          },
          "metadata": {},
          "output_type": "display_data"
        }
      ],
      "source": [
        "# Dataset\n",
        "train_dataset = load_dataset(\"eli5_category\",split=\"train\")\n",
        "validation_dataset = load_dataset(\"eli5_category\",split=\"validation1[:500]\")"
      ]
    },
    {
      "cell_type": "markdown",
      "source": [
        "## 2-1 Login to WandB"
      ],
      "metadata": {
        "id": "_eQsvpUkFHI8"
      },
      "id": "_eQsvpUkFHI8"
    },
    {
      "cell_type": "code",
      "execution_count": null,
      "id": "29cd0bb5",
      "metadata": {
        "execution": {
          "iopub.execute_input": "2024-05-24T08:43:12.628201Z",
          "iopub.status.busy": "2024-05-24T08:43:12.627864Z",
          "iopub.status.idle": "2024-05-24T08:43:28.377401Z",
          "shell.execute_reply": "2024-05-24T08:43:28.376349Z"
        },
        "papermill": {
          "duration": 15.82024,
          "end_time": "2024-05-24T08:43:28.379769",
          "exception": false,
          "start_time": "2024-05-24T08:43:12.559529",
          "status": "completed"
        },
        "tags": [],
        "id": "29cd0bb5",
        "outputId": "7c8fcdbb-1be6-4da7-9118-fe4be8d22536"
      },
      "outputs": [
        {
          "name": "stderr",
          "output_type": "stream",
          "text": [
            "\u001b[34m\u001b[1mwandb\u001b[0m: W&B API key is configured. Use \u001b[1m`wandb login --relogin`\u001b[0m to force relogin\n",
            "\u001b[34m\u001b[1mwandb\u001b[0m: \u001b[33mWARNING\u001b[0m If you're specifying your api key in code, ensure this code is not shared publicly.\n",
            "\u001b[34m\u001b[1mwandb\u001b[0m: \u001b[33mWARNING\u001b[0m Consider setting the WANDB_API_KEY environment variable, or running `wandb login` from the command line.\n",
            "\u001b[34m\u001b[1mwandb\u001b[0m: Appending key for api.wandb.ai to your netrc file: /root/.netrc\n"
          ]
        },
        {
          "data": {
            "text/plain": [
              "True"
            ]
          },
          "execution_count": 25,
          "metadata": {},
          "output_type": "execute_result"
        }
      ],
      "source": [
        "!pip install -q wandb\n",
        "import wandb\n",
        "key_api = '541b559339e102d32d9c98eb3ad2918f7703c4b1'\n",
        "wandb.login(key=key_api)"
      ]
    },
    {
      "cell_type": "markdown",
      "id": "7db46100",
      "metadata": {
        "papermill": {
          "duration": 0.069841,
          "end_time": "2024-05-24T08:41:05.457395",
          "exception": false,
          "start_time": "2024-05-24T08:41:05.387554",
          "status": "completed"
        },
        "tags": [],
        "id": "7db46100"
      },
      "source": [
        "## 2-1 Prepare dataset to train"
      ]
    },
    {
      "cell_type": "code",
      "execution_count": null,
      "id": "93653d4f",
      "metadata": {
        "execution": {
          "iopub.execute_input": "2024-05-24T08:41:05.587996Z",
          "iopub.status.busy": "2024-05-24T08:41:05.587605Z",
          "iopub.status.idle": "2024-05-24T08:41:05.593928Z",
          "shell.execute_reply": "2024-05-24T08:41:05.592958Z"
        },
        "papermill": {
          "duration": 0.072982,
          "end_time": "2024-05-24T08:41:05.596112",
          "exception": false,
          "start_time": "2024-05-24T08:41:05.523130",
          "status": "completed"
        },
        "tags": [],
        "id": "93653d4f"
      },
      "outputs": [],
      "source": [
        "\n",
        "# Create a dictionary\n",
        "def organize_dataset(data):\n",
        "    questions = []\n",
        "    answers_list = []\n",
        "    scores_list = []\n",
        "\n",
        "    for item in data:\n",
        "        answers = item['answers']['text']\n",
        "        scores = item['answers'].get('score', [])\n",
        "\n",
        "        questions.append(item['title'])\n",
        "        answers_list.append(answers)\n",
        "        scores_list.append(scores)\n",
        "    return {\n",
        "        \"questions\": questions,\n",
        "        \"answers\": answers_list,\n",
        "        \"scores\": scores_list\n",
        "    }\n",
        "\n",
        "\n",
        "\n",
        "train_data = organize_dataset(train_dataset)\n",
        "train_data = {key: value for key, value in train_data.items()}\n",
        "val_data = organize_dataset(validation_dataset)\n",
        "val_data = {key: value for key, value in val_data.items()}\n",
        "print('Now we have train_data and val_data as dictionareis:')"
      ]
    },
    {
      "cell_type": "markdown",
      "id": "c7fc1a44",
      "metadata": {
        "papermill": {
          "duration": 0.064392,
          "end_time": "2024-05-24T08:41:10.370914",
          "exception": false,
          "start_time": "2024-05-24T08:41:10.306522",
          "status": "completed"
        },
        "tags": [],
        "id": "c7fc1a44"
      },
      "source": [
        "## 2-2 Join all answers together"
      ]
    },
    {
      "cell_type": "code",
      "execution_count": null,
      "id": "2c7d8951",
      "metadata": {
        "execution": {
          "iopub.execute_input": "2024-05-24T08:41:10.521242Z",
          "iopub.status.busy": "2024-05-24T08:41:10.520541Z",
          "iopub.status.idle": "2024-05-24T08:41:10.557065Z",
          "shell.execute_reply": "2024-05-24T08:41:10.556090Z"
        },
        "papermill": {
          "duration": 0.109319,
          "end_time": "2024-05-24T08:41:10.559577",
          "exception": false,
          "start_time": "2024-05-24T08:41:10.450258",
          "status": "completed"
        },
        "tags": [],
        "id": "2c7d8951",
        "outputId": "4625e8a0-d889-4d09-c236-e181cfcec064"
      },
      "outputs": [
        {
          "name": "stdout",
          "output_type": "stream",
          "text": [
            "25000\n",
            "500\n"
          ]
        }
      ],
      "source": [
        "concatenate_train_answer = []\n",
        "for answe_list in train_data['answers']:\n",
        "    concatenate_train_answer.append(' '.join(answe_list))\n",
        "\n",
        "concatenate_val_answer = []\n",
        "for answe_list in val_data['answers']:\n",
        "    concatenate_val_answer.append(' '.join(answe_list))\n",
        "\n",
        "\n",
        "print(len(concatenate_train_answer))\n",
        "print(len(concatenate_val_answer))\n"
      ]
    },
    {
      "cell_type": "code",
      "execution_count": null,
      "id": "ede48803",
      "metadata": {
        "execution": {
          "iopub.execute_input": "2024-05-24T08:41:10.691459Z",
          "iopub.status.busy": "2024-05-24T08:41:10.690451Z",
          "iopub.status.idle": "2024-05-24T08:41:10.713081Z",
          "shell.execute_reply": "2024-05-24T08:41:10.712096Z"
        },
        "papermill": {
          "duration": 0.089893,
          "end_time": "2024-05-24T08:41:10.716737",
          "exception": false,
          "start_time": "2024-05-24T08:41:10.626844",
          "status": "completed"
        },
        "tags": [],
        "id": "ede48803",
        "outputId": "30207cc7-9142-47f9-84d1-1ac0b56616a3"
      },
      "outputs": [
        {
          "data": {
            "text/plain": [
              "'I work in film and have a VFX degree and here\\'s how it goes: 1. About half the money, give or take, is for above the line talent. So you have your actors, directors, producers, ect. They get paid in a percentage or in absurdly high amounts for films. These people are also accommodate on set so production has to rent out luxury campers to house them for weeks or months at a time when on location. Then they need to hire drivers and trucks to move those campers. Top tier stars can make demands on top of that. I saw Jim Carrey\\'s camper once and it had an entire astroturf lawn on top of it, with a picnic table, with a vase with flowers on it. Don\\'t ask me why he wanted it, he just did. Those costs are in addition to percentages given to the talent directly, which can be millions each for an A list celebrity. If this is a movie like Infinity War you have multiple guys like RDJ and Cumberbach and like four guy named Chris who could carry a blockbuster on their own and want to be paid like it. 2. Actors who aren\\'t the main cast still have to show up and get paid. Every random dude you see in the background is an actor who\\'s in it to get paid. If you see a big crowd shot of like 500 people that means that\\'s 500 people who had to show up, go through makeup and costumes, and be accommodated and then be paid. 3. What you have left over has to pay for production. At minimum it costs like thirty thousand dollars a day just to hire people to actually operate the cameras and set up lights and they usually work 12 hour days and have unions that demand good rates including overtime. This is a very basic cost for a minimum crew for a single day where you get maybe a few minutes of footage done. If you have those big 500 background days you need people to get people to manage those people. If you have complicated shots you need more people for that. 4. If you\\'re out on location you need to pay the people who own that property. This can cost millions in and of itself if you need time and they know you have money. You also need to pay an entire team of people to show up and get the location ready, which means emptying out whatever furniture is there and replacing it with your own stuff you have to buy. These people are probably also working heavy overtime and have a union demanding pay accordingly. If you decide that isn\\'t worth it then you need to get a studio and build the entire fake set from scratch, or pay a company to recreate it with CG, which isn\\'t cheap either way. 5. This doesn\\'t count the cost for pre and post production, which is two thirds of the process. You have writers, editors, storyboarders, previz, color grading, foley, and a dozen other departments that have to do work before or after the actual shoot. CG comes here in various phases and obviously isn\\'t cheap. On a Marvel movie if you sit through all of the credits you\\'ll usually see like 8 other companies contracted out to do this and that and if you actually follow through and look up those companies they have big impressive shot breakdowns of what they did and a crew of a hundred plus people who may or may not also be credited. If you sit through the whole credits of a Marvel movie you probably have thousands of individual names and there are probably three digits worth of people who didn\\'t even make that list. Those guys don\\'t work for free. This shit ain\\'t student film. CG is very expensive. CG artists are specialists and in high demand. Making a big budget CG blockbuster like an Avengers film employs hundreds of them for years. The personnel costs alone are crazy. Actually rendering all that CG also eats up a huge amount of time on very valuable, very powerful computers. First thing is actors take a lot of money. Then, for cg heavy work, there are several people doing one single element going from concept, modeling, texturing\\' rigging, animating, lighting, environement, digital matte painting, paint & roto and compositing. All of those are jobs done usually by different individual... without counting the production/support team that manages the asset and production. Or even the shooting crews. So for, let\\'s say a space ship, you have weeks or months of very specialized work. When you consider stuff like Avengers, there are dozens of individual elements in shots with their unique characteristics. This gets expensive very fast. Source: am a visual effect artist on movies During the credits pay attention to the different CGI studios. For captain marvel I counted around seven different companies doing CGI. It\\'s a very rough estimate but I think it gives a good sense of scale. There are hundreds of people involved just in the CGI and each of those companies has to turn a profit too. 100 CG artists * $125,000 * 1 year = $12.5M easy if they nail if the first time. Which they won\\'t. Then add producers, project managers, leads, storyboards, etc. You get to $25M to $30M in CG real fast if you look at the math. The credits literally show the hundreds of people involved in just the CGI. It’s crazy how much time and manpower it takes to add all these effects. 1. CGI studios. 2. Actors. 3. Other support crew. 4. Movies are made by a temporary company. The company is set up not to make money. All the profits go to people, the parent company, and buying property/items. Since the temporary company doesn\\'t make money they don\\'t pay any taxes to the government. So the more money spent by the temporary company the better. 5. Marketing. Thought this money is often not included in the money to make figure. When you think about a movie getting made, you probably have an image a bunch of an actors on a set and a director yelling “action.” That is just the factory floor part of the process and it represents a TINY sliver of time and money for everything that must happen to make a finished movie. From start to finish, a typical movie takes about 7 years to get made, though Marvel’s got it down to 4-5 years per film because they plan things out so far in advance. A typical high end “tent pole” movie has a production budget of about $200,000,000. Every movie is different, but typically breaks down like this: 30% — “above the line” expenses. These include, in order of most expensive to least expensive: -cast + fringes -producer’s fees (the people or person who spent years, sometimes decades, getting every thing in order) -Director’s fees + fringes -chain of title (all the licensing fees and legal expenses to get permission to use the intellectual property of others.) except for Robert Downey (who now gets $20mil per Avengers movie), marvel stars actually don’t make as much money as you’d think. The headliners (Thor, Bruce banner, capt America, etc...) get about $2-5m per headlining movie or avengers appearance. But here’s the thing: there are a LOT of characters in marvel movies! Even fees paid for cheaper cameo appearances add up quickly. Movie stars aren’t expensive because they’re greedy assholes, they’re expensive because you have to outbid whatever other producers are willing to pay them. Oh, and guess what? For every $1 you pay an actor, you have to pay an additional $0.33 in union fees and taxes (we call these “fringes”). Same goes for your director, who will command a fee from $3-10m. So what if you do a deal with a star actor for $3m and change your mind, or your financier wants somebody different, or that actor gets caught up in some kind of scandal and you don’t want them in the movie? You still have to pay them the full amount even if they don’t do shit. This is called “pay or play” dealmaking and it’s unfortunately the new normal. 30% — “below the line”, development, and physical production expenses. In order most to least: -Sets/props/wardrobe (called “Art department”) -Special Effects (not to be confused with visual effects) -Production management -Writers, script development, visual development, fringes -Lighting and electrical -Camera department and cinematographer -Extras and “under five lines” cast -Crew & production staff 10%— insurance, studio overhead, and legal. 30% — “post production”... or, everything that turns hundreds of hours of footage into a finished product. In order: -visual effects (CGI, etc...) -Editing -Post production management staff -Music licensing (pop songs heard in movie, etc...) -Color correction and mastering -Score and orchestration -Sound and dialog editing (sound effects, etc...) -Sound mixing -Final authoring. All of this gets you a MOVIE, but if you want to distribute the movie to theaters, run ads, make a trailer, promote the movie, build promotional tie-in campaigns with McDonald’s, etc.... you need another $100-$150m. (This is called “P & A” and it’s separate from the movie’s reported budget.) Also notice how little the Visual Effects budget is compared to the fact that 80-90% of all shots in a Marvel movie require some kind of visual effects work. This is one of the reasons why VFX artists are the most demanded individuals in the industry, and yet they continue to get screwed over financially. They come into the picture at the very end when the project has already gone way over budget and spent most of the money. Also not included in this breakdown are the salaries and expenses of all of the studio heads and executives not covered by studio overhead. Tl;dr effects-driven movies are fucking crazy expensive because they have an absurd amount of moving parts and failure points across many many years of development and production. Source: I’m a DGA director and PGA producer. In addition to what everyone else have said, new CG techniques were often developed on the fly specifically for that film instead of recycling techniques from other films. Inevitably, this takes a lot of computing time with expensive equipment to test and experiment. i am creating low quality cgi on an avarage computer. 25 seconds of a movie takes 4-5 hours to render. if you activate shaders like ambiant occlusion it will be 1.5 as long. most of my movies are without mirror effects. in the real world you have got millions of reflecting surfaces and each one of them will ruin the reality effect in a movie, if it works wrong. and this is only one of the many effects that make such movies expensive. It been already said but A list actor price are nuts. Say you want to make a iron man movie the lead actor wants his £20m. You have to pay him as he is the face of the franchise. Now try do that in avangers with multiple film franchise all with lead actors wanting major cash. Non of them are going to turn up for small change. Effects are only as good as the budget. You can make the same plot for very different sums of money in terms of effects. When you have the budget you just show more to the audience. Or do it better, more realism etc. I work in this industry so I can help answer. The largest portion of the money goes towards actors (not CGI, like most of this thread is stating). If you take Infinity War for example, an estimated 300 to 400 million budget, the actors take home (reported estimates) approx. 184 million. Factor in every single other person on set, vehicle rentals, re-shoots, food, hotels, flights, trailers etc. and that number easily climbs to over 200 million. So you have less than 45ish% of the budget reserved for post production. Now when you consider how extensive the CGI has to be in these movies, it\\'s a steal. Artists can be expensive. Compared to actors though, they\\'re plebs. Everyone\\'s answer here is more or less about CG. And while I truly tried explaining this like you were five, that\\'s pretty difficult lol.. So I\\'ll do a very general breakdown for you. **Development Salaries** (Writers, Producers) **Pre-Production Salaries** (storyboard artists, director, producers, writers, pre-vis artists, location managers, SFX supervisors, legal, etc etc etc etc) **Pre-Production Materials/Misc Costs** (office supplies, gasoline, office rental, vehicle rentals, insurance (multi-hundred million dollar plans), etc etc etc etc.) **Production Gear [Grip and Electric]** (stands, lights, stingers, dollies, expendables (consumables like tape and gels), clamps, etc etc etc. **Production Gear [Camera]** (Cameras, lenses, kits, AXS, etc etc etc.) **Production Costs [Production]** (trailer rentals, office supplies, location permits, talent insurance, production liability insurance, location insurance, etc etc etc) **Production Personnel** (Literally EVERYONE, and this also includes people who are doing post-production while shooting is still going on) **Post Production Salaries** (Editors, CG Artists, SFX artists, Post Production Supervisors, Foley Supervisors, ADR Supervisors, Computers and various equipment etc etc etc etc etc etc etc. This list is often longer than any of the previous lists) These budgets can range anywhere from very little to over 400million dollars on a modern day scale. P & A (Prints and Advertisements) often cost just as much as the production itself, but it\\'s never an \"official\" figure in the public budget. Therefore, a 400m budget blockbuster will likely cost upwards of 800m. At the end of the day, some movies can have between 10,000-20,000 or more different unique people working on it. If each of these people are getting paid five digits, sometimes more, sometimes WAY more, it\\'s not hard to get to 200, 300, 400m dollar budgets. It\\'s kind of bizarre to me how some marvel movie that will be forgotten in a few years costs probably about as much what it will cost to restore Notre Dame. It\\'s not just paying the salary of animators etc. They also pay for engineers etc to research NEW ways to animate things. When it comes to something cutting edge realistic, It\\'s not JUST putting more compute power into it. You are running physics simulations that need to be so precise they require a lot of very well paid and very smart engineers to come up with ways to make things run smoothly. & the other comments here too Back in Avengers 1, the most CGI heavy scene was a Hulk fight scene, it took 7 hours to render a single frame. In a single frame, there was the raw footage that has to be composed, green screen that has to be chroma keyed, parts have to be rotoscoped, CGI models to be made, rigged, UVed, textured, animated, particles added, hair and cloth simulated, physics applied to damage, lighting adjusted, blur and focus adjusted to fit the camera settings, colour graded, and many more processes involved before rendering and edited into the final cut. In this single frame that took 7 hours, it involved the work of hundreds if not thousands of cast and crew, each experts in their field and have to be paid accordingly. Cast salaries can total 50-100 million if it is the Avengers. Scarlett Johansson and Robert Downey Jr making 20+ million (depending on box office) adds up. The lesser characters are usually taking home 2-5 Million. TL;DR -- because in heavily CGI films, every frame is a painting. Worse, it\\'s a painting that moves, and people\\'s eyes have millions of years of evolution to make them really good at catching visual discrepancies even when they\\'re not looking for them, so you have to spend a lot of time getting everything just right. Longer version: The cost of a big action movie can be broken down into three parts: * the people you see * the stuff you see * the stuff you don\\'t see So Infinity War cost $300 million. We\\'ll just say they\\'re roughly equal, which isn\\'t too far off for a lot of movies. That means: * $100 million for the specific actors (they can ask for a lot because they\\'re the most recognizable thing about movies) * $100 million for all the people\\'s time and effort it takes to make the things you see go from \"I can tell what\\'s happening\" to \"wow that seems realistic\" to, even better, not really noticing the CGI at all, even when you know it is CGI * $100 million for all the camera equipment, computers, studios (I mean literally studio, the place where you film something), travel, and other things that you never see in the film but which have to happen so that people can shoot the scenes and then make them better. Big action movies are really popular, so all three of those cost more, although for different reasons: * Actors who have made a name for themselves or who are doing a sequel can charge more for action movies, and film companies will pay it, because everybody agrees it\\'s more likely to be a success than if it was a different actor. * Audiences expect big CGI movies to impress them (particularly sequels), so, whereas some movies try to set up FX scenes to make the effects easier (like with standard tricks of camera angle and editing), big CGI movies set up scenes to make the effects *harder*, which also makes them more expensive. For example, think of when Thanos first shows up in Infinity War. This is a really important scene because it introduces a giant purple guy who isn\\'t real, and if he looks fake then the whole movie will suffer. The filmmakers wanted to make Thanos look and *feel* real, so he\\'s introduced with a difficult and expensive shot: a long-take where the camera pans from a real-life person (Loki) to Thanos, he picks up a real-life person (Thor), carries him around and drops him, and then the camera pans back to the real-life person (Loki). Human eyes and brains are really good at picking up subtle differences in what they see, so this kind of shot takes a ton of work to make it look real -- everything from making Thanos\\'s movement line up with the real-life person he\\'s carrying, to making his body move like a real person with real gravity and real mass, to making sure the ambient light affects him the same way it affects the real person and the objects around him, so he is in the same color palette with the same lighting sources. For a shot like this, it takes a lot of time to plan it all out, film it correctly (it\\'s really problematic if you messed up the filming and need to do it again later), and then work out the details. It\\'ll never look and feel real unless a whole team of people spend days making every detail work. The computers help a lot, but someone has to keep messing with a thousand little details by hand for every single frame. * Of course, a shot like that couldn\\'t happen if we didn\\'t have a big studio, with a ton of staging equipment, and a ton of expensive cameras (and microphones and light sensors and stuff like that), and all the people brought there with airplanes and cars and put up in hotels and with food for all of them plus the people who take care of all that stuff. And then we couldn\\'t do the effects to it later without a completely different place that was filled with also-expensive equipment, like big powerful computers with lots of big screens and specialized computer software. Could this be done more cheaply? Perhaps, but not easily so. Think of, say, Neill Blomkamp, a writer/director who opened his own studio with his own exceptional FX team. He made District 9 with $30 million, and he figured he could make a feature-length version of Firebase for the same. That is probably as efficient as a CGI-heavy film could go and still look not just good but *impressive*, and that\\'s not nearly as \"big\" a movie as Infinity War (in terms of numbers of famous actors, size of \\'set piece\\' action sequences, etc) and involves a whole lot of things in his favor, including his own unusual talent to work in good FX with a modest budget, solid actors willing to work on a new property for a comparatively reduced fee, and total integration of the studio and FX work. And if he made it and it succeeded, you can guarantee any sequel would cost even more, because actors would be able to demand more and because he\\'d try to make it more impressive, as described above. Generally pay is very good for technical and support crew also. A sound recordist would make around £500 a day. Crews would be massive on films like this. The crew cost total at the end when you factor in how long they take and reshoots would be massive on top of cgi, actors etc. Animation guy here, an average film has about 1200 shots, a blockbuster action film can have 3000. On Dr Strange I worked on 7 shots for about 6 months. And that’s just animation, after I’m done it goes to cfx, vfx, lighting, render, comp etc. The studio I used to work for has hundreds of people employed over various projects. Say theres 500 employees getting an average of 4k a month, that’s 2 million a month on wages alone. CG is expensive, film quality work doubly so. Lots of different studios will work on different parts of the film. like i remember some behind the scenes thing for Ironman 1, this one studios’ entire task was the 5-10s scene where he oneshots a tank that knocked him out of the sky and walks away. Not even the whole sequence, just the part where he fires his own missile, turns and walks off. Then another studio did the HUD for the suits, another one did Stark’s holographic interface for his workshops, yet another did Iron Monger chasing the SHIELD agents... etc. Lots and lots and lots of studios, or lots and lots of individual teams within some of the bigger studios.'"
            ]
          },
          "execution_count": 8,
          "metadata": {},
          "output_type": "execute_result"
        }
      ],
      "source": [
        "train_data['answers'] = concatenate_train_answer\n",
        "train_data['answers'][0]"
      ]
    },
    {
      "cell_type": "code",
      "execution_count": null,
      "id": "5801e076",
      "metadata": {
        "execution": {
          "iopub.execute_input": "2024-05-24T08:41:10.853383Z",
          "iopub.status.busy": "2024-05-24T08:41:10.852669Z",
          "iopub.status.idle": "2024-05-24T08:41:10.860078Z",
          "shell.execute_reply": "2024-05-24T08:41:10.859061Z"
        },
        "papermill": {
          "duration": 0.076324,
          "end_time": "2024-05-24T08:41:10.862152",
          "exception": false,
          "start_time": "2024-05-24T08:41:10.785828",
          "status": "completed"
        },
        "tags": [],
        "id": "5801e076",
        "outputId": "4d8f016d-06b8-4aed-fd89-625ab2637bc9"
      },
      "outputs": [
        {
          "data": {
            "text/plain": [
              "\"Whilst I'm no expert I listened to a very good segment on LBC recently (uk talkback radio) that explained that the men are more likely to commit such abuse but the percentages of women abusers are skewed lower due to several cultural issues such as: 1. Women are automatically perceived as peaceful nurturers where as men are aggressive physicals. 2. Children are less likely to call abuse against female family members as they are less likely to be believed. 3. Female abuse is (wrongly) perceived in many cases as being invited especially where the victim is slightly older i.e. Boys must like it right. This is the one cultural aspect I hate the most because a male teacher/person in trust (for example) is automatically in the wrong and a female teacher is more likely to go free / have no charges / have no abuse claim made. Don't get me wrong - male abusers are still the largest statistic but to deny there is an issue with female abuse harms the ability of our children to come forward. It isn't more common in men. Men are just punished much more severely and much more often than women are. If you have a male teacher aged 35 who has sex with a student aged 13, he's lucky if he survives to go to jail because of the lynch mob. Genders are reversed and people make fun of the 13 year old boy if he objects and talk about how lucky he is and all that stuff. Basing your conclusions on the people convicted is going to lead to a very skewed image and has various flaws - Not all people convicted for child sex abuse are pedophiles (yes, there is a distinction and children can get abused by people who are not specifically pedophiles). Additionally, not all people who commit child sex abuse are convicted. - Not all pedophiles abuse children. There is also a group that manages to control their impulses and seeing that just having thoughts is not illegal, these people don't end up in jail and don't end up in your statistics - It's documented that for a good number of crimes, women often get less punishment than men. When it gets to these sort of crimes, women do more often end up not being prosecuted (or even investigated) than men. So there is another thing that will skew your statistics. The fact is that it is incredibly hard for us to really know if it is true that the majority of pedophiles are men because pretty much every way we have of collecting data on this subject is pretty flawed (conviction statistics obviously don't work, self reported statistics are usually skewed as well). Then, even if we do end up with data that more men are pedophiles, it's still harder to determine if this is due to some biologic reason or if there is societal reasons for why we measure what we measure (for example, could it be that due to our tendency to look at men with more distrust when it comes to children, we are pretty good at spotting male pedophiles, but completely overlook female ones) Because female abusers are often unreported or for the most part disregarded. I see constant stories of teachers having relations with younger boys and people just kind of shrug it off and even joke about it. Women are also naturally perceived as nurturing. If you ever see those health class videos they also always, and I mean always, depict someone like the weird uncle or father as the abuser, never the aunt. Stereotypes and gender roles often make women less suceptable to being arrested as well as discouraging victims from coming out. It isn't. Haven't you seen all the grown women at concerts for the Justin Beiber when he was underage or those other teeny popper bands.\""
            ]
          },
          "execution_count": 9,
          "metadata": {},
          "output_type": "execute_result"
        }
      ],
      "source": [
        "val_data['answers'] = concatenate_val_answer\n",
        "val_data['answers'][0]"
      ]
    },
    {
      "cell_type": "markdown",
      "id": "4d1d7d3b",
      "metadata": {
        "papermill": {
          "duration": 0.061603,
          "end_time": "2024-05-24T08:41:10.988226",
          "exception": false,
          "start_time": "2024-05-24T08:41:10.926623",
          "status": "completed"
        },
        "tags": [],
        "id": "4d1d7d3b"
      },
      "source": [
        "## 2-3 convert dict to dataframe"
      ]
    },
    {
      "cell_type": "code",
      "execution_count": null,
      "id": "02321290",
      "metadata": {
        "execution": {
          "iopub.execute_input": "2024-05-24T08:41:11.117376Z",
          "iopub.status.busy": "2024-05-24T08:41:11.116398Z",
          "iopub.status.idle": "2024-05-24T08:41:11.174150Z",
          "shell.execute_reply": "2024-05-24T08:41:11.173164Z"
        },
        "papermill": {
          "duration": 0.126505,
          "end_time": "2024-05-24T08:41:11.176779",
          "exception": false,
          "start_time": "2024-05-24T08:41:11.050274",
          "status": "completed"
        },
        "tags": [],
        "id": "02321290",
        "outputId": "6dc64f68-4936-47bc-a7b4-b98f9810cf59"
      },
      "outputs": [
        {
          "name": "stdout",
          "output_type": "stream",
          "text": [
            "Training data\n"
          ]
        },
        {
          "data": {
            "text/html": [
              "<div>\n",
              "<style scoped>\n",
              "    .dataframe tbody tr th:only-of-type {\n",
              "        vertical-align: middle;\n",
              "    }\n",
              "\n",
              "    .dataframe tbody tr th {\n",
              "        vertical-align: top;\n",
              "    }\n",
              "\n",
              "    .dataframe thead th {\n",
              "        text-align: right;\n",
              "    }\n",
              "</style>\n",
              "<table border=\"1\" class=\"dataframe\">\n",
              "  <thead>\n",
              "    <tr style=\"text-align: right;\">\n",
              "      <th></th>\n",
              "      <th>questions</th>\n",
              "      <th>answers</th>\n",
              "      <th>scores</th>\n",
              "    </tr>\n",
              "  </thead>\n",
              "  <tbody>\n",
              "    <tr>\n",
              "      <th>0</th>\n",
              "      <td>Why do Marvel movies (and other heavily CGI- a...</td>\n",
              "      <td>I work in film and have a VFX degree and here'...</td>\n",
              "      <td>[10751, 8991, 1222, 297, 153, 124, 106, 58, 36...</td>\n",
              "    </tr>\n",
              "    <tr>\n",
              "      <th>1</th>\n",
              "      <td>when elephants suck water with their trunks, h...</td>\n",
              "      <td>Imagine having a straw in glass of water. Now ...</td>\n",
              "      <td>[7, 4]</td>\n",
              "    </tr>\n",
              "    <tr>\n",
              "      <th>2</th>\n",
              "      <td>Why is it that I sometimes get just one single...</td>\n",
              "      <td>They’re not taste buds, they’re lingual papill...</td>\n",
              "      <td>[32, 21]</td>\n",
              "    </tr>\n",
              "    <tr>\n",
              "      <th>3</th>\n",
              "      <td>What exactly is a coma and how does our body d...</td>\n",
              "      <td>A coma is a state of unconsciousness which som...</td>\n",
              "      <td>[789, 16, 7, 4]</td>\n",
              "    </tr>\n",
              "    <tr>\n",
              "      <th>4</th>\n",
              "      <td>Why is it harder to learn things as an adult?</td>\n",
              "      <td>it's not harder. it's just that by the time yo...</td>\n",
              "      <td>[4]</td>\n",
              "    </tr>\n",
              "  </tbody>\n",
              "</table>\n",
              "</div>"
            ],
            "text/plain": [
              "                                           questions  \\\n",
              "0  Why do Marvel movies (and other heavily CGI- a...   \n",
              "1  when elephants suck water with their trunks, h...   \n",
              "2  Why is it that I sometimes get just one single...   \n",
              "3  What exactly is a coma and how does our body d...   \n",
              "4      Why is it harder to learn things as an adult?   \n",
              "\n",
              "                                             answers  \\\n",
              "0  I work in film and have a VFX degree and here'...   \n",
              "1  Imagine having a straw in glass of water. Now ...   \n",
              "2  They’re not taste buds, they’re lingual papill...   \n",
              "3  A coma is a state of unconsciousness which som...   \n",
              "4  it's not harder. it's just that by the time yo...   \n",
              "\n",
              "                                              scores  \n",
              "0  [10751, 8991, 1222, 297, 153, 124, 106, 58, 36...  \n",
              "1                                             [7, 4]  \n",
              "2                                           [32, 21]  \n",
              "3                                    [789, 16, 7, 4]  \n",
              "4                                                [4]  "
            ]
          },
          "metadata": {},
          "output_type": "display_data"
        },
        {
          "name": "stdout",
          "output_type": "stream",
          "text": [
            "Validataion:\n"
          ]
        },
        {
          "data": {
            "text/html": [
              "<div>\n",
              "<style scoped>\n",
              "    .dataframe tbody tr th:only-of-type {\n",
              "        vertical-align: middle;\n",
              "    }\n",
              "\n",
              "    .dataframe tbody tr th {\n",
              "        vertical-align: top;\n",
              "    }\n",
              "\n",
              "    .dataframe thead th {\n",
              "        text-align: right;\n",
              "    }\n",
              "</style>\n",
              "<table border=\"1\" class=\"dataframe\">\n",
              "  <thead>\n",
              "    <tr style=\"text-align: right;\">\n",
              "      <th></th>\n",
              "      <th>questions</th>\n",
              "      <th>answers</th>\n",
              "      <th>scores</th>\n",
              "    </tr>\n",
              "  </thead>\n",
              "  <tbody>\n",
              "    <tr>\n",
              "      <th>0</th>\n",
              "      <td>why is paedophilia so much more common in men ...</td>\n",
              "      <td>Whilst I'm no expert I listened to a very good...</td>\n",
              "      <td>[22, 12, 6, 5, 4]</td>\n",
              "    </tr>\n",
              "    <tr>\n",
              "      <th>1</th>\n",
              "      <td>Why is it okay to make fun of people who are f...</td>\n",
              "      <td>Honestly I don't know but as a southerner I fi...</td>\n",
              "      <td>[5]</td>\n",
              "    </tr>\n",
              "    <tr>\n",
              "      <th>2</th>\n",
              "      <td>Why do we, as humans, crave social interaction...</td>\n",
              "      <td>Lots of people prefer to do things on their ow...</td>\n",
              "      <td>[3]</td>\n",
              "    </tr>\n",
              "    <tr>\n",
              "      <th>3</th>\n",
              "      <td>What was Nietzche's philosophy, exactly?</td>\n",
              "      <td>Nietzsche's \"Ubermensch\" is the goal that soci...</td>\n",
              "      <td>[686, 172, 69, 35, 26, 10, 7, 7, 6, 3, 3]</td>\n",
              "    </tr>\n",
              "    <tr>\n",
              "      <th>4</th>\n",
              "      <td>The Political Spectrum</td>\n",
              "      <td>The political spectrum varies widely from coun...</td>\n",
              "      <td>[11]</td>\n",
              "    </tr>\n",
              "  </tbody>\n",
              "</table>\n",
              "</div>"
            ],
            "text/plain": [
              "                                           questions  \\\n",
              "0  why is paedophilia so much more common in men ...   \n",
              "1  Why is it okay to make fun of people who are f...   \n",
              "2  Why do we, as humans, crave social interaction...   \n",
              "3           What was Nietzche's philosophy, exactly?   \n",
              "4                             The Political Spectrum   \n",
              "\n",
              "                                             answers  \\\n",
              "0  Whilst I'm no expert I listened to a very good...   \n",
              "1  Honestly I don't know but as a southerner I fi...   \n",
              "2  Lots of people prefer to do things on their ow...   \n",
              "3  Nietzsche's \"Ubermensch\" is the goal that soci...   \n",
              "4  The political spectrum varies widely from coun...   \n",
              "\n",
              "                                      scores  \n",
              "0                          [22, 12, 6, 5, 4]  \n",
              "1                                        [5]  \n",
              "2                                        [3]  \n",
              "3  [686, 172, 69, 35, 26, 10, 7, 7, 6, 3, 3]  \n",
              "4                                       [11]  "
            ]
          },
          "metadata": {},
          "output_type": "display_data"
        }
      ],
      "source": [
        "train_data_df = pd.DataFrame(train_data)\n",
        "val_data_df  = pd.DataFrame(val_data)\n",
        "print('Training data')\n",
        "display(train_data_df.head(5))\n",
        "print('Validataion:')\n",
        "display(val_data_df.head(5))"
      ]
    },
    {
      "cell_type": "markdown",
      "id": "aa42fe1b",
      "metadata": {
        "papermill": {
          "duration": 0.063435,
          "end_time": "2024-05-24T08:41:11.308211",
          "exception": false,
          "start_time": "2024-05-24T08:41:11.244776",
          "status": "completed"
        },
        "tags": [],
        "id": "aa42fe1b"
      },
      "source": [
        "## 2-4 Use a structure for model input"
      ]
    },
    {
      "cell_type": "code",
      "execution_count": null,
      "id": "4888fc8e",
      "metadata": {
        "execution": {
          "iopub.execute_input": "2024-05-24T08:41:11.439709Z",
          "iopub.status.busy": "2024-05-24T08:41:11.439329Z",
          "iopub.status.idle": "2024-05-24T08:41:11.488258Z",
          "shell.execute_reply": "2024-05-24T08:41:11.487285Z"
        },
        "id": "4888fc8e",
        "papermill": {
          "duration": 0.118606,
          "end_time": "2024-05-24T08:41:11.490349",
          "exception": false,
          "start_time": "2024-05-24T08:41:11.371743",
          "status": "completed"
        },
        "tags": []
      },
      "outputs": [],
      "source": [
        "# Concatenate 'Question' and 'Answer' columns into a new column 'text'\n",
        "train_data_df['text'] = 'Question:\\n' + train_data_df['questions'] + '\\n\\nAnswer:\\n' + train_data_df['answers']\n",
        "val_data_df['text'] = 'Question:\\n' + val_data_df['questions'] + '\\n\\nAnswer:\\n' + val_data_df['answers']\n",
        "train_data_df.drop(labels=['questions','answers','scores'],axis=1,inplace=True)\n",
        "val_data_df.drop(labels=['questions','answers','scores'],axis=1,inplace=True)"
      ]
    },
    {
      "cell_type": "code",
      "execution_count": null,
      "id": "b7c3c1e7",
      "metadata": {
        "execution": {
          "iopub.execute_input": "2024-05-24T08:41:11.621366Z",
          "iopub.status.busy": "2024-05-24T08:41:11.620966Z",
          "iopub.status.idle": "2024-05-24T08:41:11.634889Z",
          "shell.execute_reply": "2024-05-24T08:41:11.633866Z"
        },
        "papermill": {
          "duration": 0.081059,
          "end_time": "2024-05-24T08:41:11.636863",
          "exception": false,
          "start_time": "2024-05-24T08:41:11.555804",
          "status": "completed"
        },
        "tags": [],
        "id": "b7c3c1e7",
        "outputId": "0713088b-9b9a-4783-bac0-7250f1ec8ee9"
      },
      "outputs": [
        {
          "data": {
            "text/html": [
              "<div>\n",
              "<style scoped>\n",
              "    .dataframe tbody tr th:only-of-type {\n",
              "        vertical-align: middle;\n",
              "    }\n",
              "\n",
              "    .dataframe tbody tr th {\n",
              "        vertical-align: top;\n",
              "    }\n",
              "\n",
              "    .dataframe thead th {\n",
              "        text-align: right;\n",
              "    }\n",
              "</style>\n",
              "<table border=\"1\" class=\"dataframe\">\n",
              "  <thead>\n",
              "    <tr style=\"text-align: right;\">\n",
              "      <th></th>\n",
              "      <th>text</th>\n",
              "    </tr>\n",
              "  </thead>\n",
              "  <tbody>\n",
              "    <tr>\n",
              "      <th>0</th>\n",
              "      <td>Question:\\nWhy do Marvel movies (and other hea...</td>\n",
              "    </tr>\n",
              "    <tr>\n",
              "      <th>1</th>\n",
              "      <td>Question:\\nwhen elephants suck water with thei...</td>\n",
              "    </tr>\n",
              "    <tr>\n",
              "      <th>2</th>\n",
              "      <td>Question:\\nWhy is it that I sometimes get just...</td>\n",
              "    </tr>\n",
              "    <tr>\n",
              "      <th>3</th>\n",
              "      <td>Question:\\nWhat exactly is a coma and how does...</td>\n",
              "    </tr>\n",
              "    <tr>\n",
              "      <th>4</th>\n",
              "      <td>Question:\\nWhy is it harder to learn things as...</td>\n",
              "    </tr>\n",
              "  </tbody>\n",
              "</table>\n",
              "</div>"
            ],
            "text/plain": [
              "                                                text\n",
              "0  Question:\\nWhy do Marvel movies (and other hea...\n",
              "1  Question:\\nwhen elephants suck water with thei...\n",
              "2  Question:\\nWhy is it that I sometimes get just...\n",
              "3  Question:\\nWhat exactly is a coma and how does...\n",
              "4  Question:\\nWhy is it harder to learn things as..."
            ]
          },
          "metadata": {},
          "output_type": "display_data"
        },
        {
          "data": {
            "text/html": [
              "<div>\n",
              "<style scoped>\n",
              "    .dataframe tbody tr th:only-of-type {\n",
              "        vertical-align: middle;\n",
              "    }\n",
              "\n",
              "    .dataframe tbody tr th {\n",
              "        vertical-align: top;\n",
              "    }\n",
              "\n",
              "    .dataframe thead th {\n",
              "        text-align: right;\n",
              "    }\n",
              "</style>\n",
              "<table border=\"1\" class=\"dataframe\">\n",
              "  <thead>\n",
              "    <tr style=\"text-align: right;\">\n",
              "      <th></th>\n",
              "      <th>text</th>\n",
              "    </tr>\n",
              "  </thead>\n",
              "  <tbody>\n",
              "    <tr>\n",
              "      <th>0</th>\n",
              "      <td>Question:\\nwhy is paedophilia so much more com...</td>\n",
              "    </tr>\n",
              "    <tr>\n",
              "      <th>1</th>\n",
              "      <td>Question:\\nWhy is it okay to make fun of peopl...</td>\n",
              "    </tr>\n",
              "    <tr>\n",
              "      <th>2</th>\n",
              "      <td>Question:\\nWhy do we, as humans, crave social ...</td>\n",
              "    </tr>\n",
              "    <tr>\n",
              "      <th>3</th>\n",
              "      <td>Question:\\nWhat was Nietzche's philosophy, exa...</td>\n",
              "    </tr>\n",
              "    <tr>\n",
              "      <th>4</th>\n",
              "      <td>Question:\\nThe Political Spectrum\\n\\nAnswer:\\n...</td>\n",
              "    </tr>\n",
              "  </tbody>\n",
              "</table>\n",
              "</div>"
            ],
            "text/plain": [
              "                                                text\n",
              "0  Question:\\nwhy is paedophilia so much more com...\n",
              "1  Question:\\nWhy is it okay to make fun of peopl...\n",
              "2  Question:\\nWhy do we, as humans, crave social ...\n",
              "3  Question:\\nWhat was Nietzche's philosophy, exa...\n",
              "4  Question:\\nThe Political Spectrum\\n\\nAnswer:\\n..."
            ]
          },
          "metadata": {},
          "output_type": "display_data"
        }
      ],
      "source": [
        "display(train_data_df.head(5))\n",
        "display(val_data_df.head(5))"
      ]
    },
    {
      "cell_type": "code",
      "execution_count": null,
      "id": "21571b05",
      "metadata": {
        "execution": {
          "iopub.execute_input": "2024-05-24T08:41:11.769614Z",
          "iopub.status.busy": "2024-05-24T08:41:11.769246Z",
          "iopub.status.idle": "2024-05-24T08:41:11.775092Z",
          "shell.execute_reply": "2024-05-24T08:41:11.774076Z"
        },
        "id": "21571b05",
        "outputId": "8ce8dc97-dbd9-4bdc-b47e-1c7313f3e52e",
        "papermill": {
          "duration": 0.076986,
          "end_time": "2024-05-24T08:41:11.778631",
          "exception": false,
          "start_time": "2024-05-24T08:41:11.701645",
          "status": "completed"
        },
        "tags": []
      },
      "outputs": [
        {
          "name": "stdout",
          "output_type": "stream",
          "text": [
            "Question:\n",
            "Why do Marvel movies (and other heavily CGI- and animation-based films) cost so much to produce? Where do the hundreds of millions of dollars go to, exactly?\n",
            "\n",
            "Answer:\n",
            "I work in film and have a VFX degree and here's how it goes: 1. About half the money, give or take, is for above the line talent. So you have your actors, directors, producers, ect. They get paid in a percentage or in absurdly high amounts for films. These people are also accommodate on set so production has to rent out luxury campers to house them for weeks or months at a time when on location. Then they need to hire drivers and trucks to move those campers. Top tier stars can make demands on top of that. I saw Jim Carrey's camper once and it had an entire astroturf lawn on top of it, with a picnic table, with a vase with flowers on it. Don't ask me why he wanted it, he just did. Those costs are in addition to percentages given to the talent directly, which can be millions each for an A list celebrity. If this is a movie like Infinity War you have multiple guys like RDJ and Cumberbach and like four guy named Chris who could carry a blockbuster on their own and want to be paid like it. 2. Actors who aren't the main cast still have to show up and get paid. Every random dude you see in the background is an actor who's in it to get paid. If you see a big crowd shot of like 500 people that means that's 500 people who had to show up, go through makeup and costumes, and be accommodated and then be paid. 3. What you have left over has to pay for production. At minimum it costs like thirty thousand dollars a day just to hire people to actually operate the cameras and set up lights and they usually work 12 hour days and have unions that demand good rates including overtime. This is a very basic cost for a minimum crew for a single day where you get maybe a few minutes of footage done. If you have those big 500 background days you need people to get people to manage those people. If you have complicated shots you need more people for that. 4. If you're out on location you need to pay the people who own that property. This can cost millions in and of itself if you need time and they know you have money. You also need to pay an entire team of people to show up and get the location ready, which means emptying out whatever furniture is there and replacing it with your own stuff you have to buy. These people are probably also working heavy overtime and have a union demanding pay accordingly. If you decide that isn't worth it then you need to get a studio and build the entire fake set from scratch, or pay a company to recreate it with CG, which isn't cheap either way. 5. This doesn't count the cost for pre and post production, which is two thirds of the process. You have writers, editors, storyboarders, previz, color grading, foley, and a dozen other departments that have to do work before or after the actual shoot. CG comes here in various phases and obviously isn't cheap. On a Marvel movie if you sit through all of the credits you'll usually see like 8 other companies contracted out to do this and that and if you actually follow through and look up those companies they have big impressive shot breakdowns of what they did and a crew of a hundred plus people who may or may not also be credited. If you sit through the whole credits of a Marvel movie you probably have thousands of individual names and there are probably three digits worth of people who didn't even make that list. Those guys don't work for free. This shit ain't student film. CG is very expensive. CG artists are specialists and in high demand. Making a big budget CG blockbuster like an Avengers film employs hundreds of them for years. The personnel costs alone are crazy. Actually rendering all that CG also eats up a huge amount of time on very valuable, very powerful computers. First thing is actors take a lot of money. Then, for cg heavy work, there are several people doing one single element going from concept, modeling, texturing' rigging, animating, lighting, environement, digital matte painting, paint & roto and compositing. All of those are jobs done usually by different individual... without counting the production/support team that manages the asset and production. Or even the shooting crews. So for, let's say a space ship, you have weeks or months of very specialized work. When you consider stuff like Avengers, there are dozens of individual elements in shots with their unique characteristics. This gets expensive very fast. Source: am a visual effect artist on movies During the credits pay attention to the different CGI studios. For captain marvel I counted around seven different companies doing CGI. It's a very rough estimate but I think it gives a good sense of scale. There are hundreds of people involved just in the CGI and each of those companies has to turn a profit too. 100 CG artists * $125,000 * 1 year = $12.5M easy if they nail if the first time. Which they won't. Then add producers, project managers, leads, storyboards, etc. You get to $25M to $30M in CG real fast if you look at the math. The credits literally show the hundreds of people involved in just the CGI. It’s crazy how much time and manpower it takes to add all these effects. 1. CGI studios. 2. Actors. 3. Other support crew. 4. Movies are made by a temporary company. The company is set up not to make money. All the profits go to people, the parent company, and buying property/items. Since the temporary company doesn't make money they don't pay any taxes to the government. So the more money spent by the temporary company the better. 5. Marketing. Thought this money is often not included in the money to make figure. When you think about a movie getting made, you probably have an image a bunch of an actors on a set and a director yelling “action.” That is just the factory floor part of the process and it represents a TINY sliver of time and money for everything that must happen to make a finished movie. From start to finish, a typical movie takes about 7 years to get made, though Marvel’s got it down to 4-5 years per film because they plan things out so far in advance. A typical high end “tent pole” movie has a production budget of about $200,000,000. Every movie is different, but typically breaks down like this: 30% — “above the line” expenses. These include, in order of most expensive to least expensive: -cast + fringes -producer’s fees (the people or person who spent years, sometimes decades, getting every thing in order) -Director’s fees + fringes -chain of title (all the licensing fees and legal expenses to get permission to use the intellectual property of others.) except for Robert Downey (who now gets $20mil per Avengers movie), marvel stars actually don’t make as much money as you’d think. The headliners (Thor, Bruce banner, capt America, etc...) get about $2-5m per headlining movie or avengers appearance. But here’s the thing: there are a LOT of characters in marvel movies! Even fees paid for cheaper cameo appearances add up quickly. Movie stars aren’t expensive because they’re greedy assholes, they’re expensive because you have to outbid whatever other producers are willing to pay them. Oh, and guess what? For every $1 you pay an actor, you have to pay an additional $0.33 in union fees and taxes (we call these “fringes”). Same goes for your director, who will command a fee from $3-10m. So what if you do a deal with a star actor for $3m and change your mind, or your financier wants somebody different, or that actor gets caught up in some kind of scandal and you don’t want them in the movie? You still have to pay them the full amount even if they don’t do shit. This is called “pay or play” dealmaking and it’s unfortunately the new normal. 30% — “below the line”, development, and physical production expenses. In order most to least: -Sets/props/wardrobe (called “Art department”) -Special Effects (not to be confused with visual effects) -Production management -Writers, script development, visual development, fringes -Lighting and electrical -Camera department and cinematographer -Extras and “under five lines” cast -Crew & production staff 10%— insurance, studio overhead, and legal. 30% — “post production”... or, everything that turns hundreds of hours of footage into a finished product. In order: -visual effects (CGI, etc...) -Editing -Post production management staff -Music licensing (pop songs heard in movie, etc...) -Color correction and mastering -Score and orchestration -Sound and dialog editing (sound effects, etc...) -Sound mixing -Final authoring. All of this gets you a MOVIE, but if you want to distribute the movie to theaters, run ads, make a trailer, promote the movie, build promotional tie-in campaigns with McDonald’s, etc.... you need another $100-$150m. (This is called “P & A” and it’s separate from the movie’s reported budget.) Also notice how little the Visual Effects budget is compared to the fact that 80-90% of all shots in a Marvel movie require some kind of visual effects work. This is one of the reasons why VFX artists are the most demanded individuals in the industry, and yet they continue to get screwed over financially. They come into the picture at the very end when the project has already gone way over budget and spent most of the money. Also not included in this breakdown are the salaries and expenses of all of the studio heads and executives not covered by studio overhead. Tl;dr effects-driven movies are fucking crazy expensive because they have an absurd amount of moving parts and failure points across many many years of development and production. Source: I’m a DGA director and PGA producer. In addition to what everyone else have said, new CG techniques were often developed on the fly specifically for that film instead of recycling techniques from other films. Inevitably, this takes a lot of computing time with expensive equipment to test and experiment. i am creating low quality cgi on an avarage computer. 25 seconds of a movie takes 4-5 hours to render. if you activate shaders like ambiant occlusion it will be 1.5 as long. most of my movies are without mirror effects. in the real world you have got millions of reflecting surfaces and each one of them will ruin the reality effect in a movie, if it works wrong. and this is only one of the many effects that make such movies expensive. It been already said but A list actor price are nuts. Say you want to make a iron man movie the lead actor wants his £20m. You have to pay him as he is the face of the franchise. Now try do that in avangers with multiple film franchise all with lead actors wanting major cash. Non of them are going to turn up for small change. Effects are only as good as the budget. You can make the same plot for very different sums of money in terms of effects. When you have the budget you just show more to the audience. Or do it better, more realism etc. I work in this industry so I can help answer. The largest portion of the money goes towards actors (not CGI, like most of this thread is stating). If you take Infinity War for example, an estimated 300 to 400 million budget, the actors take home (reported estimates) approx. 184 million. Factor in every single other person on set, vehicle rentals, re-shoots, food, hotels, flights, trailers etc. and that number easily climbs to over 200 million. So you have less than 45ish% of the budget reserved for post production. Now when you consider how extensive the CGI has to be in these movies, it's a steal. Artists can be expensive. Compared to actors though, they're plebs. Everyone's answer here is more or less about CG. And while I truly tried explaining this like you were five, that's pretty difficult lol.. So I'll do a very general breakdown for you. **Development Salaries** (Writers, Producers) **Pre-Production Salaries** (storyboard artists, director, producers, writers, pre-vis artists, location managers, SFX supervisors, legal, etc etc etc etc) **Pre-Production Materials/Misc Costs** (office supplies, gasoline, office rental, vehicle rentals, insurance (multi-hundred million dollar plans), etc etc etc etc.) **Production Gear [Grip and Electric]** (stands, lights, stingers, dollies, expendables (consumables like tape and gels), clamps, etc etc etc. **Production Gear [Camera]** (Cameras, lenses, kits, AXS, etc etc etc.) **Production Costs [Production]** (trailer rentals, office supplies, location permits, talent insurance, production liability insurance, location insurance, etc etc etc) **Production Personnel** (Literally EVERYONE, and this also includes people who are doing post-production while shooting is still going on) **Post Production Salaries** (Editors, CG Artists, SFX artists, Post Production Supervisors, Foley Supervisors, ADR Supervisors, Computers and various equipment etc etc etc etc etc etc etc. This list is often longer than any of the previous lists) These budgets can range anywhere from very little to over 400million dollars on a modern day scale. P & A (Prints and Advertisements) often cost just as much as the production itself, but it's never an \"official\" figure in the public budget. Therefore, a 400m budget blockbuster will likely cost upwards of 800m. At the end of the day, some movies can have between 10,000-20,000 or more different unique people working on it. If each of these people are getting paid five digits, sometimes more, sometimes WAY more, it's not hard to get to 200, 300, 400m dollar budgets. It's kind of bizarre to me how some marvel movie that will be forgotten in a few years costs probably about as much what it will cost to restore Notre Dame. It's not just paying the salary of animators etc. They also pay for engineers etc to research NEW ways to animate things. When it comes to something cutting edge realistic, It's not JUST putting more compute power into it. You are running physics simulations that need to be so precise they require a lot of very well paid and very smart engineers to come up with ways to make things run smoothly. & the other comments here too Back in Avengers 1, the most CGI heavy scene was a Hulk fight scene, it took 7 hours to render a single frame. In a single frame, there was the raw footage that has to be composed, green screen that has to be chroma keyed, parts have to be rotoscoped, CGI models to be made, rigged, UVed, textured, animated, particles added, hair and cloth simulated, physics applied to damage, lighting adjusted, blur and focus adjusted to fit the camera settings, colour graded, and many more processes involved before rendering and edited into the final cut. In this single frame that took 7 hours, it involved the work of hundreds if not thousands of cast and crew, each experts in their field and have to be paid accordingly. Cast salaries can total 50-100 million if it is the Avengers. Scarlett Johansson and Robert Downey Jr making 20+ million (depending on box office) adds up. The lesser characters are usually taking home 2-5 Million. TL;DR -- because in heavily CGI films, every frame is a painting. Worse, it's a painting that moves, and people's eyes have millions of years of evolution to make them really good at catching visual discrepancies even when they're not looking for them, so you have to spend a lot of time getting everything just right. Longer version: The cost of a big action movie can be broken down into three parts: * the people you see * the stuff you see * the stuff you don't see So Infinity War cost $300 million. We'll just say they're roughly equal, which isn't too far off for a lot of movies. That means: * $100 million for the specific actors (they can ask for a lot because they're the most recognizable thing about movies) * $100 million for all the people's time and effort it takes to make the things you see go from \"I can tell what's happening\" to \"wow that seems realistic\" to, even better, not really noticing the CGI at all, even when you know it is CGI * $100 million for all the camera equipment, computers, studios (I mean literally studio, the place where you film something), travel, and other things that you never see in the film but which have to happen so that people can shoot the scenes and then make them better. Big action movies are really popular, so all three of those cost more, although for different reasons: * Actors who have made a name for themselves or who are doing a sequel can charge more for action movies, and film companies will pay it, because everybody agrees it's more likely to be a success than if it was a different actor. * Audiences expect big CGI movies to impress them (particularly sequels), so, whereas some movies try to set up FX scenes to make the effects easier (like with standard tricks of camera angle and editing), big CGI movies set up scenes to make the effects *harder*, which also makes them more expensive. For example, think of when Thanos first shows up in Infinity War. This is a really important scene because it introduces a giant purple guy who isn't real, and if he looks fake then the whole movie will suffer. The filmmakers wanted to make Thanos look and *feel* real, so he's introduced with a difficult and expensive shot: a long-take where the camera pans from a real-life person (Loki) to Thanos, he picks up a real-life person (Thor), carries him around and drops him, and then the camera pans back to the real-life person (Loki). Human eyes and brains are really good at picking up subtle differences in what they see, so this kind of shot takes a ton of work to make it look real -- everything from making Thanos's movement line up with the real-life person he's carrying, to making his body move like a real person with real gravity and real mass, to making sure the ambient light affects him the same way it affects the real person and the objects around him, so he is in the same color palette with the same lighting sources. For a shot like this, it takes a lot of time to plan it all out, film it correctly (it's really problematic if you messed up the filming and need to do it again later), and then work out the details. It'll never look and feel real unless a whole team of people spend days making every detail work. The computers help a lot, but someone has to keep messing with a thousand little details by hand for every single frame. * Of course, a shot like that couldn't happen if we didn't have a big studio, with a ton of staging equipment, and a ton of expensive cameras (and microphones and light sensors and stuff like that), and all the people brought there with airplanes and cars and put up in hotels and with food for all of them plus the people who take care of all that stuff. And then we couldn't do the effects to it later without a completely different place that was filled with also-expensive equipment, like big powerful computers with lots of big screens and specialized computer software. Could this be done more cheaply? Perhaps, but not easily so. Think of, say, Neill Blomkamp, a writer/director who opened his own studio with his own exceptional FX team. He made District 9 with $30 million, and he figured he could make a feature-length version of Firebase for the same. That is probably as efficient as a CGI-heavy film could go and still look not just good but *impressive*, and that's not nearly as \"big\" a movie as Infinity War (in terms of numbers of famous actors, size of 'set piece' action sequences, etc) and involves a whole lot of things in his favor, including his own unusual talent to work in good FX with a modest budget, solid actors willing to work on a new property for a comparatively reduced fee, and total integration of the studio and FX work. And if he made it and it succeeded, you can guarantee any sequel would cost even more, because actors would be able to demand more and because he'd try to make it more impressive, as described above. Generally pay is very good for technical and support crew also. A sound recordist would make around £500 a day. Crews would be massive on films like this. The crew cost total at the end when you factor in how long they take and reshoots would be massive on top of cgi, actors etc. Animation guy here, an average film has about 1200 shots, a blockbuster action film can have 3000. On Dr Strange I worked on 7 shots for about 6 months. And that’s just animation, after I’m done it goes to cfx, vfx, lighting, render, comp etc. The studio I used to work for has hundreds of people employed over various projects. Say theres 500 employees getting an average of 4k a month, that’s 2 million a month on wages alone. CG is expensive, film quality work doubly so. Lots of different studios will work on different parts of the film. like i remember some behind the scenes thing for Ironman 1, this one studios’ entire task was the 5-10s scene where he oneshots a tank that knocked him out of the sky and walks away. Not even the whole sequence, just the part where he fires his own missile, turns and walks off. Then another studio did the HUD for the suits, another one did Stark’s holographic interface for his workshops, yet another did Iron Monger chasing the SHIELD agents... etc. Lots and lots and lots of studios, or lots and lots of individual teams within some of the bigger studios.\n"
          ]
        }
      ],
      "source": [
        "print(train_data_df['text'].loc[0])"
      ]
    },
    {
      "cell_type": "markdown",
      "id": "10d51aec",
      "metadata": {
        "papermill": {
          "duration": 0.066586,
          "end_time": "2024-05-24T08:41:11.913166",
          "exception": false,
          "start_time": "2024-05-24T08:41:11.846580",
          "status": "completed"
        },
        "tags": [],
        "id": "10d51aec"
      },
      "source": [
        "## 2-5 Turn dataframe to Hugging format"
      ]
    },
    {
      "cell_type": "code",
      "execution_count": null,
      "id": "3733bb34",
      "metadata": {
        "execution": {
          "iopub.execute_input": "2024-05-24T08:41:12.041639Z",
          "iopub.status.busy": "2024-05-24T08:41:12.041251Z",
          "iopub.status.idle": "2024-05-24T08:41:12.152703Z",
          "shell.execute_reply": "2024-05-24T08:41:12.151529Z"
        },
        "id": "3733bb34",
        "papermill": {
          "duration": 0.17817,
          "end_time": "2024-05-24T08:41:12.154955",
          "exception": false,
          "start_time": "2024-05-24T08:41:11.976785",
          "status": "completed"
        },
        "tags": [],
        "outputId": "e1d20ecc-c80f-4072-f1ee-22aaab11af02"
      },
      "outputs": [
        {
          "name": "stdout",
          "output_type": "stream",
          "text": [
            "Train\n"
          ]
        },
        {
          "data": {
            "text/plain": [
              "Dataset({\n",
              "    features: ['text'],\n",
              "    num_rows: 25000\n",
              "})"
            ]
          },
          "metadata": {},
          "output_type": "display_data"
        },
        {
          "name": "stdout",
          "output_type": "stream",
          "text": [
            "Validation\n"
          ]
        },
        {
          "data": {
            "text/plain": [
              "Dataset({\n",
              "    features: ['text'],\n",
              "    num_rows: 500\n",
              "})"
            ]
          },
          "metadata": {},
          "output_type": "display_data"
        }
      ],
      "source": [
        "#convert to Huggingface Datasets format\n",
        "train = Dataset.from_pandas(train_data_df)\n",
        "validation = Dataset.from_pandas(val_data_df)\n",
        "print('Train')\n",
        "display(train)\n",
        "print('Validation')\n",
        "display(validation)"
      ]
    },
    {
      "cell_type": "markdown",
      "id": "e476cfa1",
      "metadata": {
        "id": "e476cfa1",
        "papermill": {
          "duration": 0.065421,
          "end_time": "2024-05-24T08:41:12.290205",
          "exception": false,
          "start_time": "2024-05-24T08:41:12.224784",
          "status": "completed"
        },
        "tags": []
      },
      "source": [
        "# **Step 3: Load  base model and configuration**"
      ]
    },
    {
      "cell_type": "code",
      "execution_count": null,
      "id": "56a1f2ba",
      "metadata": {
        "execution": {
          "iopub.execute_input": "2024-05-24T08:41:12.429014Z",
          "iopub.status.busy": "2024-05-24T08:41:12.428273Z",
          "iopub.status.idle": "2024-05-24T08:41:12.433037Z",
          "shell.execute_reply": "2024-05-24T08:41:12.432032Z"
        },
        "id": "56a1f2ba",
        "papermill": {
          "duration": 0.07818,
          "end_time": "2024-05-24T08:41:12.435385",
          "exception": false,
          "start_time": "2024-05-24T08:41:12.357205",
          "status": "completed"
        },
        "tags": []
      },
      "outputs": [],
      "source": [
        "model_id = \"NousResearch/Llama-2-7b-chat-hf\""
      ]
    },
    {
      "cell_type": "markdown",
      "id": "3f131ca3",
      "metadata": {
        "papermill": {
          "duration": 0.063528,
          "end_time": "2024-05-24T08:41:12.567232",
          "exception": false,
          "start_time": "2024-05-24T08:41:12.503704",
          "status": "completed"
        },
        "tags": [],
        "id": "3f131ca3"
      },
      "source": [
        "## 3-1 Set BitsAndBytesConfig\n",
        "Quantization techniques aim to represent model weights and activations using lower-precision data types (e.g., 4-bit integers) instead of full precision (e.g., 16-bit floats).\n",
        "<!DOCTYPE html>\n",
        "<html lang=\"en\">\n",
        "<head>\n",
        "    <meta charset=\"UTF-8\">\n",
        "    <meta name=\"viewport\" content=\", initial-scale=1.0\">\n",
        "    <title></title>\n",
        "</head>\n",
        "<body>\n",
        "    <img src=\"https://drive.google.com/uc?export=view&id=1Y3ymMpJ4yWHUTs0fAYYJGFlQs_1bozvy\" width=\"30%\">\n",
        "</body>\n",
        "</html>\n"
      ]
    },
    {
      "cell_type": "code",
      "execution_count": null,
      "id": "f89e46c0",
      "metadata": {
        "execution": {
          "iopub.execute_input": "2024-05-24T08:41:12.698003Z",
          "iopub.status.busy": "2024-05-24T08:41:12.697633Z",
          "iopub.status.idle": "2024-05-24T08:41:12.704016Z",
          "shell.execute_reply": "2024-05-24T08:41:12.703091Z"
        },
        "id": "f89e46c0",
        "papermill": {
          "duration": 0.074868,
          "end_time": "2024-05-24T08:41:12.706134",
          "exception": false,
          "start_time": "2024-05-24T08:41:12.631266",
          "status": "completed"
        },
        "tags": []
      },
      "outputs": [],
      "source": [
        "# Get the type\n",
        "compute_dtype = getattr(torch, \"float16\")\n",
        "\n",
        "# BitsAndBytesConfig int-4 config\n",
        "bnb_config = BitsAndBytesConfig(\n",
        "    load_in_4bit=True,\n",
        "    bnb_4bit_use_double_quant=False,\n",
        "    bnb_4bit_quant_type=\"nf4\",\n",
        "    bnb_4bit_compute_dtype=compute_dtype\n",
        ")\n"
      ]
    },
    {
      "cell_type": "markdown",
      "id": "8e4df3c0",
      "metadata": {
        "papermill": {
          "duration": 0.065551,
          "end_time": "2024-05-24T08:41:12.837236",
          "exception": false,
          "start_time": "2024-05-24T08:41:12.771685",
          "status": "completed"
        },
        "tags": [],
        "id": "8e4df3c0"
      },
      "source": [
        "## 3-2 Set tokenizer\n",
        "\n",
        "<!DOCTYPE html>\n",
        "<html lang=\"en\">\n",
        "<head>\n",
        "    <meta charset=\"UTF-8\">\n",
        "    <meta name=\"viewport\" content=\", initial-scale=1.0\">\n",
        "    <title></title>\n",
        "</head>\n",
        "<body>\n",
        "    <img src=\"https://alvinntnu.github.io/NTNU_ENC2045_LECTURES/_images/bert-tokenizer.jpeg\" width=\"60%\">\n",
        "</body>\n",
        "</html>\n",
        "\n"
      ]
    },
    {
      "cell_type": "code",
      "execution_count": null,
      "id": "71963ae2",
      "metadata": {
        "execution": {
          "iopub.execute_input": "2024-05-24T08:41:12.975133Z",
          "iopub.status.busy": "2024-05-24T08:41:12.974040Z",
          "iopub.status.idle": "2024-05-24T08:41:13.084668Z",
          "shell.execute_reply": "2024-05-24T08:41:13.083262Z"
        },
        "id": "71963ae2",
        "outputId": "be20a50d-81da-467b-ce9f-444168a8bb8a",
        "papermill": {
          "duration": 0.182079,
          "end_time": "2024-05-24T08:41:13.086818",
          "exception": false,
          "start_time": "2024-05-24T08:41:12.904739",
          "status": "completed"
        },
        "tags": []
      },
      "outputs": [
        {
          "name": "stdout",
          "output_type": "stream",
          "text": [
            "CPU times: user 70.3 ms, sys: 1 ms, total: 71.3 ms\n",
            "Wall time: 103 ms\n"
          ]
        }
      ],
      "source": [
        "%%time\n",
        "# Load the tokenizer\n",
        "tokenizer = AutoTokenizer.from_pretrained(model_id, trust_remote_code=True)\n",
        "tokenizer.pad_token = tokenizer.eos_token # add padding to right ann addd eos token at the end\n",
        "tokenizer.padding_side = \"right\""
      ]
    },
    {
      "cell_type": "markdown",
      "id": "83755c7a",
      "metadata": {
        "papermill": {
          "duration": 0.067755,
          "end_time": "2024-05-24T08:41:13.224510",
          "exception": false,
          "start_time": "2024-05-24T08:41:13.156755",
          "status": "completed"
        },
        "tags": [],
        "id": "83755c7a"
      },
      "source": [
        "## 3-3 Call model"
      ]
    },
    {
      "cell_type": "code",
      "execution_count": null,
      "id": "09a481db",
      "metadata": {
        "execution": {
          "iopub.execute_input": "2024-05-24T08:41:13.354649Z",
          "iopub.status.busy": "2024-05-24T08:41:13.353962Z",
          "iopub.status.idle": "2024-05-24T08:43:10.297951Z",
          "shell.execute_reply": "2024-05-24T08:43:10.296770Z"
        },
        "id": "09a481db",
        "outputId": "7ea5c164-4276-47af-a097-1e85269d2ef0",
        "papermill": {
          "duration": 117.010077,
          "end_time": "2024-05-24T08:43:10.300296",
          "exception": false,
          "start_time": "2024-05-24T08:41:13.290219",
          "status": "completed"
        },
        "tags": [],
        "colab": {
          "referenced_widgets": [
            "1d42d5fd971d468bb0cfa3e5fb50588c",
            "99b11a7094da4d47a16865ae8e96bbac",
            "c0d4014c94be43e6a39bb8d76a0853d3",
            "a7ea2ae7627d4591875ec2fffe6063c3",
            "cb355727da2f4d718c56bdbb7552876e",
            "924f47704bc44c8ea73adcbbf4f729b2",
            "320e2a475fed4bc7a097063a6619e32d",
            "0267f8610f4048f6bff36cf5c486053b"
          ]
        }
      },
      "outputs": [
        {
          "data": {
            "application/vnd.jupyter.widget-view+json": {
              "model_id": "1d42d5fd971d468bb0cfa3e5fb50588c",
              "version_major": 2,
              "version_minor": 0
            },
            "text/plain": [
              "Downloading config.json:   0%|          | 0.00/661 [00:00<?, ?B/s]"
            ]
          },
          "metadata": {},
          "output_type": "display_data"
        },
        {
          "data": {
            "application/vnd.jupyter.widget-view+json": {
              "model_id": "99b11a7094da4d47a16865ae8e96bbac",
              "version_major": 2,
              "version_minor": 0
            },
            "text/plain": [
              "Downloading (…)fetensors.index.json:   0%|          | 0.00/23.9k [00:00<?, ?B/s]"
            ]
          },
          "metadata": {},
          "output_type": "display_data"
        },
        {
          "data": {
            "application/vnd.jupyter.widget-view+json": {
              "model_id": "c0d4014c94be43e6a39bb8d76a0853d3",
              "version_major": 2,
              "version_minor": 0
            },
            "text/plain": [
              "Downloading shards:   0%|          | 0/3 [00:00<?, ?it/s]"
            ]
          },
          "metadata": {},
          "output_type": "display_data"
        },
        {
          "data": {
            "application/vnd.jupyter.widget-view+json": {
              "model_id": "a7ea2ae7627d4591875ec2fffe6063c3",
              "version_major": 2,
              "version_minor": 0
            },
            "text/plain": [
              "Downloading (…)of-00003.safetensors:   0%|          | 0.00/4.94G [00:00<?, ?B/s]"
            ]
          },
          "metadata": {},
          "output_type": "display_data"
        },
        {
          "data": {
            "application/vnd.jupyter.widget-view+json": {
              "model_id": "cb355727da2f4d718c56bdbb7552876e",
              "version_major": 2,
              "version_minor": 0
            },
            "text/plain": [
              "Downloading (…)of-00003.safetensors:   0%|          | 0.00/4.95G [00:00<?, ?B/s]"
            ]
          },
          "metadata": {},
          "output_type": "display_data"
        },
        {
          "data": {
            "application/vnd.jupyter.widget-view+json": {
              "model_id": "924f47704bc44c8ea73adcbbf4f729b2",
              "version_major": 2,
              "version_minor": 0
            },
            "text/plain": [
              "Downloading (…)of-00003.safetensors:   0%|          | 0.00/3.59G [00:00<?, ?B/s]"
            ]
          },
          "metadata": {},
          "output_type": "display_data"
        },
        {
          "data": {
            "application/vnd.jupyter.widget-view+json": {
              "model_id": "320e2a475fed4bc7a097063a6619e32d",
              "version_major": 2,
              "version_minor": 0
            },
            "text/plain": [
              "Loading checkpoint shards:   0%|          | 0/3 [00:00<?, ?it/s]"
            ]
          },
          "metadata": {},
          "output_type": "display_data"
        },
        {
          "data": {
            "application/vnd.jupyter.widget-view+json": {
              "model_id": "0267f8610f4048f6bff36cf5c486053b",
              "version_major": 2,
              "version_minor": 0
            },
            "text/plain": [
              "Downloading generation_config.json:   0%|          | 0.00/183 [00:00<?, ?B/s]"
            ]
          },
          "metadata": {},
          "output_type": "display_data"
        },
        {
          "name": "stdout",
          "output_type": "stream",
          "text": [
            "CPU times: user 33.6 s, sys: 25.4 s, total: 58.9 s\n",
            "Wall time: 1min 56s\n"
          ]
        }
      ],
      "source": [
        "%%time\n",
        "# Load the pretrained model\n",
        "model = AutoModelForCausalLM.from_pretrained(model_id,\n",
        "                                             quantization_config=bnb_config,\n",
        "                                             device_map=\"auto\")\n",
        "\n",
        "# Check the device of the model\n",
        "def check_model_device(model):\n",
        "    for param in model.parameters():\n",
        "        return param.device\n",
        "\n",
        "device_of_model = check_model_device(model)\n",
        "print(f\"Model is on device: {device_of_model}\")"
      ]
    },
    {
      "cell_type": "markdown",
      "id": "f0152f14",
      "metadata": {
        "papermill": {
          "duration": 0.064346,
          "end_time": "2024-05-24T08:43:10.580809",
          "exception": false,
          "start_time": "2024-05-24T08:43:10.516463",
          "status": "completed"
        },
        "tags": [],
        "id": "f0152f14"
      },
      "source": [
        "## 3-4 Set Lora config\n",
        "<!DOCTYPE html>\n",
        "<html lang=\"en\">\n",
        "<head>\n",
        "    <meta charset=\"UTF-8\">\n",
        "    <meta name=\"viewport\" content=\"width=device-width, initial-scale=1.0\">\n",
        "    <title></title>\n",
        "</head>\n",
        "<body>\n",
        "    <img src=\"https://drive.google.com/uc?export=view&id=1cdDI0LPOOBSEFdMq1zMSDR6_TcbpY7PY\" width=\"75%\">\n",
        "</body>\n",
        "</html>\n",
        "\n",
        "\n",
        "\n",
        "**Components of LoRA:**\n",
        "\n",
        "1. **Decomposition of Weight Matrices**:\n",
        "   - LoRA begins by decomposing the weight matrices of pre-trained language models into smaller submatrices using techniques like singular value decomposition (SVD) or low-rank factorization. This process reduces the rank of the matrices while preserving their essential information.\n",
        "\n",
        "2. **Efficient Training with Reduced Parameters**:\n",
        "   - With the decomposed matrices, the model now has fewer parameters, which leads to reduced computational complexity during training. This enables more efficient fine-tuning on hardware with limited memory or computational capabilities.\n",
        "\n",
        "3. **Retaining Model Performance**:\n",
        "   - Despite the reduction in parameters, LoRA aims to retain the model's performance by carefully selecting the decomposition approach and optimizing the remaining parameters. By striking a balance between model complexity and efficiency, LoRA facilitates the deployment of powerful language models in real-world applications.\n",
        "\n",
        "\n",
        "\n",
        "\n"
      ]
    },
    {
      "cell_type": "code",
      "execution_count": null,
      "id": "8bb08603",
      "metadata": {
        "execution": {
          "iopub.execute_input": "2024-05-24T08:43:10.713579Z",
          "iopub.status.busy": "2024-05-24T08:43:10.713201Z",
          "iopub.status.idle": "2024-05-24T08:43:10.717977Z",
          "shell.execute_reply": "2024-05-24T08:43:10.717050Z"
        },
        "id": "8bb08603",
        "papermill": {
          "duration": 0.073386,
          "end_time": "2024-05-24T08:43:10.720074",
          "exception": false,
          "start_time": "2024-05-24T08:43:10.646688",
          "status": "completed"
        },
        "tags": []
      },
      "outputs": [],
      "source": [
        "# LoRA config based on QLoRA paper\n",
        "peft_config = LoraConfig(\n",
        "                          lora_alpha=16,\n",
        "                          lora_dropout=0.3,\n",
        "                          r=64,\n",
        "                          bias=\"none\",\n",
        "                          task_type=\"CAUSAL_LM\"\n",
        "                        )"
      ]
    },
    {
      "cell_type": "markdown",
      "id": "5aca9a94",
      "metadata": {
        "papermill": {
          "duration": 0.065837,
          "end_time": "2024-05-24T08:43:10.854023",
          "exception": false,
          "start_time": "2024-05-24T08:43:10.788186",
          "status": "completed"
        },
        "tags": [],
        "id": "5aca9a94"
      },
      "source": [
        "## 3-5 Set Training args"
      ]
    },
    {
      "cell_type": "code",
      "execution_count": null,
      "id": "b370829a",
      "metadata": {
        "execution": {
          "iopub.execute_input": "2024-05-24T08:43:11.000400Z",
          "iopub.status.busy": "2024-05-24T08:43:11.000001Z",
          "iopub.status.idle": "2024-05-24T08:43:11.009716Z",
          "shell.execute_reply": "2024-05-24T08:43:11.008698Z"
        },
        "id": "b370829a",
        "papermill": {
          "duration": 0.08836,
          "end_time": "2024-05-24T08:43:11.011971",
          "exception": false,
          "start_time": "2024-05-24T08:43:10.923611",
          "status": "completed"
        },
        "tags": []
      },
      "outputs": [],
      "source": [
        "\n",
        "args = TrainingArguments(\n",
        "    output_dir='fined_tuened_lamma_model',\n",
        "    num_train_epochs=1, # adjust based on the data size\n",
        "    per_device_train_batch_size=4, # use 4 if you have more GPU RAM\n",
        "    per_device_eval_batch_size=4,\n",
        "    save_strategy=\"steps\", #steps\n",
        "    save_steps=300,\n",
        "    evaluation_strategy=\"steps\",\n",
        "    logging_steps=300,\n",
        "    eval_steps = 300,\n",
        "    learning_rate=2e-4,\n",
        "    fp16=True,\n",
        "    seed=42,\n",
        "    save_total_limit=3,\n",
        "    load_best_model_at_end =True,\n",
        "    #group_by_length= True\n",
        ")"
      ]
    },
    {
      "cell_type": "markdown",
      "id": "1f5f2fbd",
      "metadata": {
        "papermill": {
          "duration": 0.066117,
          "end_time": "2024-05-24T08:43:11.582254",
          "exception": false,
          "start_time": "2024-05-24T08:43:11.516137",
          "status": "completed"
        },
        "tags": [],
        "id": "1f5f2fbd"
      },
      "source": [
        "## 3-6 Set SFTTTrainer"
      ]
    },
    {
      "cell_type": "code",
      "execution_count": null,
      "id": "b97a04bb",
      "metadata": {
        "execution": {
          "iopub.execute_input": "2024-05-24T08:43:11.719914Z",
          "iopub.status.busy": "2024-05-24T08:43:11.719514Z",
          "iopub.status.idle": "2024-05-24T08:43:12.348971Z",
          "shell.execute_reply": "2024-05-24T08:43:12.348096Z"
        },
        "id": "b97a04bb",
        "outputId": "7b19eb7a-f004-496c-ed2c-382d7bce60b3",
        "papermill": {
          "duration": 0.699618,
          "end_time": "2024-05-24T08:43:12.351284",
          "exception": false,
          "start_time": "2024-05-24T08:43:11.651666",
          "status": "completed"
        },
        "tags": []
      },
      "outputs": [
        {
          "name": "stderr",
          "output_type": "stream",
          "text": [
            "/opt/conda/lib/python3.10/site-packages/peft/utils/other.py:122: FutureWarning: prepare_model_for_int8_training is deprecated and will be removed in a future version. Use prepare_model_for_kbit_training instead.\n",
            "  warnings.warn(\n"
          ]
        }
      ],
      "source": [
        "# Create the trainer\n",
        "trainer = SFTTrainer(\n",
        "    model=model,\n",
        "    train_dataset=train,\n",
        "    eval_dataset=validation,\n",
        "    dataset_text_field='text',\n",
        "    peft_config=peft_config,\n",
        "\n",
        "    max_seq_length=1042,\n",
        "    tokenizer=tokenizer,\n",
        "    args=args,\n",
        "    packing=True,\n",
        ")"
      ]
    },
    {
      "cell_type": "markdown",
      "id": "5cbf971c",
      "metadata": {
        "papermill": {
          "duration": 0.06815,
          "end_time": "2024-05-24T08:43:28.515609",
          "exception": false,
          "start_time": "2024-05-24T08:43:28.447459",
          "status": "completed"
        },
        "tags": [],
        "id": "5cbf971c"
      },
      "source": [
        "# **Step 4: Train model**"
      ]
    },
    {
      "cell_type": "code",
      "execution_count": null,
      "id": "e701b7cd",
      "metadata": {
        "execution": {
          "iopub.execute_input": "2024-05-24T08:43:28.653017Z",
          "iopub.status.busy": "2024-05-24T08:43:28.652117Z",
          "iopub.status.idle": "2024-05-24T17:45:22.579894Z",
          "shell.execute_reply": "2024-05-24T17:45:22.578878Z"
        },
        "id": "e701b7cd",
        "outputId": "273f68d0-af53-411b-fcb0-2d9c506edbc8",
        "papermill": {
          "duration": 32513.999744,
          "end_time": "2024-05-24T17:45:22.582156",
          "exception": false,
          "start_time": "2024-05-24T08:43:28.582412",
          "status": "completed"
        },
        "tags": []
      },
      "outputs": [
        {
          "name": "stderr",
          "output_type": "stream",
          "text": [
            "\u001b[34m\u001b[1mwandb\u001b[0m: Currently logged in as: \u001b[33mamirifard-mo\u001b[0m (\u001b[33mmohammadamirifard\u001b[0m). Use \u001b[1m`wandb login --relogin`\u001b[0m to force relogin\n",
            "\u001b[34m\u001b[1mwandb\u001b[0m: wandb version 0.17.0 is available!  To upgrade, please run:\n",
            "\u001b[34m\u001b[1mwandb\u001b[0m:  $ pip install wandb --upgrade\n",
            "\u001b[34m\u001b[1mwandb\u001b[0m: Tracking run with wandb version 0.16.6\n",
            "\u001b[34m\u001b[1mwandb\u001b[0m: Run data is saved locally in \u001b[35m\u001b[1m/kaggle/working/wandb/run-20240524_084329-fnla0upo\u001b[0m\n",
            "\u001b[34m\u001b[1mwandb\u001b[0m: Run \u001b[1m`wandb offline`\u001b[0m to turn off syncing.\n",
            "\u001b[34m\u001b[1mwandb\u001b[0m: Syncing run \u001b[33mtwilight-puddle-16\u001b[0m\n",
            "\u001b[34m\u001b[1mwandb\u001b[0m: ⭐️ View project at \u001b[34m\u001b[4mhttps://wandb.ai/mohammadamirifard/huggingface\u001b[0m\n",
            "\u001b[34m\u001b[1mwandb\u001b[0m: 🚀 View run at \u001b[34m\u001b[4mhttps://wandb.ai/mohammadamirifard/huggingface/runs/fnla0upo\u001b[0m\n",
            "You're using a LlamaTokenizerFast tokenizer. Please note that with a fast tokenizer, using the `__call__` method is faster than using a method to encode the text followed by a call to the `pad` method to get a padded encoding.\n",
            "`use_cache=True` is incompatible with gradient checkpointing. Setting `use_cache=False`...\n",
            "/opt/conda/lib/python3.10/site-packages/torch/utils/checkpoint.py:429: UserWarning: torch.utils.checkpoint: please pass in use_reentrant=True or use_reentrant=False explicitly. The default value of use_reentrant will be updated to be False in the future. To maintain current behavior, pass use_reentrant=True. It is recommended that you use use_reentrant=False. Refer to docs for more details on the differences between the two variants.\n",
            "  warnings.warn(\n"
          ]
        },
        {
          "data": {
            "text/html": [
              "\n",
              "    <div>\n",
              "      \n",
              "      <progress value='2225' max='6250' style='width:300px; height:20px; vertical-align: middle;'></progress>\n",
              "      [2225/6250 9:01:21 < 16:20:11, 0.07 it/s, Epoch 0/1]\n",
              "    </div>\n",
              "    <table border=\"1\" class=\"dataframe\">\n",
              "  <thead>\n",
              " <tr style=\"text-align: left;\">\n",
              "      <th>Step</th>\n",
              "      <th>Training Loss</th>\n",
              "      <th>Validation Loss</th>\n",
              "    </tr>\n",
              "  </thead>\n",
              "  <tbody>\n",
              "    <tr>\n",
              "      <td>300</td>\n",
              "      <td>2.293900</td>\n",
              "      <td>2.339222</td>\n",
              "    </tr>\n",
              "    <tr>\n",
              "      <td>600</td>\n",
              "      <td>2.251600</td>\n",
              "      <td>2.329179</td>\n",
              "    </tr>\n",
              "    <tr>\n",
              "      <td>900</td>\n",
              "      <td>2.245000</td>\n",
              "      <td>2.325004</td>\n",
              "    </tr>\n",
              "    <tr>\n",
              "      <td>1200</td>\n",
              "      <td>2.234300</td>\n",
              "      <td>2.321757</td>\n",
              "    </tr>\n",
              "    <tr>\n",
              "      <td>1500</td>\n",
              "      <td>2.229100</td>\n",
              "      <td>2.319216</td>\n",
              "    </tr>\n",
              "    <tr>\n",
              "      <td>1800</td>\n",
              "      <td>2.223400</td>\n",
              "      <td>2.318017</td>\n",
              "    </tr>\n",
              "    <tr>\n",
              "      <td>2100</td>\n",
              "      <td>2.233000</td>\n",
              "      <td>2.315719</td>\n",
              "    </tr>\n",
              "  </tbody>\n",
              "</table><p>"
            ],
            "text/plain": [
              "<IPython.core.display.HTML object>"
            ]
          },
          "metadata": {},
          "output_type": "display_data"
        },
        {
          "name": "stderr",
          "output_type": "stream",
          "text": [
            "/opt/conda/lib/python3.10/site-packages/torch/utils/checkpoint.py:429: UserWarning: torch.utils.checkpoint: please pass in use_reentrant=True or use_reentrant=False explicitly. The default value of use_reentrant will be updated to be False in the future. To maintain current behavior, pass use_reentrant=True. It is recommended that you use use_reentrant=False. Refer to docs for more details on the differences between the two variants.\n",
            "  warnings.warn(\n",
            "/opt/conda/lib/python3.10/site-packages/torch/utils/checkpoint.py:429: UserWarning: torch.utils.checkpoint: please pass in use_reentrant=True or use_reentrant=False explicitly. The default value of use_reentrant will be updated to be False in the future. To maintain current behavior, pass use_reentrant=True. It is recommended that you use use_reentrant=False. Refer to docs for more details on the differences between the two variants.\n",
            "  warnings.warn(\n",
            "/opt/conda/lib/python3.10/site-packages/torch/utils/checkpoint.py:429: UserWarning: torch.utils.checkpoint: please pass in use_reentrant=True or use_reentrant=False explicitly. The default value of use_reentrant will be updated to be False in the future. To maintain current behavior, pass use_reentrant=True. It is recommended that you use use_reentrant=False. Refer to docs for more details on the differences between the two variants.\n",
            "  warnings.warn(\n",
            "/opt/conda/lib/python3.10/site-packages/torch/utils/checkpoint.py:429: UserWarning: torch.utils.checkpoint: please pass in use_reentrant=True or use_reentrant=False explicitly. The default value of use_reentrant will be updated to be False in the future. To maintain current behavior, pass use_reentrant=True. It is recommended that you use use_reentrant=False. Refer to docs for more details on the differences between the two variants.\n",
            "  warnings.warn(\n",
            "/opt/conda/lib/python3.10/site-packages/torch/utils/checkpoint.py:429: UserWarning: torch.utils.checkpoint: please pass in use_reentrant=True or use_reentrant=False explicitly. The default value of use_reentrant will be updated to be False in the future. To maintain current behavior, pass use_reentrant=True. It is recommended that you use use_reentrant=False. Refer to docs for more details on the differences between the two variants.\n",
            "  warnings.warn(\n",
            "/opt/conda/lib/python3.10/site-packages/torch/utils/checkpoint.py:429: UserWarning: torch.utils.checkpoint: please pass in use_reentrant=True or use_reentrant=False explicitly. The default value of use_reentrant will be updated to be False in the future. To maintain current behavior, pass use_reentrant=True. It is recommended that you use use_reentrant=False. Refer to docs for more details on the differences between the two variants.\n",
            "  warnings.warn(\n",
            "/opt/conda/lib/python3.10/site-packages/torch/utils/checkpoint.py:429: UserWarning: torch.utils.checkpoint: please pass in use_reentrant=True or use_reentrant=False explicitly. The default value of use_reentrant will be updated to be False in the future. To maintain current behavior, pass use_reentrant=True. It is recommended that you use use_reentrant=False. Refer to docs for more details on the differences between the two variants.\n",
            "  warnings.warn(\n"
          ]
        },
        {
          "name": "stdout",
          "output_type": "stream",
          "text": [
            "Duration(ms):  541.8986797650655\n"
          ]
        }
      ],
      "source": [
        "# train\n",
        "start = time.time()\n",
        "resutl = trainer.train()\n",
        "stop = time.time()\n",
        "duration = (stop-start)/60\n",
        "print('Duration(ms): ',duration)"
      ]
    },
    {
      "cell_type": "markdown",
      "source": [
        "# **Step 5: Show Results**"
      ],
      "metadata": {
        "id": "Sm1uL8Uc2X9M"
      },
      "id": "Sm1uL8Uc2X9M"
    },
    {
      "cell_type": "markdown",
      "source": [
        "Please see result from here. Due to hardaware restictions, we trained our model several times using updatated weights from previous step.\n",
        "\n",
        "**Training on 15000 data** : [Link](https://api.wandb.ai/links/mohammadamirifard/65hvevrt)\n",
        "\n",
        "**Training from 15000 to 25000 data** : [Link](https://api.wandb.ai/links/mohammadamirifard/01oczpqs)\n",
        "\n",
        "**Training from 25000 to 50000 data** : [Link](https://api.wandb.ai/links/mohammadamirifard/o7xaqrt7)\n",
        "\n",
        "**Training from 50000 to end data** : [Link](https://api.wandb.ai/links/mohammadamirifard/vclhe8xe)\n",
        "\n",
        "\n"
      ],
      "metadata": {
        "id": "6QptARTQ2eG8"
      },
      "id": "6QptARTQ2eG8"
    },
    {
      "cell_type": "markdown",
      "id": "b85f0029",
      "metadata": {
        "papermill": {
          "duration": 0.080122,
          "end_time": "2024-05-24T17:45:22.740282",
          "exception": false,
          "start_time": "2024-05-24T17:45:22.660160",
          "status": "completed"
        },
        "tags": [],
        "id": "b85f0029"
      },
      "source": [
        "# **Step 6: Save model**"
      ]
    },
    {
      "cell_type": "code",
      "execution_count": null,
      "id": "4f05336c",
      "metadata": {
        "execution": {
          "iopub.execute_input": "2024-05-24T17:45:22.895268Z",
          "iopub.status.busy": "2024-05-24T17:45:22.894879Z",
          "iopub.status.idle": "2024-05-24T17:45:23.204815Z",
          "shell.execute_reply": "2024-05-24T17:45:23.203946Z"
        },
        "id": "4f05336c",
        "papermill": {
          "duration": 0.389542,
          "end_time": "2024-05-24T17:45:23.207555",
          "exception": false,
          "start_time": "2024-05-24T17:45:22.818013",
          "status": "completed"
        },
        "tags": []
      },
      "outputs": [],
      "source": [
        "# save model in local\n",
        "trainer.save_model()"
      ]
    }
  ],
  "metadata": {
    "accelerator": "GPU",
    "colab": {
      "gpuType": "T4",
      "provenance": []
    },
    "kaggle": {
      "accelerator": "nvidiaTeslaT4",
      "dataSources": [
        {
          "datasetId": 5075450,
          "sourceId": 8503864,
          "sourceType": "datasetVersion"
        }
      ],
      "isGpuEnabled": true,
      "isInternetEnabled": true,
      "language": "python",
      "sourceType": "notebook"
    },
    "kernelspec": {
      "display_name": "Python 3",
      "language": "python",
      "name": "python3"
    },
    "language_info": {
      "codemirror_mode": {
        "name": "ipython",
        "version": 3
      },
      "file_extension": ".py",
      "mimetype": "text/x-python",
      "name": "python",
      "nbconvert_exporter": "python",
      "pygments_lexer": "ipython3",
      "version": "3.10.13"
    },
    "papermill": {
      "default_parameters": {},
      "duration": 32765.817915,
      "end_time": "2024-05-24T17:45:26.447364",
      "environment_variables": {},
      "exception": null,
      "input_path": "__notebook__.ipynb",
      "output_path": "__notebook__.ipynb",
      "parameters": {},
      "start_time": "2024-05-24T08:39:20.629449",
      "version": "2.5.0"
    }
  },
  "nbformat": 4,
  "nbformat_minor": 5
}