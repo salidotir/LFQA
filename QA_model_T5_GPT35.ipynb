{
  "cells": [
    {
      "cell_type": "markdown",
      "metadata": {
        "id": "w8sCCg3FKmJe"
      },
      "source": [
        "#Long Form Question Answering &amp; Generated Content Detection\n",
        "\n",
        "In this notebook, we are going to implement a long-form question answering and generated content detection model using natrual language processing (NLP) tools.\n",
        "\n",
        "The dataset used in this project is a subset of [ELI5 dataset](https://huggingface.co/datasets/eli5_category)."
      ]
    },
    {
      "cell_type": "markdown",
      "metadata": {
        "id": "Txs8tMPWMIbX"
      },
      "source": [
        "The first step is to load the data and learn about the characteristics of data.\n",
        "Then we have to do some pre-proceesing on the text data in order to make it ready to be given to a model to learn."
      ]
    },
    {
      "cell_type": "markdown",
      "metadata": {
        "id": "4MXC_Sq4MXWG"
      },
      "source": [
        "# install datasets library"
      ]
    },
    {
      "cell_type": "code",
      "execution_count": 1,
      "metadata": {
        "colab": {
          "base_uri": "https://localhost:8080/"
        },
        "id": "sEb7bAPlv8zI",
        "outputId": "27b2cbb3-05ea-4240-88dc-a192a5c8e301"
      },
      "outputs": [
        {
          "name": "stdout",
          "output_type": "stream",
          "text": [
            "Requirement already satisfied: torch in /usr/local/lib/python3.10/dist-packages (2.2.1+cu121)\n",
            "Requirement already satisfied: filelock in /usr/local/lib/python3.10/dist-packages (from torch) (3.14.0)\n",
            "Requirement already satisfied: typing-extensions>=4.8.0 in /usr/local/lib/python3.10/dist-packages (from torch) (4.11.0)\n",
            "Requirement already satisfied: sympy in /usr/local/lib/python3.10/dist-packages (from torch) (1.12)\n",
            "Requirement already satisfied: networkx in /usr/local/lib/python3.10/dist-packages (from torch) (3.3)\n",
            "Requirement already satisfied: jinja2 in /usr/local/lib/python3.10/dist-packages (from torch) (3.1.4)\n",
            "Requirement already satisfied: fsspec in /usr/local/lib/python3.10/dist-packages (from torch) (2023.6.0)\n",
            "Requirement already satisfied: nvidia-cuda-nvrtc-cu12==12.1.105 in /usr/local/lib/python3.10/dist-packages (from torch) (12.1.105)\n",
            "Requirement already satisfied: nvidia-cuda-runtime-cu12==12.1.105 in /usr/local/lib/python3.10/dist-packages (from torch) (12.1.105)\n",
            "Requirement already satisfied: nvidia-cuda-cupti-cu12==12.1.105 in /usr/local/lib/python3.10/dist-packages (from torch) (12.1.105)\n",
            "Requirement already satisfied: nvidia-cudnn-cu12==8.9.2.26 in /usr/local/lib/python3.10/dist-packages (from torch) (8.9.2.26)\n",
            "Requirement already satisfied: nvidia-cublas-cu12==12.1.3.1 in /usr/local/lib/python3.10/dist-packages (from torch) (12.1.3.1)\n",
            "Requirement already satisfied: nvidia-cufft-cu12==11.0.2.54 in /usr/local/lib/python3.10/dist-packages (from torch) (11.0.2.54)\n",
            "Requirement already satisfied: nvidia-curand-cu12==10.3.2.106 in /usr/local/lib/python3.10/dist-packages (from torch) (10.3.2.106)\n",
            "Requirement already satisfied: nvidia-cusolver-cu12==11.4.5.107 in /usr/local/lib/python3.10/dist-packages (from torch) (11.4.5.107)\n",
            "Requirement already satisfied: nvidia-cusparse-cu12==12.1.0.106 in /usr/local/lib/python3.10/dist-packages (from torch) (12.1.0.106)\n",
            "Requirement already satisfied: nvidia-nccl-cu12==2.19.3 in /usr/local/lib/python3.10/dist-packages (from torch) (2.19.3)\n",
            "Requirement already satisfied: nvidia-nvtx-cu12==12.1.105 in /usr/local/lib/python3.10/dist-packages (from torch) (12.1.105)\n",
            "Requirement already satisfied: triton==2.2.0 in /usr/local/lib/python3.10/dist-packages (from torch) (2.2.0)\n",
            "Requirement already satisfied: nvidia-nvjitlink-cu12 in /usr/local/lib/python3.10/dist-packages (from nvidia-cusolver-cu12==11.4.5.107->torch) (12.4.127)\n",
            "Requirement already satisfied: MarkupSafe>=2.0 in /usr/local/lib/python3.10/dist-packages (from jinja2->torch) (2.1.5)\n",
            "Requirement already satisfied: mpmath>=0.19 in /usr/local/lib/python3.10/dist-packages (from sympy->torch) (1.3.0)\n",
            "Requirement already satisfied: accelerate==0.30.0 in /usr/local/lib/python3.10/dist-packages (0.30.0)\n",
            "Requirement already satisfied: numpy>=1.17 in /usr/local/lib/python3.10/dist-packages (from accelerate==0.30.0) (1.25.2)\n",
            "Requirement already satisfied: packaging>=20.0 in /usr/local/lib/python3.10/dist-packages (from accelerate==0.30.0) (24.0)\n",
            "Requirement already satisfied: psutil in /usr/local/lib/python3.10/dist-packages (from accelerate==0.30.0) (5.9.5)\n",
            "Requirement already satisfied: pyyaml in /usr/local/lib/python3.10/dist-packages (from accelerate==0.30.0) (6.0.1)\n",
            "Requirement already satisfied: torch>=1.10.0 in /usr/local/lib/python3.10/dist-packages (from accelerate==0.30.0) (2.2.1+cu121)\n",
            "Requirement already satisfied: huggingface-hub in /usr/local/lib/python3.10/dist-packages (from accelerate==0.30.0) (0.23.0)\n",
            "Requirement already satisfied: safetensors>=0.3.1 in /usr/local/lib/python3.10/dist-packages (from accelerate==0.30.0) (0.4.3)\n",
            "Requirement already satisfied: filelock in /usr/local/lib/python3.10/dist-packages (from torch>=1.10.0->accelerate==0.30.0) (3.14.0)\n",
            "Requirement already satisfied: typing-extensions>=4.8.0 in /usr/local/lib/python3.10/dist-packages (from torch>=1.10.0->accelerate==0.30.0) (4.11.0)\n",
            "Requirement already satisfied: sympy in /usr/local/lib/python3.10/dist-packages (from torch>=1.10.0->accelerate==0.30.0) (1.12)\n",
            "Requirement already satisfied: networkx in /usr/local/lib/python3.10/dist-packages (from torch>=1.10.0->accelerate==0.30.0) (3.3)\n",
            "Requirement already satisfied: jinja2 in /usr/local/lib/python3.10/dist-packages (from torch>=1.10.0->accelerate==0.30.0) (3.1.4)\n",
            "Requirement already satisfied: fsspec in /usr/local/lib/python3.10/dist-packages (from torch>=1.10.0->accelerate==0.30.0) (2023.6.0)\n",
            "Requirement already satisfied: nvidia-cuda-nvrtc-cu12==12.1.105 in /usr/local/lib/python3.10/dist-packages (from torch>=1.10.0->accelerate==0.30.0) (12.1.105)\n",
            "Requirement already satisfied: nvidia-cuda-runtime-cu12==12.1.105 in /usr/local/lib/python3.10/dist-packages (from torch>=1.10.0->accelerate==0.30.0) (12.1.105)\n",
            "Requirement already satisfied: nvidia-cuda-cupti-cu12==12.1.105 in /usr/local/lib/python3.10/dist-packages (from torch>=1.10.0->accelerate==0.30.0) (12.1.105)\n",
            "Requirement already satisfied: nvidia-cudnn-cu12==8.9.2.26 in /usr/local/lib/python3.10/dist-packages (from torch>=1.10.0->accelerate==0.30.0) (8.9.2.26)\n",
            "Requirement already satisfied: nvidia-cublas-cu12==12.1.3.1 in /usr/local/lib/python3.10/dist-packages (from torch>=1.10.0->accelerate==0.30.0) (12.1.3.1)\n",
            "Requirement already satisfied: nvidia-cufft-cu12==11.0.2.54 in /usr/local/lib/python3.10/dist-packages (from torch>=1.10.0->accelerate==0.30.0) (11.0.2.54)\n",
            "Requirement already satisfied: nvidia-curand-cu12==10.3.2.106 in /usr/local/lib/python3.10/dist-packages (from torch>=1.10.0->accelerate==0.30.0) (10.3.2.106)\n",
            "Requirement already satisfied: nvidia-cusolver-cu12==11.4.5.107 in /usr/local/lib/python3.10/dist-packages (from torch>=1.10.0->accelerate==0.30.0) (11.4.5.107)\n",
            "Requirement already satisfied: nvidia-cusparse-cu12==12.1.0.106 in /usr/local/lib/python3.10/dist-packages (from torch>=1.10.0->accelerate==0.30.0) (12.1.0.106)\n",
            "Requirement already satisfied: nvidia-nccl-cu12==2.19.3 in /usr/local/lib/python3.10/dist-packages (from torch>=1.10.0->accelerate==0.30.0) (2.19.3)\n",
            "Requirement already satisfied: nvidia-nvtx-cu12==12.1.105 in /usr/local/lib/python3.10/dist-packages (from torch>=1.10.0->accelerate==0.30.0) (12.1.105)\n",
            "Requirement already satisfied: triton==2.2.0 in /usr/local/lib/python3.10/dist-packages (from torch>=1.10.0->accelerate==0.30.0) (2.2.0)\n",
            "Requirement already satisfied: nvidia-nvjitlink-cu12 in /usr/local/lib/python3.10/dist-packages (from nvidia-cusolver-cu12==11.4.5.107->torch>=1.10.0->accelerate==0.30.0) (12.4.127)\n",
            "Requirement already satisfied: requests in /usr/local/lib/python3.10/dist-packages (from huggingface-hub->accelerate==0.30.0) (2.31.0)\n",
            "Requirement already satisfied: tqdm>=4.42.1 in /usr/local/lib/python3.10/dist-packages (from huggingface-hub->accelerate==0.30.0) (4.66.4)\n",
            "Requirement already satisfied: MarkupSafe>=2.0 in /usr/local/lib/python3.10/dist-packages (from jinja2->torch>=1.10.0->accelerate==0.30.0) (2.1.5)\n",
            "Requirement already satisfied: charset-normalizer<4,>=2 in /usr/local/lib/python3.10/dist-packages (from requests->huggingface-hub->accelerate==0.30.0) (3.3.2)\n",
            "Requirement already satisfied: idna<4,>=2.5 in /usr/local/lib/python3.10/dist-packages (from requests->huggingface-hub->accelerate==0.30.0) (3.7)\n",
            "Requirement already satisfied: urllib3<3,>=1.21.1 in /usr/local/lib/python3.10/dist-packages (from requests->huggingface-hub->accelerate==0.30.0) (2.0.7)\n",
            "Requirement already satisfied: certifi>=2017.4.17 in /usr/local/lib/python3.10/dist-packages (from requests->huggingface-hub->accelerate==0.30.0) (2024.2.2)\n",
            "Requirement already satisfied: mpmath>=0.19 in /usr/local/lib/python3.10/dist-packages (from sympy->torch>=1.10.0->accelerate==0.30.0) (1.3.0)\n",
            "0.30.0\n"
          ]
        }
      ],
      "source": [
        "!pip install torch\n",
        "!pip install accelerate==0.30.0\n",
        "\n",
        "import accelerate\n",
        "print(accelerate.__version__)"
      ]
    },
    {
      "cell_type": "code",
      "execution_count": 2,
      "metadata": {
        "colab": {
          "base_uri": "https://localhost:8080/"
        },
        "id": "kZyWiozgR3Ts",
        "outputId": "4b2df6a1-77c1-4f68-820c-54359dcf7d45"
      },
      "outputs": [
        {
          "name": "stdout",
          "output_type": "stream",
          "text": [
            "Requirement already satisfied: datasets in /usr/local/lib/python3.10/dist-packages (2.19.1)\n",
            "Requirement already satisfied: filelock in /usr/local/lib/python3.10/dist-packages (from datasets) (3.14.0)\n",
            "Requirement already satisfied: numpy>=1.17 in /usr/local/lib/python3.10/dist-packages (from datasets) (1.25.2)\n",
            "Requirement already satisfied: pyarrow>=12.0.0 in /usr/local/lib/python3.10/dist-packages (from datasets) (14.0.2)\n",
            "Requirement already satisfied: pyarrow-hotfix in /usr/local/lib/python3.10/dist-packages (from datasets) (0.6)\n",
            "Requirement already satisfied: dill<0.3.9,>=0.3.0 in /usr/local/lib/python3.10/dist-packages (from datasets) (0.3.8)\n",
            "Requirement already satisfied: pandas in /usr/local/lib/python3.10/dist-packages (from datasets) (2.0.3)\n",
            "Requirement already satisfied: requests>=2.19.0 in /usr/local/lib/python3.10/dist-packages (from datasets) (2.31.0)\n",
            "Requirement already satisfied: tqdm>=4.62.1 in /usr/local/lib/python3.10/dist-packages (from datasets) (4.66.4)\n",
            "Requirement already satisfied: xxhash in /usr/local/lib/python3.10/dist-packages (from datasets) (3.4.1)\n",
            "Requirement already satisfied: multiprocess in /usr/local/lib/python3.10/dist-packages (from datasets) (0.70.16)\n",
            "Requirement already satisfied: fsspec[http]<=2024.3.1,>=2023.1.0 in /usr/local/lib/python3.10/dist-packages (from datasets) (2023.6.0)\n",
            "Requirement already satisfied: aiohttp in /usr/local/lib/python3.10/dist-packages (from datasets) (3.9.5)\n",
            "Requirement already satisfied: huggingface-hub>=0.21.2 in /usr/local/lib/python3.10/dist-packages (from datasets) (0.23.0)\n",
            "Requirement already satisfied: packaging in /usr/local/lib/python3.10/dist-packages (from datasets) (24.0)\n",
            "Requirement already satisfied: pyyaml>=5.1 in /usr/local/lib/python3.10/dist-packages (from datasets) (6.0.1)\n",
            "Requirement already satisfied: aiosignal>=1.1.2 in /usr/local/lib/python3.10/dist-packages (from aiohttp->datasets) (1.3.1)\n",
            "Requirement already satisfied: attrs>=17.3.0 in /usr/local/lib/python3.10/dist-packages (from aiohttp->datasets) (23.2.0)\n",
            "Requirement already satisfied: frozenlist>=1.1.1 in /usr/local/lib/python3.10/dist-packages (from aiohttp->datasets) (1.4.1)\n",
            "Requirement already satisfied: multidict<7.0,>=4.5 in /usr/local/lib/python3.10/dist-packages (from aiohttp->datasets) (6.0.5)\n",
            "Requirement already satisfied: yarl<2.0,>=1.0 in /usr/local/lib/python3.10/dist-packages (from aiohttp->datasets) (1.9.4)\n",
            "Requirement already satisfied: async-timeout<5.0,>=4.0 in /usr/local/lib/python3.10/dist-packages (from aiohttp->datasets) (4.0.3)\n",
            "Requirement already satisfied: typing-extensions>=3.7.4.3 in /usr/local/lib/python3.10/dist-packages (from huggingface-hub>=0.21.2->datasets) (4.11.0)\n",
            "Requirement already satisfied: charset-normalizer<4,>=2 in /usr/local/lib/python3.10/dist-packages (from requests>=2.19.0->datasets) (3.3.2)\n",
            "Requirement already satisfied: idna<4,>=2.5 in /usr/local/lib/python3.10/dist-packages (from requests>=2.19.0->datasets) (3.7)\n",
            "Requirement already satisfied: urllib3<3,>=1.21.1 in /usr/local/lib/python3.10/dist-packages (from requests>=2.19.0->datasets) (2.0.7)\n",
            "Requirement already satisfied: certifi>=2017.4.17 in /usr/local/lib/python3.10/dist-packages (from requests>=2.19.0->datasets) (2024.2.2)\n",
            "Requirement already satisfied: python-dateutil>=2.8.2 in /usr/local/lib/python3.10/dist-packages (from pandas->datasets) (2.8.2)\n",
            "Requirement already satisfied: pytz>=2020.1 in /usr/local/lib/python3.10/dist-packages (from pandas->datasets) (2023.4)\n",
            "Requirement already satisfied: tzdata>=2022.1 in /usr/local/lib/python3.10/dist-packages (from pandas->datasets) (2024.1)\n",
            "Requirement already satisfied: six>=1.5 in /usr/local/lib/python3.10/dist-packages (from python-dateutil>=2.8.2->pandas->datasets) (1.16.0)\n"
          ]
        }
      ],
      "source": [
        "!pip install datasets"
      ]
    },
    {
      "cell_type": "markdown",
      "metadata": {
        "id": "GTiQvG66NKX0"
      },
      "source": [
        "#Load dataset"
      ]
    },
    {
      "cell_type": "code",
      "execution_count": 3,
      "metadata": {
        "colab": {
          "base_uri": "https://localhost:8080/"
        },
        "id": "c-QE8LY-T7Bj",
        "outputId": "ad8847ff-55de-40c8-d403-a18af357629d"
      },
      "outputs": [
        {
          "name": "stderr",
          "output_type": "stream",
          "text": [
            "/usr/local/lib/python3.10/dist-packages/huggingface_hub/utils/_token.py:89: UserWarning: \n",
            "The secret `HF_TOKEN` does not exist in your Colab secrets.\n",
            "To authenticate with the Hugging Face Hub, create a token in your settings tab (https://huggingface.co/settings/tokens), set it as secret in your Google Colab and restart your session.\n",
            "You will be able to reuse this secret in all of your notebooks.\n",
            "Please note that authentication is recommended but still optional to access public models or datasets.\n",
            "  warnings.warn(\n",
            "/usr/local/lib/python3.10/dist-packages/datasets/load.py:1486: FutureWarning: The repository for eli5_category contains custom code which must be executed to correctly load the dataset. You can inspect the repository content at https://hf.co/datasets/eli5_category\n",
            "You can avoid this message in future by passing the argument `trust_remote_code=True`.\n",
            "Passing `trust_remote_code=True` will be mandatory to load this dataset from the next major release of `datasets`.\n",
            "  warnings.warn(\n"
          ]
        }
      ],
      "source": [
        "from datasets import load_dataset\n",
        "dataset = load_dataset(\"eli5_category\")"
      ]
    },
    {
      "cell_type": "markdown",
      "metadata": {
        "id": "MJ-1kLW7qAq-"
      },
      "source": [
        "# EDA"
      ]
    },
    {
      "cell_type": "markdown",
      "metadata": {
        "id": "BOavHzxzqNiF"
      },
      "source": [
        "##Let's see the structure of dataset"
      ]
    },
    {
      "cell_type": "code",
      "execution_count": 4,
      "metadata": {
        "colab": {
          "base_uri": "https://localhost:8080/"
        },
        "id": "xCRxjsVXM1j-",
        "outputId": "9105dd0f-5439-4f45-887e-bc07470b8a4c"
      },
      "outputs": [
        {
          "name": "stdout",
          "output_type": "stream",
          "text": [
            "****************************************************************************************************\n",
            "In the following part, you can see the structure of dataset:\n",
            "****************************************************************************************************\n"
          ]
        },
        {
          "data": {
            "text/plain": [
              "DatasetDict({\n",
              "    train: Dataset({\n",
              "        features: ['q_id', 'title', 'selftext', 'category', 'subreddit', 'answers', 'title_urls', 'selftext_urls'],\n",
              "        num_rows: 91772\n",
              "    })\n",
              "    validation1: Dataset({\n",
              "        features: ['q_id', 'title', 'selftext', 'category', 'subreddit', 'answers', 'title_urls', 'selftext_urls'],\n",
              "        num_rows: 5446\n",
              "    })\n",
              "    validation2: Dataset({\n",
              "        features: ['q_id', 'title', 'selftext', 'category', 'subreddit', 'answers', 'title_urls', 'selftext_urls'],\n",
              "        num_rows: 2375\n",
              "    })\n",
              "    test: Dataset({\n",
              "        features: ['q_id', 'title', 'selftext', 'category', 'subreddit', 'answers', 'title_urls', 'selftext_urls'],\n",
              "        num_rows: 5411\n",
              "    })\n",
              "})"
            ]
          },
          "execution_count": 4,
          "metadata": {},
          "output_type": "execute_result"
        }
      ],
      "source": [
        "print('*'*100)\n",
        "print('In the following part, you can see the structure of dataset:')\n",
        "print('*'*100)\n",
        "dataset"
      ]
    },
    {
      "cell_type": "markdown",
      "metadata": {
        "id": "kyE4QSeoqTON"
      },
      "source": [
        "##Let's see dataset information"
      ]
    },
    {
      "cell_type": "code",
      "execution_count": 5,
      "metadata": {
        "colab": {
          "base_uri": "https://localhost:8080/",
          "height": 236
        },
        "id": "8M5NXeDMRJDz",
        "outputId": "1bd489d3-9bd6-41e7-d961-cf66e38df12a"
      },
      "outputs": [
        {
          "name": "stdout",
          "output_type": "stream",
          "text": [
            "In the following table, you can see dataset information. If you need to have a better view, try to use the icon on the right side\n",
            "****************************************************************************************************\n"
          ]
        },
        {
          "data": {
            "application/vnd.google.colaboratory.intrinsic+json": {
              "summary": "{\n  \"name\": \"information_of_dataset\",\n  \"rows\": 1,\n  \"fields\": [\n    {\n      \"column\": \"q_id\",\n      \"properties\": {\n        \"dtype\": \"string\",\n        \"num_unique_values\": 1,\n        \"samples\": [\n          \"a string question identifier for each example, corresponding to its ID in the Pushshift.io Reddit submission dumps\"\n        ],\n        \"semantic_type\": \"\",\n        \"description\": \"\"\n      }\n    },\n    {\n      \"column\": \"subreddit\",\n      \"properties\": {\n        \"dtype\": \"string\",\n        \"num_unique_values\": 1,\n        \"samples\": [\n          \"always explainlikeimfive, indicating which subreddit the question came from\"\n        ],\n        \"semantic_type\": \"\",\n        \"description\": \"\"\n      }\n    },\n    {\n      \"column\": \"category\",\n      \"properties\": {\n        \"dtype\": \"string\",\n        \"num_unique_values\": 1,\n        \"samples\": [\n          \"tag of the question, the possible values are listed above.\"\n        ],\n        \"semantic_type\": \"\",\n        \"description\": \"\"\n      }\n    },\n    {\n      \"column\": \"title\",\n      \"properties\": {\n        \"dtype\": \"string\",\n        \"num_unique_values\": 1,\n        \"samples\": [\n          \"title of the question, with URLs extracted and replaced by URL_n tokens\"\n        ],\n        \"semantic_type\": \"\",\n        \"description\": \"\"\n      }\n    },\n    {\n      \"column\": \"title_urls\",\n      \"properties\": {\n        \"dtype\": \"string\",\n        \"num_unique_values\": 1,\n        \"samples\": [\n          \"list of the extracted URLs, the nth element of the list was replaced by URL_n\"\n        ],\n        \"semantic_type\": \"\",\n        \"description\": \"\"\n      }\n    },\n    {\n      \"column\": \"selftext\",\n      \"properties\": {\n        \"dtype\": \"string\",\n        \"num_unique_values\": 1,\n        \"samples\": [\n          \"either an empty string or an elaboration of the question\"\n        ],\n        \"semantic_type\": \"\",\n        \"description\": \"\"\n      }\n    },\n    {\n      \"column\": \"selftext_urls\",\n      \"properties\": {\n        \"dtype\": \"string\",\n        \"num_unique_values\": 1,\n        \"samples\": [\n          \"similar to title_urls but for self_text\"\n        ],\n        \"semantic_type\": \"\",\n        \"description\": \"\"\n      }\n    },\n    {\n      \"column\": \"answers\",\n      \"properties\": {\n        \"dtype\": \"string\",\n        \"num_unique_values\": 1,\n        \"samples\": [\n          \"a list of answers, each answer has\"\n        ],\n        \"semantic_type\": \"\",\n        \"description\": \"\"\n      }\n    },\n    {\n      \"column\": \"a_id\",\n      \"properties\": {\n        \"dtype\": \"string\",\n        \"num_unique_values\": 1,\n        \"samples\": [\n          \"a string answer identifier for each answer, corresponding to its ID in the Pushshift.io Reddit comments dumps.\"\n        ],\n        \"semantic_type\": \"\",\n        \"description\": \"\"\n      }\n    },\n    {\n      \"column\": \"text\",\n      \"properties\": {\n        \"dtype\": \"string\",\n        \"num_unique_values\": 1,\n        \"samples\": [\n          \"he answer text with the URLs normalized\"\n        ],\n        \"semantic_type\": \"\",\n        \"description\": \"\"\n      }\n    },\n    {\n      \"column\": \"score\",\n      \"properties\": {\n        \"dtype\": \"string\",\n        \"num_unique_values\": 1,\n        \"samples\": [\n          \"the number of upvotes - the number of downvotes the answer had received when the dumps were created\"\n        ],\n        \"semantic_type\": \"\",\n        \"description\": \"\"\n      }\n    },\n    {\n      \"column\": \"text_urls\",\n      \"properties\": {\n        \"dtype\": \"string\",\n        \"num_unique_values\": 1,\n        \"samples\": [\n          \"ists of the extracted URLs for every answer\"\n        ],\n        \"semantic_type\": \"\",\n        \"description\": \"\"\n      }\n    }\n  ]\n}",
              "type": "dataframe",
              "variable_name": "information_of_dataset"
            },
            "text/html": [
              "\n",
              "  <div id=\"df-2756723f-2e48-41a5-97ee-5f27d89af3fa\" class=\"colab-df-container\">\n",
              "    <div>\n",
              "<style scoped>\n",
              "    .dataframe tbody tr th:only-of-type {\n",
              "        vertical-align: middle;\n",
              "    }\n",
              "\n",
              "    .dataframe tbody tr th {\n",
              "        vertical-align: top;\n",
              "    }\n",
              "\n",
              "    .dataframe thead th {\n",
              "        text-align: right;\n",
              "    }\n",
              "</style>\n",
              "<table border=\"1\" class=\"dataframe\">\n",
              "  <thead>\n",
              "    <tr style=\"text-align: right;\">\n",
              "      <th></th>\n",
              "      <th>q_id</th>\n",
              "      <th>subreddit</th>\n",
              "      <th>category</th>\n",
              "      <th>title</th>\n",
              "      <th>title_urls</th>\n",
              "      <th>selftext</th>\n",
              "      <th>selftext_urls</th>\n",
              "      <th>answers</th>\n",
              "      <th>a_id</th>\n",
              "      <th>text</th>\n",
              "      <th>score</th>\n",
              "      <th>text_urls</th>\n",
              "    </tr>\n",
              "  </thead>\n",
              "  <tbody>\n",
              "    <tr>\n",
              "      <th>description</th>\n",
              "      <td>a string question identifier for each example,...</td>\n",
              "      <td>always explainlikeimfive, indicating which sub...</td>\n",
              "      <td>tag of the question, the possible values are l...</td>\n",
              "      <td>title of the question, with URLs extracted and...</td>\n",
              "      <td>list of the extracted URLs, the nth element of...</td>\n",
              "      <td>either an empty string or an elaboration of th...</td>\n",
              "      <td>similar to title_urls but for self_text</td>\n",
              "      <td>a list of answers, each answer has</td>\n",
              "      <td>a string answer identifier for each answer, co...</td>\n",
              "      <td>he answer text with the URLs normalized</td>\n",
              "      <td>the number of upvotes - the number of downvote...</td>\n",
              "      <td>ists of the extracted URLs for every answer</td>\n",
              "    </tr>\n",
              "  </tbody>\n",
              "</table>\n",
              "</div>\n",
              "    <div class=\"colab-df-buttons\">\n",
              "\n",
              "  <div class=\"colab-df-container\">\n",
              "    <button class=\"colab-df-convert\" onclick=\"convertToInteractive('df-2756723f-2e48-41a5-97ee-5f27d89af3fa')\"\n",
              "            title=\"Convert this dataframe to an interactive table.\"\n",
              "            style=\"display:none;\">\n",
              "\n",
              "  <svg xmlns=\"http://www.w3.org/2000/svg\" height=\"24px\" viewBox=\"0 -960 960 960\">\n",
              "    <path d=\"M120-120v-720h720v720H120Zm60-500h600v-160H180v160Zm220 220h160v-160H400v160Zm0 220h160v-160H400v160ZM180-400h160v-160H180v160Zm440 0h160v-160H620v160ZM180-180h160v-160H180v160Zm440 0h160v-160H620v160Z\"/>\n",
              "  </svg>\n",
              "    </button>\n",
              "\n",
              "  <style>\n",
              "    .colab-df-container {\n",
              "      display:flex;\n",
              "      gap: 12px;\n",
              "    }\n",
              "\n",
              "    .colab-df-convert {\n",
              "      background-color: #E8F0FE;\n",
              "      border: none;\n",
              "      border-radius: 50%;\n",
              "      cursor: pointer;\n",
              "      display: none;\n",
              "      fill: #1967D2;\n",
              "      height: 32px;\n",
              "      padding: 0 0 0 0;\n",
              "      width: 32px;\n",
              "    }\n",
              "\n",
              "    .colab-df-convert:hover {\n",
              "      background-color: #E2EBFA;\n",
              "      box-shadow: 0px 1px 2px rgba(60, 64, 67, 0.3), 0px 1px 3px 1px rgba(60, 64, 67, 0.15);\n",
              "      fill: #174EA6;\n",
              "    }\n",
              "\n",
              "    .colab-df-buttons div {\n",
              "      margin-bottom: 4px;\n",
              "    }\n",
              "\n",
              "    [theme=dark] .colab-df-convert {\n",
              "      background-color: #3B4455;\n",
              "      fill: #D2E3FC;\n",
              "    }\n",
              "\n",
              "    [theme=dark] .colab-df-convert:hover {\n",
              "      background-color: #434B5C;\n",
              "      box-shadow: 0px 1px 3px 1px rgba(0, 0, 0, 0.15);\n",
              "      filter: drop-shadow(0px 1px 2px rgba(0, 0, 0, 0.3));\n",
              "      fill: #FFFFFF;\n",
              "    }\n",
              "  </style>\n",
              "\n",
              "    <script>\n",
              "      const buttonEl =\n",
              "        document.querySelector('#df-2756723f-2e48-41a5-97ee-5f27d89af3fa button.colab-df-convert');\n",
              "      buttonEl.style.display =\n",
              "        google.colab.kernel.accessAllowed ? 'block' : 'none';\n",
              "\n",
              "      async function convertToInteractive(key) {\n",
              "        const element = document.querySelector('#df-2756723f-2e48-41a5-97ee-5f27d89af3fa');\n",
              "        const dataTable =\n",
              "          await google.colab.kernel.invokeFunction('convertToInteractive',\n",
              "                                                    [key], {});\n",
              "        if (!dataTable) return;\n",
              "\n",
              "        const docLinkHtml = 'Like what you see? Visit the ' +\n",
              "          '<a target=\"_blank\" href=https://colab.research.google.com/notebooks/data_table.ipynb>data table notebook</a>'\n",
              "          + ' to learn more about interactive tables.';\n",
              "        element.innerHTML = '';\n",
              "        dataTable['output_type'] = 'display_data';\n",
              "        await google.colab.output.renderOutput(dataTable, element);\n",
              "        const docLink = document.createElement('div');\n",
              "        docLink.innerHTML = docLinkHtml;\n",
              "        element.appendChild(docLink);\n",
              "      }\n",
              "    </script>\n",
              "  </div>\n",
              "\n",
              "    </div>\n",
              "  </div>\n"
            ],
            "text/plain": [
              "                                                          q_id  \\\n",
              "description  a string question identifier for each example,...   \n",
              "\n",
              "                                                     subreddit  \\\n",
              "description  always explainlikeimfive, indicating which sub...   \n",
              "\n",
              "                                                      category  \\\n",
              "description  tag of the question, the possible values are l...   \n",
              "\n",
              "                                                         title  \\\n",
              "description  title of the question, with URLs extracted and...   \n",
              "\n",
              "                                                    title_urls  \\\n",
              "description  list of the extracted URLs, the nth element of...   \n",
              "\n",
              "                                                      selftext  \\\n",
              "description  either an empty string or an elaboration of th...   \n",
              "\n",
              "                                       selftext_urls  \\\n",
              "description  similar to title_urls but for self_text   \n",
              "\n",
              "                                        answers  \\\n",
              "description  a list of answers, each answer has   \n",
              "\n",
              "                                                          a_id  \\\n",
              "description  a string answer identifier for each answer, co...   \n",
              "\n",
              "                                                text  \\\n",
              "description  he answer text with the URLs normalized   \n",
              "\n",
              "                                                         score  \\\n",
              "description  the number of upvotes - the number of downvote...   \n",
              "\n",
              "                                               text_urls  \n",
              "description  ists of the extracted URLs for every answer  "
            ]
          },
          "execution_count": 5,
          "metadata": {},
          "output_type": "execute_result"
        }
      ],
      "source": [
        "\n",
        "\n",
        "import pandas as pd # I just created a dataframe of information\n",
        "information_of_dataset = pd.DataFrame({'q_id': ['a string question identifier for each example, corresponding to its ID in the Pushshift.io Reddit submission dumps'],\n",
        "                            'subreddit':['always explainlikeimfive, indicating which subreddit the question came from'],\n",
        "                            'category':['tag of the question, the possible values are listed above.'],\n",
        "                            'title':['title of the question, with URLs extracted and replaced by URL_n tokens'],\n",
        "                            'title_urls':['list of the extracted URLs, the nth element of the list was replaced by URL_n'],\n",
        "                            'selftext':['either an empty string or an elaboration of the question'],\n",
        "                            'selftext_urls':['similar to title_urls but for self_text'],\n",
        "                            'answers':['a list of answers, each answer has'],\n",
        "                            'a_id':['a string answer identifier for each answer, corresponding to its ID in the Pushshift.io Reddit comments dumps.'],\n",
        "                            'text':['he answer text with the URLs normalized'],\n",
        "                            'score':['the number of upvotes - the number of downvotes the answer had received when the dumps were created'],\n",
        "                            'text_urls': ['ists of the extracted URLs for every answer']},index=['description'])\n",
        "print('In the following table, you can see dataset information. If you need to have a better view, try to use the icon on the right side')\n",
        "print('*'*100)\n",
        "information_of_dataset"
      ]
    },
    {
      "cell_type": "markdown",
      "metadata": {
        "id": "33CwqF23qXl3"
      },
      "source": [
        "##Let's focues on train part of dataset and see the first element of raw_train_dataset"
      ]
    },
    {
      "cell_type": "code",
      "execution_count": 6,
      "metadata": {
        "colab": {
          "base_uri": "https://localhost:8080/"
        },
        "id": "irpK_hPlw5NF",
        "outputId": "79fe7aec-d770-40ef-b450-c1bafbff580c"
      },
      "outputs": [
        {
          "name": "stdout",
          "output_type": "stream",
          "text": [
            "Let us see the first element of raw_train_dataset: \n",
            "****************************************************************************************************\n",
            "\n",
            "\n"
          ]
        },
        {
          "data": {
            "text/plain": [
              "{'q_id': '5lchat',\n",
              " 'title': \"Why there was a 'leap second' added to the end of 2016?\",\n",
              " 'selftext': '',\n",
              " 'category': 'Other',\n",
              " 'subreddit': 'explainlikeimfive',\n",
              " 'answers': {'a_id': ['dbuoyxl', 'dbur7gi', 'dbuotht'],\n",
              "  'text': ['the rotation of the earth is not a constant. in fact the rotation of the earth is slowing down, which means that a full day is getting slightly longer. without leap seconds our clocks would slowly drift ever so slightly out of sync with the actual day. we could deal with this by redefining how how long 1 second is, making it slightly longer so that one day is still exactly 24*60*60 seconds. but in practice that is really inconvenient for a lot of our technology which relies on very precise timing. its easier to just move us ahead one second every couple of years or so.',\n",
              "   \"The Earth's rotation is not regular. It varies a bit, so sometimes we add a second. We do this to ensure that noon is always going to be sometime around mid-day. If we did not add leap seconds, over a very long period of time where the Earth's rotation slowly changed, noon could end up being at dusk. We want to keep 7am in the morning, noon at mid-day, 7pm around evening, etc. Though we have never had one, it's also possible to have a negative leap second. That is, taking away a second from the year. This has never happened, but if the Earth's rotation were to speed up, it could happen. The biggest thing to know about leap seconds is that they can cause computer problems. You might remember the Y2K bug. A leap second can cause similar problems, and they actually have caused problems in the past. The reason for this is that generally we expect a day to have 24 hours, and for time to always move forward. With a leap second this is not true. When writing software, programers try to think of all the possible exceptions that could happen withing their code. For example, the program might expect a word, but instead get a number. A good programmer will check for these exceptions and deal with them. However, a programer can easily forget about leap seconds and not have a fail-safe in their code for when a day have more than 24 hours. When such an exception happens, the program can produce errors or crash. It is an interesting topic, you can read more about it here: URL_0\",\n",
              "   \"Because the Earth's rotation is slowing. If you multiply 24 hours by 60 minutes by 60 seconds, you find that there are 86400 seconds per day. The problem is that our definition of the second is based on [an average that is a century old.]( URL_0 ) In modern times, the average day is about 2 thousandths of a second longer—again, because of Earth's slowing rotation. Those thousandths of a second add up, so every few years we have to slip in an extra second to account for them. Without leap seconds, we'd eventually end up with noon at 7 o'clock, though admittedly, this would take a very long time.\"],\n",
              "  'score': [44, 5, 4],\n",
              "  'text_urls': [[],\n",
              "   ['http://adminhacks.com/leap-second-bugs.html'],\n",
              "   ['https://en.wikipedia.org/wiki/Newcomb%27s_Tables_of_the_Sun']]},\n",
              " 'title_urls': ['url'],\n",
              " 'selftext_urls': ['url']}"
            ]
          },
          "execution_count": 6,
          "metadata": {},
          "output_type": "execute_result"
        }
      ],
      "source": [
        "\n",
        "raw_train_dataset = dataset['train']\n",
        "print('Let us see the first element of raw_train_dataset: ')\n",
        "print('*'*100)\n",
        "print('\\n')\n",
        "\n",
        "raw_train_dataset[0]"
      ]
    },
    {
      "cell_type": "markdown",
      "metadata": {
        "id": "-vfycJn9tmal"
      },
      "source": [
        "#"
      ]
    },
    {
      "cell_type": "markdown",
      "metadata": {
        "id": "q75ew7SSqbUi"
      },
      "source": [
        "## Let's create a better dictionary of dataset and remove some unnecessary columns"
      ]
    },
    {
      "cell_type": "code",
      "execution_count": 7,
      "metadata": {
        "id": "nrLDY1KYU5ww"
      },
      "outputs": [],
      "source": [
        "\n",
        "\n",
        "import numpy as np\n",
        "def organize_dataset(dataset):\n",
        "  '''\n",
        "    input: dataset must be given as dataset['train'] or dataset['test']\n",
        "  '''\n",
        "  # Here, we just create a dictionary using the following columns\n",
        "  #1)questions\n",
        "  #2)self_text\n",
        "  #3)categories\n",
        "  #4)answers\n",
        "  #5)answers_scores\n",
        "  # Since other columns are unique acroos the whole dataset. If you would like to see wheater they are unique or not, you can\n",
        "  # use the following commands\n",
        "  print('Unique items in selftext_urls is just only: <', np.unique(dataset['selftext_urls'])[0],'> So, this column has been removed')\n",
        "  print('Unique items in title_urls is just only: <', np.unique(dataset['title_urls'])[0],'> So, this column has been removed')\n",
        "  print('Unique items in subreddit is just only: <', np.unique(dataset['subreddit'])[0],'> So, this column has been removed')\n",
        "\n",
        "\n",
        "  questions = dataset['title']\n",
        "  questions_selftext = dataset['selftext']\n",
        "  categories = dataset['category']\n",
        "\n",
        "  answers = []\n",
        "  answers_scores = []\n",
        "  for item in dataset:\n",
        "    answers.append(item['answers']['text'])\n",
        "    answers_scores.append(item['answers']['score'])\n",
        "\n",
        "  dataset_dict = {\"questions\":questions, \"selftext\": questions_selftext, \"category\":categories, \"answers\":answers, \"score\":answers_scores}\n",
        "  print('*'*100)\n",
        "  print('Now, we have a clean datset dictionary with ',dataset_dict.keys())\n",
        "  print('*'*100)\n",
        "  return dataset_dict"
      ]
    },
    {
      "cell_type": "code",
      "execution_count": 8,
      "metadata": {
        "colab": {
          "base_uri": "https://localhost:8080/"
        },
        "id": "CYNaougeVFbK",
        "outputId": "33e22183-84b1-46bc-b93b-d156ad9d4303"
      },
      "outputs": [
        {
          "name": "stdout",
          "output_type": "stream",
          "text": [
            "Unique items in selftext_urls is just only: < url > So, this column has been removed\n",
            "Unique items in title_urls is just only: < url > So, this column has been removed\n",
            "Unique items in subreddit is just only: < explainlikeimfive > So, this column has been removed\n",
            "****************************************************************************************************\n",
            "Now, we have a clean datset dictionary with  dict_keys(['questions', 'selftext', 'category', 'answers', 'score'])\n",
            "****************************************************************************************************\n"
          ]
        }
      ],
      "source": [
        "dataset_dict = organize_dataset(dataset['train'])"
      ]
    },
    {
      "cell_type": "markdown",
      "metadata": {
        "id": "CxIj4iPPxKPq"
      },
      "source": [
        "# Continue EDA"
      ]
    },
    {
      "cell_type": "markdown",
      "metadata": {
        "id": "s6tE3Sz_qhvA"
      },
      "source": [
        "##Let's see the first 3 questions with their attributes"
      ]
    },
    {
      "cell_type": "code",
      "execution_count": null,
      "metadata": {
        "colab": {
          "base_uri": "https://localhost:8080/"
        },
        "id": "foxM94yqVNdW",
        "outputId": "ca1484d0-ccb1-4384-c4d5-45de138ad68b"
      },
      "outputs": [
        {
          "name": "stdout",
          "output_type": "stream",
          "text": [
            "Question 1: Why there was a 'leap second' added to the end of 2016?\n",
            "Category: Other\n",
            "Answer 1: the rotation of the earth is not a constant. in fact the rotation of the earth is slowing down, which means that a full day is getting slightly longer. without leap seconds our clocks would slowly drift ever so slightly out of sync with the actual day. we could deal with this by redefining how how long 1 second is, making it slightly longer so that one day is still exactly 24*60*60 seconds. but in practice that is really inconvenient for a lot of our technology which relies on very precise timing. its easier to just move us ahead one second every couple of years or so. \n",
            "Score 1: 44\n",
            "Answer 2: The Earth's rotation is not regular. It varies a bit, so sometimes we add a second. We do this to ensure that noon is always going to be sometime around mid-day. If we did not add leap seconds, over a very long period of time where the Earth's rotation slowly changed, noon could end up being at dusk. We want to keep 7am in the morning, noon at mid-day, 7pm around evening, etc. Though we have never had one, it's also possible to have a negative leap second. That is, taking away a second from the year. This has never happened, but if the Earth's rotation were to speed up, it could happen. The biggest thing to know about leap seconds is that they can cause computer problems. You might remember the Y2K bug. A leap second can cause similar problems, and they actually have caused problems in the past. The reason for this is that generally we expect a day to have 24 hours, and for time to always move forward. With a leap second this is not true. When writing software, programers try to think of all the possible exceptions that could happen withing their code. For example, the program might expect a word, but instead get a number. A good programmer will check for these exceptions and deal with them. However, a programer can easily forget about leap seconds and not have a fail-safe in their code for when a day have more than 24 hours. When such an exception happens, the program can produce errors or crash. It is an interesting topic, you can read more about it here: URL_0 \n",
            "Score 2: 5\n",
            "Answer 3: Because the Earth's rotation is slowing. If you multiply 24 hours by 60 minutes by 60 seconds, you find that there are 86400 seconds per day. The problem is that our definition of the second is based on [an average that is a century old.]( URL_0 ) In modern times, the average day is about 2 thousandths of a second longer—again, because of Earth's slowing rotation. Those thousandths of a second add up, so every few years we have to slip in an extra second to account for them. Without leap seconds, we'd eventually end up with noon at 7 o'clock, though admittedly, this would take a very long time. \n",
            "Score 3: 4\n",
            "****************************************************************************************************\n",
            "Question 2: How do you claim undiscovered land?\n",
            "Category: Other\n",
            "Answer 1: Imagine you are out walking in the woods near your house and you find a cave. You think to yourself, \"Gee that's a real nice cave, there's just enough room for my rocket car, my crime fighting computer and my superhero costume collection. It'd be perfect for me.\" Let's say that nobody already owns the cave, so you move in and bring in all your stuff. You carve a costume wardrobe into one of the stone walls, grab a shovel and flatten the floor a bit so your rocket car can drive in and out. After you've finished working on the cave and fixing it up you start to think of it as yours. But not everybody agrees. There's another guy a few miles away who also fancies himself a billionaire superhero like you. Flies around in a stupid metal suit that he made himself while a prisoner of the Taliban or something like that. Anyway, one day he walks by and sees your cave and thinks, \"That's a great cave, I should make that my lair.\" So he comes in for a chat. He starts by telling you that he's going to move into your cave because it's his. You tell him to get stuffed, and that if he tries to take it from you, you'll be forced to unwrap a bundle of BAM!, POW! and WHOOF! on him. And what's more, you've recently adopted a teenage boy who'll do the same. \"Yeah?\" says the guy, \"Well if that's how you feel, I'm friends with a cryogenically frozen soldier, a Norse god and some dude who owns a bow and arrow. They'll back me up if I ask them. Your move.\" \"So what?\" you say. \"One of my friends is a super strong refugee from a dying planet, another is a mythical Amazonian warrior and there's also a guy who was electrocuted by lightning while drowning in toxic chemicals. They'll take your friends for sure.\" \"Yeah? We'll see. How fast can your friends be here?\" \"Funny you should ask. There's something I didn't tell you about my friend who got struck by lightning.\" Suddenly a phone rings. It's the other guy's cell. On the phone is a cool, english sounding voice with immense gravitas. \"Forget the cave.\" it says. \"I've spent my life training superhero teams at my private academy, and I'm telling you, your team is outgunned. In any case, nobody else wants a fight over this cave when we should all be working together for the good of mankind. Everyone else has decided the cave is his cause he claimed it first. So walk away.\" This call makes all the difference. The other guy might not be happy, but he leaves you in peace. The cave is yours because a) you claimed it b) you were in a position to defend it and c) everyone else agreed that your claim and ability to defend were substantial enough to recognise your right of ownership. \n",
            "Score 1: 195\n",
            "Answer 2: By force. Historically, nations have defended their territory via their military or the military of their allies. If you want to keep an undiscovered island for yourself, be prepared to fight for it. \n",
            "Score 2: 39\n",
            "Answer 3: With a flag and an force/money to back the claim. Now you've got a claim and prevented people from conquering it. The next step is making everybody else acknowledge the claim you have is legitimate. Historically that was usually done by force and/or transporting people there. If you're interested there is discovered and unclaimed land in several places in the world (terra nullius). Antartica has the most unclaimed land. A few other places have border disputes that result in neither side accepting a small chunk of land. \n",
            "Score 3: 5\n",
            "****************************************************************************************************\n",
            "Question 3: Why do we fail to do realistic human CGI (like in SW Rouge One) yet we do it so great on non-human beings (like in Warcraft)?\n",
            "Category: Technology\n",
            "Answer 1: It's more that we're really good at picking up subtle mistakes in humans, and fantasy beasts have no reference, so its a lot harder for them to look wrong. \n",
            "Score 1: 34\n",
            "Answer 2: Probably because we are so adapted to human skin/tone/etc. that our brains can pick out what is real and what is fake. Since we can't actually conceptualize what alien skin would be, real or fake is no different to us. Think about it like being scared as a child by a man dressed in a costume, over time we learn and accept that it is fake and not a threat (except clowns fuck that shit). \n",
            "Score 2: 11\n",
            "Answer 3: When was the last time you compared an Orc IRL to WoW? \n",
            "Score 3: 7\n",
            "Answer 4: It's a phenomenon known as the uncanny valley. We are very good at noticing when something is off with our fellow human beings. \n",
            "Score 4: 7\n",
            "****************************************************************************************************\n"
          ]
        }
      ],
      "source": [
        "\n",
        "for i in range(3):\n",
        "  Question = dataset_dict['questions'][i]\n",
        "  print(f'Question {i+1}: {Question}')\n",
        "  Category = dataset_dict['category'][i]\n",
        "  print(f\"Category: {Category}\")\n",
        "  Answers = dataset_dict['answers'][i]\n",
        "\n",
        "  index = 0\n",
        "  for Answer in Answers:\n",
        "    print(f\"Answer {index+1}: {Answer} \")\n",
        "    print(f\"Score {index+1}: {dataset_dict['score'][i][index]}\")\n",
        "    index+=1\n",
        "\n",
        "  print('*'*100)\n"
      ]
    },
    {
      "cell_type": "markdown",
      "metadata": {
        "id": "FR5NiKCybMAV"
      },
      "source": [
        "##Let's trun dictionary to dataframe"
      ]
    },
    {
      "cell_type": "code",
      "execution_count": null,
      "metadata": {
        "colab": {
          "base_uri": "https://localhost:8080/",
          "height": 323
        },
        "id": "kjUltfPibQfW",
        "outputId": "bc032f77-926a-4f45-9349-4fb5e63a05e4"
      },
      "outputs": [
        {
          "data": {
            "application/vnd.google.colaboratory.intrinsic+json": {
              "summary": "{\n  \"name\": \"df\",\n  \"rows\": 91772,\n  \"fields\": [\n    {\n      \"column\": \"q_id\",\n      \"properties\": {\n        \"dtype\": \"string\",\n        \"num_unique_values\": 91772,\n        \"samples\": [\n          \"89q7x9\",\n          \"hlri5e\",\n          \"b53vp5\"\n        ],\n        \"semantic_type\": \"\",\n        \"description\": \"\"\n      }\n    },\n    {\n      \"column\": \"title\",\n      \"properties\": {\n        \"dtype\": \"string\",\n        \"num_unique_values\": 91210,\n        \"samples\": [\n          \"Why does our vision sometimes blackout when we stand up?\",\n          \"Why do you need non-linear activation functions in neural networks? What is the problem with linearity?\",\n          \"When you board a plane to a different country, which country are you technically in for law/regulation purposes? For example if I board a plane from Canada to USA, is the drinking age on the plane 18 or 21?\"\n        ],\n        \"semantic_type\": \"\",\n        \"description\": \"\"\n      }\n    },\n    {\n      \"column\": \"selftext\",\n      \"properties\": {\n        \"dtype\": \"category\",\n        \"num_unique_values\": 29147,\n        \"samples\": [\n          \"I always thought when someone starts their own business, they can run it however they see fit. But then I learned about these types of companies (S-corporations, C-corporations, LLCs, etc) with all these complicated rules. So businesses can't just govern themselves however they want? Like why do corporations have to have a board of directors (whad if a company doesn't want one)? Man, that's so damn restrictive!\",\n          \"Is it something like a vector with more dimensions??? If possible, what\\u2019s a concrete example?\",\n          \"My friends and I are playing games online and I have them on discord, on a voice chat. Even if the game we were playing has background music on almost full volume, they still are only able to hear my own voice and basically nothing else from my side?\"\n        ],\n        \"semantic_type\": \"\",\n        \"description\": \"\"\n      }\n    },\n    {\n      \"column\": \"category\",\n      \"properties\": {\n        \"dtype\": \"category\",\n        \"num_unique_values\": 9,\n        \"samples\": [\n          \"Psychology\",\n          \"Technology\",\n          \"Physics\"\n        ],\n        \"semantic_type\": \"\",\n        \"description\": \"\"\n      }\n    },\n    {\n      \"column\": \"subreddit\",\n      \"properties\": {\n        \"dtype\": \"category\",\n        \"num_unique_values\": 1,\n        \"samples\": [\n          \"explainlikeimfive\"\n        ],\n        \"semantic_type\": \"\",\n        \"description\": \"\"\n      }\n    },\n    {\n      \"column\": \"answers\",\n      \"properties\": {\n        \"dtype\": \"object\",\n        \"semantic_type\": \"\",\n        \"description\": \"\"\n      }\n    },\n    {\n      \"column\": \"title_urls\",\n      \"properties\": {\n        \"dtype\": \"object\",\n        \"semantic_type\": \"\",\n        \"description\": \"\"\n      }\n    },\n    {\n      \"column\": \"selftext_urls\",\n      \"properties\": {\n        \"dtype\": \"object\",\n        \"semantic_type\": \"\",\n        \"description\": \"\"\n      }\n    }\n  ]\n}",
              "type": "dataframe",
              "variable_name": "df"
            },
            "text/html": [
              "\n",
              "  <div id=\"df-231653f1-b8ab-43cd-a2b2-145069c3cb19\" class=\"colab-df-container\">\n",
              "    <div>\n",
              "<style scoped>\n",
              "    .dataframe tbody tr th:only-of-type {\n",
              "        vertical-align: middle;\n",
              "    }\n",
              "\n",
              "    .dataframe tbody tr th {\n",
              "        vertical-align: top;\n",
              "    }\n",
              "\n",
              "    .dataframe thead th {\n",
              "        text-align: right;\n",
              "    }\n",
              "</style>\n",
              "<table border=\"1\" class=\"dataframe\">\n",
              "  <thead>\n",
              "    <tr style=\"text-align: right;\">\n",
              "      <th></th>\n",
              "      <th>q_id</th>\n",
              "      <th>title</th>\n",
              "      <th>selftext</th>\n",
              "      <th>category</th>\n",
              "      <th>subreddit</th>\n",
              "      <th>answers</th>\n",
              "      <th>title_urls</th>\n",
              "      <th>selftext_urls</th>\n",
              "    </tr>\n",
              "  </thead>\n",
              "  <tbody>\n",
              "    <tr>\n",
              "      <th>0</th>\n",
              "      <td>5lchat</td>\n",
              "      <td>Why there was a 'leap second' added to the end...</td>\n",
              "      <td></td>\n",
              "      <td>Other</td>\n",
              "      <td>explainlikeimfive</td>\n",
              "      <td>{'a_id': ['dbuoyxl', 'dbur7gi', 'dbuotht'], 't...</td>\n",
              "      <td>[url]</td>\n",
              "      <td>[url]</td>\n",
              "    </tr>\n",
              "    <tr>\n",
              "      <th>1</th>\n",
              "      <td>5lcjq6</td>\n",
              "      <td>How do you claim undiscovered land?</td>\n",
              "      <td>If your on a boat, sailing through lets say th...</td>\n",
              "      <td>Other</td>\n",
              "      <td>explainlikeimfive</td>\n",
              "      <td>{'a_id': ['dbuplm8', 'dbuocvb', 'dbux9vf'], 't...</td>\n",
              "      <td>[url]</td>\n",
              "      <td>[url]</td>\n",
              "    </tr>\n",
              "    <tr>\n",
              "      <th>2</th>\n",
              "      <td>5lcl43</td>\n",
              "      <td>Why do we fail to do realistic human CGI (like...</td>\n",
              "      <td>Title pretty much, thanks for answers in advance!</td>\n",
              "      <td>Technology</td>\n",
              "      <td>explainlikeimfive</td>\n",
              "      <td>{'a_id': ['dbuns7l', 'dbunw2c', 'dbup34d', 'db...</td>\n",
              "      <td>[url]</td>\n",
              "      <td>[url]</td>\n",
              "    </tr>\n",
              "    <tr>\n",
              "      <th>3</th>\n",
              "      <td>5lcr1h</td>\n",
              "      <td>Why is it that we calm down when we take a dee...</td>\n",
              "      <td></td>\n",
              "      <td>Biology</td>\n",
              "      <td>explainlikeimfive</td>\n",
              "      <td>{'a_id': ['dbuusst'], 'text': ['Anxiety/stress...</td>\n",
              "      <td>[url]</td>\n",
              "      <td>[url]</td>\n",
              "    </tr>\n",
              "    <tr>\n",
              "      <th>4</th>\n",
              "      <td>5lcsyf</td>\n",
              "      <td>Why does 1080p on a 4k TV look better than 108...</td>\n",
              "      <td></td>\n",
              "      <td>Technology</td>\n",
              "      <td>explainlikeimfive</td>\n",
              "      <td>{'a_id': ['dbuq0qt', 'dbuqstj'], 'text': ['In ...</td>\n",
              "      <td>[url]</td>\n",
              "      <td>[url]</td>\n",
              "    </tr>\n",
              "  </tbody>\n",
              "</table>\n",
              "</div>\n",
              "    <div class=\"colab-df-buttons\">\n",
              "\n",
              "  <div class=\"colab-df-container\">\n",
              "    <button class=\"colab-df-convert\" onclick=\"convertToInteractive('df-231653f1-b8ab-43cd-a2b2-145069c3cb19')\"\n",
              "            title=\"Convert this dataframe to an interactive table.\"\n",
              "            style=\"display:none;\">\n",
              "\n",
              "  <svg xmlns=\"http://www.w3.org/2000/svg\" height=\"24px\" viewBox=\"0 -960 960 960\">\n",
              "    <path d=\"M120-120v-720h720v720H120Zm60-500h600v-160H180v160Zm220 220h160v-160H400v160Zm0 220h160v-160H400v160ZM180-400h160v-160H180v160Zm440 0h160v-160H620v160ZM180-180h160v-160H180v160Zm440 0h160v-160H620v160Z\"/>\n",
              "  </svg>\n",
              "    </button>\n",
              "\n",
              "  <style>\n",
              "    .colab-df-container {\n",
              "      display:flex;\n",
              "      gap: 12px;\n",
              "    }\n",
              "\n",
              "    .colab-df-convert {\n",
              "      background-color: #E8F0FE;\n",
              "      border: none;\n",
              "      border-radius: 50%;\n",
              "      cursor: pointer;\n",
              "      display: none;\n",
              "      fill: #1967D2;\n",
              "      height: 32px;\n",
              "      padding: 0 0 0 0;\n",
              "      width: 32px;\n",
              "    }\n",
              "\n",
              "    .colab-df-convert:hover {\n",
              "      background-color: #E2EBFA;\n",
              "      box-shadow: 0px 1px 2px rgba(60, 64, 67, 0.3), 0px 1px 3px 1px rgba(60, 64, 67, 0.15);\n",
              "      fill: #174EA6;\n",
              "    }\n",
              "\n",
              "    .colab-df-buttons div {\n",
              "      margin-bottom: 4px;\n",
              "    }\n",
              "\n",
              "    [theme=dark] .colab-df-convert {\n",
              "      background-color: #3B4455;\n",
              "      fill: #D2E3FC;\n",
              "    }\n",
              "\n",
              "    [theme=dark] .colab-df-convert:hover {\n",
              "      background-color: #434B5C;\n",
              "      box-shadow: 0px 1px 3px 1px rgba(0, 0, 0, 0.15);\n",
              "      filter: drop-shadow(0px 1px 2px rgba(0, 0, 0, 0.3));\n",
              "      fill: #FFFFFF;\n",
              "    }\n",
              "  </style>\n",
              "\n",
              "    <script>\n",
              "      const buttonEl =\n",
              "        document.querySelector('#df-231653f1-b8ab-43cd-a2b2-145069c3cb19 button.colab-df-convert');\n",
              "      buttonEl.style.display =\n",
              "        google.colab.kernel.accessAllowed ? 'block' : 'none';\n",
              "\n",
              "      async function convertToInteractive(key) {\n",
              "        const element = document.querySelector('#df-231653f1-b8ab-43cd-a2b2-145069c3cb19');\n",
              "        const dataTable =\n",
              "          await google.colab.kernel.invokeFunction('convertToInteractive',\n",
              "                                                    [key], {});\n",
              "        if (!dataTable) return;\n",
              "\n",
              "        const docLinkHtml = 'Like what you see? Visit the ' +\n",
              "          '<a target=\"_blank\" href=https://colab.research.google.com/notebooks/data_table.ipynb>data table notebook</a>'\n",
              "          + ' to learn more about interactive tables.';\n",
              "        element.innerHTML = '';\n",
              "        dataTable['output_type'] = 'display_data';\n",
              "        await google.colab.output.renderOutput(dataTable, element);\n",
              "        const docLink = document.createElement('div');\n",
              "        docLink.innerHTML = docLinkHtml;\n",
              "        element.appendChild(docLink);\n",
              "      }\n",
              "    </script>\n",
              "  </div>\n",
              "\n",
              "\n",
              "<div id=\"df-1d9db9c0-3942-44db-a39b-7af7e9c8037b\">\n",
              "  <button class=\"colab-df-quickchart\" onclick=\"quickchart('df-1d9db9c0-3942-44db-a39b-7af7e9c8037b')\"\n",
              "            title=\"Suggest charts\"\n",
              "            style=\"display:none;\">\n",
              "\n",
              "<svg xmlns=\"http://www.w3.org/2000/svg\" height=\"24px\"viewBox=\"0 0 24 24\"\n",
              "     width=\"24px\">\n",
              "    <g>\n",
              "        <path d=\"M19 3H5c-1.1 0-2 .9-2 2v14c0 1.1.9 2 2 2h14c1.1 0 2-.9 2-2V5c0-1.1-.9-2-2-2zM9 17H7v-7h2v7zm4 0h-2V7h2v10zm4 0h-2v-4h2v4z\"/>\n",
              "    </g>\n",
              "</svg>\n",
              "  </button>\n",
              "\n",
              "<style>\n",
              "  .colab-df-quickchart {\n",
              "      --bg-color: #E8F0FE;\n",
              "      --fill-color: #1967D2;\n",
              "      --hover-bg-color: #E2EBFA;\n",
              "      --hover-fill-color: #174EA6;\n",
              "      --disabled-fill-color: #AAA;\n",
              "      --disabled-bg-color: #DDD;\n",
              "  }\n",
              "\n",
              "  [theme=dark] .colab-df-quickchart {\n",
              "      --bg-color: #3B4455;\n",
              "      --fill-color: #D2E3FC;\n",
              "      --hover-bg-color: #434B5C;\n",
              "      --hover-fill-color: #FFFFFF;\n",
              "      --disabled-bg-color: #3B4455;\n",
              "      --disabled-fill-color: #666;\n",
              "  }\n",
              "\n",
              "  .colab-df-quickchart {\n",
              "    background-color: var(--bg-color);\n",
              "    border: none;\n",
              "    border-radius: 50%;\n",
              "    cursor: pointer;\n",
              "    display: none;\n",
              "    fill: var(--fill-color);\n",
              "    height: 32px;\n",
              "    padding: 0;\n",
              "    width: 32px;\n",
              "  }\n",
              "\n",
              "  .colab-df-quickchart:hover {\n",
              "    background-color: var(--hover-bg-color);\n",
              "    box-shadow: 0 1px 2px rgba(60, 64, 67, 0.3), 0 1px 3px 1px rgba(60, 64, 67, 0.15);\n",
              "    fill: var(--button-hover-fill-color);\n",
              "  }\n",
              "\n",
              "  .colab-df-quickchart-complete:disabled,\n",
              "  .colab-df-quickchart-complete:disabled:hover {\n",
              "    background-color: var(--disabled-bg-color);\n",
              "    fill: var(--disabled-fill-color);\n",
              "    box-shadow: none;\n",
              "  }\n",
              "\n",
              "  .colab-df-spinner {\n",
              "    border: 2px solid var(--fill-color);\n",
              "    border-color: transparent;\n",
              "    border-bottom-color: var(--fill-color);\n",
              "    animation:\n",
              "      spin 1s steps(1) infinite;\n",
              "  }\n",
              "\n",
              "  @keyframes spin {\n",
              "    0% {\n",
              "      border-color: transparent;\n",
              "      border-bottom-color: var(--fill-color);\n",
              "      border-left-color: var(--fill-color);\n",
              "    }\n",
              "    20% {\n",
              "      border-color: transparent;\n",
              "      border-left-color: var(--fill-color);\n",
              "      border-top-color: var(--fill-color);\n",
              "    }\n",
              "    30% {\n",
              "      border-color: transparent;\n",
              "      border-left-color: var(--fill-color);\n",
              "      border-top-color: var(--fill-color);\n",
              "      border-right-color: var(--fill-color);\n",
              "    }\n",
              "    40% {\n",
              "      border-color: transparent;\n",
              "      border-right-color: var(--fill-color);\n",
              "      border-top-color: var(--fill-color);\n",
              "    }\n",
              "    60% {\n",
              "      border-color: transparent;\n",
              "      border-right-color: var(--fill-color);\n",
              "    }\n",
              "    80% {\n",
              "      border-color: transparent;\n",
              "      border-right-color: var(--fill-color);\n",
              "      border-bottom-color: var(--fill-color);\n",
              "    }\n",
              "    90% {\n",
              "      border-color: transparent;\n",
              "      border-bottom-color: var(--fill-color);\n",
              "    }\n",
              "  }\n",
              "</style>\n",
              "\n",
              "  <script>\n",
              "    async function quickchart(key) {\n",
              "      const quickchartButtonEl =\n",
              "        document.querySelector('#' + key + ' button');\n",
              "      quickchartButtonEl.disabled = true;  // To prevent multiple clicks.\n",
              "      quickchartButtonEl.classList.add('colab-df-spinner');\n",
              "      try {\n",
              "        const charts = await google.colab.kernel.invokeFunction(\n",
              "            'suggestCharts', [key], {});\n",
              "      } catch (error) {\n",
              "        console.error('Error during call to suggestCharts:', error);\n",
              "      }\n",
              "      quickchartButtonEl.classList.remove('colab-df-spinner');\n",
              "      quickchartButtonEl.classList.add('colab-df-quickchart-complete');\n",
              "    }\n",
              "    (() => {\n",
              "      let quickchartButtonEl =\n",
              "        document.querySelector('#df-1d9db9c0-3942-44db-a39b-7af7e9c8037b button');\n",
              "      quickchartButtonEl.style.display =\n",
              "        google.colab.kernel.accessAllowed ? 'block' : 'none';\n",
              "    })();\n",
              "  </script>\n",
              "</div>\n",
              "    </div>\n",
              "  </div>\n"
            ],
            "text/plain": [
              "     q_id                                              title  \\\n",
              "0  5lchat  Why there was a 'leap second' added to the end...   \n",
              "1  5lcjq6                How do you claim undiscovered land?   \n",
              "2  5lcl43  Why do we fail to do realistic human CGI (like...   \n",
              "3  5lcr1h  Why is it that we calm down when we take a dee...   \n",
              "4  5lcsyf  Why does 1080p on a 4k TV look better than 108...   \n",
              "\n",
              "                                            selftext    category  \\\n",
              "0                                                          Other   \n",
              "1  If your on a boat, sailing through lets say th...       Other   \n",
              "2  Title pretty much, thanks for answers in advance!  Technology   \n",
              "3                                                        Biology   \n",
              "4                                                     Technology   \n",
              "\n",
              "           subreddit                                            answers  \\\n",
              "0  explainlikeimfive  {'a_id': ['dbuoyxl', 'dbur7gi', 'dbuotht'], 't...   \n",
              "1  explainlikeimfive  {'a_id': ['dbuplm8', 'dbuocvb', 'dbux9vf'], 't...   \n",
              "2  explainlikeimfive  {'a_id': ['dbuns7l', 'dbunw2c', 'dbup34d', 'db...   \n",
              "3  explainlikeimfive  {'a_id': ['dbuusst'], 'text': ['Anxiety/stress...   \n",
              "4  explainlikeimfive  {'a_id': ['dbuq0qt', 'dbuqstj'], 'text': ['In ...   \n",
              "\n",
              "  title_urls selftext_urls  \n",
              "0      [url]         [url]  \n",
              "1      [url]         [url]  \n",
              "2      [url]         [url]  \n",
              "3      [url]         [url]  \n",
              "4      [url]         [url]  "
            ]
          },
          "execution_count": 10,
          "metadata": {},
          "output_type": "execute_result"
        }
      ],
      "source": [
        "df = pd.DataFrame(dataset['train'])\n",
        "df.head()"
      ]
    },
    {
      "cell_type": "markdown",
      "metadata": {
        "id": "3UhQlhCyqx3M"
      },
      "source": [
        "##Let's find category frequency"
      ]
    },
    {
      "cell_type": "code",
      "execution_count": null,
      "metadata": {
        "colab": {
          "base_uri": "https://localhost:8080/",
          "height": 635
        },
        "id": "cyv5iteKbYa2",
        "outputId": "0c3da8ec-1c9c-4cea-8c42-45d2ef537495"
      },
      "outputs": [
        {
          "data": {
            "image/png": "[encoded data removed]",
            "text/plain": [
              "<Figure size 1200x600 with 1 Axes>"
            ]
          },
          "metadata": {},
          "output_type": "display_data"
        },
        {
          "name": "stdout",
          "output_type": "stream",
          "text": [
            "****************************************************************************************************\n",
            "In the above picture, you can see that we are dealing with a kind of imbalanced dataset so that Bilogy category includes about 30,000 questions\n",
            "****************************************************************************************************\n"
          ]
        }
      ],
      "source": [
        "import matplotlib.pyplot as plt\n",
        "\n",
        "category_counts = df['category'].value_counts()\n",
        "\n",
        "# Plotting the bar chart\n",
        "plt.figure(figsize=(12, 6))  # Adjust the size of your plot\n",
        "plt.bar(category_counts.index, category_counts.values, color='blue')  # You can choose your own color\n",
        "plt.xlabel('Category')  # Label for the x-axis\n",
        "plt.ylabel('Frequency')  # Label for the y-axis\n",
        "plt.title('Category Frequency')  # Title of the plot\n",
        "plt.show()\n",
        "print('*'*100)\n",
        "print('In the above picture, you can see that we are dealing with a kind of imbalanced dataset so that Bilogy category includes about 30,000 questions')\n",
        "print('*'*100)"
      ]
    },
    {
      "cell_type": "markdown",
      "metadata": {
        "id": "iN1aPG5cq5X-"
      },
      "source": [
        "##Let's find Word frequency"
      ]
    },
    {
      "cell_type": "code",
      "execution_count": null,
      "metadata": {
        "colab": {
          "base_uri": "https://localhost:8080/",
          "height": 927
        },
        "id": "g8QM5IKLcSjd",
        "outputId": "2880fb43-3d22-4610-bb5b-7e62738fcc2b"
      },
      "outputs": [
        {
          "data": {
            "image/png": "[encoded data removed]",
            "text/plain": [
              "<Figure size 640x480 with 1 Axes>"
            ]
          },
          "metadata": {},
          "output_type": "display_data"
        },
        {
          "data": {
            "image/png": "[encoded data removed]",
            "text/plain": [
              "<Figure size 640x480 with 1 Axes>"
            ]
          },
          "metadata": {},
          "output_type": "display_data"
        }
      ],
      "source": [
        "questions_words_count = []\n",
        "for q in dataset_dict['questions']:\n",
        "  questions_words_count.append(len(q.split()))\n",
        "\n",
        "\n",
        "mean_questions_words_count = int(np.mean(questions_words_count))\n",
        "#print(f'\\tAverage number of words per question: {mean_questions_words_count}')\n",
        "\n",
        "\n",
        "# Create histogram with bins\n",
        "plt.hist(questions_words_count, bins=50, color='skyblue', edgecolor='black')\n",
        "plt.axvline(x=mean_questions_words_count, color='red', linestyle='--')\n",
        "\n",
        "# Add labels and title\n",
        "plt.xlabel('Number of Words')\n",
        "plt.ylabel('Frequency in all questions')\n",
        "plt.title('Word Freqeuncy in questions')\n",
        "plt.text(mean_questions_words_count+1, 10000, f'Average number of words per question={mean_questions_words_count}', color='red')\n",
        "\n",
        "# Show plot\n",
        "plt.show()\n",
        "\n",
        "answers_words_count = []\n",
        "for ans_list in dataset_dict['answers']:\n",
        "  for ans in ans_list:\n",
        "    answers_words_count.append(len(ans.split()))\n",
        "\n",
        "mean_answers_words_count = int(np.mean(answers_words_count))\n",
        "#print(f'\\tAverage number of words per answers: {mean_answers_words_count}')\n",
        "\n",
        "\n",
        "# Create histogram with bins\n",
        "plt.hist(answers_words_count, bins=50, color='skyblue', edgecolor='black')\n",
        "plt.axvline(x=mean_answers_words_count, color='red', linestyle='--')\n",
        "# Add labels and title\n",
        "plt.xlabel('Number of Words')\n",
        "plt.ylabel('Frequency in all ')\n",
        "plt.title('Word Freqeuncy in answers')\n",
        "plt.text(mean_answers_words_count+100, 50000, f'Average number of words per question={mean_answers_words_count}', color='red')\n",
        "\n",
        "# Show plot\n",
        "plt.show()"
      ]
    },
    {
      "cell_type": "markdown",
      "metadata": {
        "id": "N83vbZ3D9afI"
      },
      "source": [
        "## Let's find average number of answers per question"
      ]
    },
    {
      "cell_type": "code",
      "execution_count": null,
      "metadata": {
        "colab": {
          "base_uri": "https://localhost:8080/",
          "height": 1000
        },
        "id": "-3u0gHe29hqH",
        "outputId": "91df60f6-2aff-488e-973d-a07223f717fc"
      },
      "outputs": [
        {
          "name": "stdout",
          "output_type": "stream",
          "text": [
            "list_of_numbers_of_answers:  [3, 3, 4, 1, 2, 1, 1, 13, 2, 4]\n",
            "average_asnwers_per_question:  2.4418014209126966\n"
          ]
        },
        {
          "data": {
            "image/png": "[encoded data removed]",
            "text/plain": [
              "<Figure size 1000x600 with 1 Axes>"
            ]
          },
          "metadata": {},
          "output_type": "display_data"
        },
        {
          "data": {
            "image/png": "[encoded data removed]",
            "text/plain": [
              "<Figure size 1000x600 with 1 Axes>"
            ]
          },
          "metadata": {},
          "output_type": "display_data"
        }
      ],
      "source": [
        "no_of_questions = len(raw_train_dataset)\n",
        "list_of_numbers_of_answers = [len(raw_train_dataset[qeustion]['answers']['a_id']) for qeustion in range(len(raw_train_dataset))]\n",
        "average_asnwers_per_question = np.average(list_of_numbers_of_answers)\n",
        "print('list_of_numbers_of_answers: ', list_of_numbers_of_answers[:10])\n",
        "print('average_asnwers_per_question: ',average_asnwers_per_question)\n",
        "\n",
        "no_answers,frequency = np.unique(list_of_numbers_of_answers, return_counts=True)\n",
        "\n",
        "\n",
        "\n",
        "\n",
        "plt.figure(figsize=(10, 6))\n",
        "plt.bar(no_answers, frequency, color='skyblue', edgecolor='black')\n",
        "plt.title('Frequency Distribution of Number of Answers')\n",
        "plt.xlabel('Number of Answers')\n",
        "plt.ylabel('Frequency')\n",
        "plt.grid(axis='y')\n",
        "plt.show()\n",
        "\n",
        "expanded_scores = []\n",
        "for s, f in zip(no_answers, frequency):\n",
        "    expanded_scores.extend([s] * f)\n",
        "\n",
        "\n",
        "plt.figure(figsize=(10, 6))\n",
        "plt.boxplot(expanded_scores, vert=False, showfliers=False)\n",
        "plt.title('Box Plot of Answers')\n",
        "plt.xlabel('Number of Answers')\n",
        "plt.text(1.3, 1, 'Most Answers to questions', fontsize=12, color='red')\n",
        "plt.grid(True)\n",
        "plt.show()"
      ]
    },
    {
      "cell_type": "markdown",
      "metadata": {
        "id": "5LLdhWCGq9ZX"
      },
      "source": [
        "##Let's find asnwers word frequency, considering categories"
      ]
    },
    {
      "cell_type": "code",
      "execution_count": null,
      "metadata": {
        "colab": {
          "base_uri": "https://localhost:8080/",
          "height": 563
        },
        "id": "bxIBpZs_lAij",
        "outputId": "073470b3-81f9-40a8-d6e9-eeb7ef52f73a"
      },
      "outputs": [
        {
          "data": {
            "image/png": "[encoded data removed]",
            "text/plain": [
              "<Figure size 600x400 with 1 Axes>"
            ]
          },
          "metadata": {},
          "output_type": "display_data"
        },
        {
          "name": "stdout",
          "output_type": "stream",
          "text": [
            "Average word count for answers of category \"Biology\": 97\n",
            "Average word count for answers of category \"Chemistry\": 94\n",
            "Average word count for answers of category \"Earth Science\": 97\n",
            "Average word count for answers of category \"Economics\": 127\n",
            "Average word count for answers of category \"Mathematics\": 146\n",
            "Average word count for answers of category \"Other\": 103\n",
            "Average word count for answers of category \"Physics\": 113\n",
            "Average word count for answers of category \"Psychology\": 110\n",
            "Average word count for answers of category \"Technology\": 121\n"
          ]
        }
      ],
      "source": [
        "answers_words_count_per_cat = {}\n",
        "answers_words_count = []\n",
        "\n",
        "for cat in np.unique(dataset_dict['category']):\n",
        "  answers_words_count = []\n",
        "  for item in dataset['train']:\n",
        "    if item['category'] == cat:\n",
        "      for ans in item['answers']['text']:\n",
        "        answers_words_count.append(len(ans.split()))\n",
        "  answers_words_count_per_cat[cat] = answers_words_count\n",
        "\n",
        "\n",
        "categories_names = np.unique(dataset_dict['category'])\n",
        "bars = [np.mean(answers_words_count_per_cat[cat]) for cat in answers_words_count_per_cat.keys()]\n",
        "\n",
        "fig, ax = plt.subplots(figsize =(6, 4))\n",
        "ax.barh(categories_names, bars)\n",
        "# Show top values\n",
        "ax.invert_yaxis()\n",
        "# Add Plot Title\n",
        "ax.set_title('Answers_words_count_per_cat',\n",
        "             loc ='center', )\n",
        "\n",
        "ax.grid( color ='grey',\n",
        "        linestyle ='-.', linewidth = 0.5,\n",
        "        alpha = 0.2)\n",
        "ax.set_xlabel('Word Frequency')\n",
        "\n",
        "plt.show()\n",
        "\n",
        "\n",
        "for cat in answers_words_count_per_cat.keys():\n",
        "  print(f'Average word count for answers of category \"{cat}\": {int(np.mean(answers_words_count_per_cat[cat]))}')"
      ]
    },
    {
      "cell_type": "markdown",
      "metadata": {
        "id": "3nuWkC6ezUwA"
      },
      "source": [
        "## Lower case\n"
      ]
    },
    {
      "cell_type": "code",
      "execution_count": null,
      "metadata": {
        "colab": {
          "base_uri": "https://localhost:8080/"
        },
        "id": "0n97f-SgzX1m",
        "outputId": "47309183-b2cf-43b5-a019-33322e905683"
      },
      "outputs": [
        {
          "name": "stdout",
          "output_type": "stream",
          "text": [
            "Lets see first lower case question VS first capitilzed question: Pay attention to <why> vs <Why? words\n",
            "****************************************************************************************************\n",
            "lowercase_question 1-->  why there was a 'leap second' added to the end of 2016?\n",
            "capitilized_question 1-->  Why there was a 'leap second' added to the end of 2016?\n",
            "\n",
            "Lets see first lower case answer VS first capitilzed answer of frist question:\n",
            "****************************************************************************************************\n",
            "lowercase_question 1-->  the rotation of the earth is not a constant. in fact the rotation of the earth is slowing down, which means that a full day is getting slightly longer. without leap seconds our clocks would slowly drift ever so slightly out of sync with the actual day. we could deal with this by redefining how how long 1 second is, making it slightly longer so that one day is still exactly 24*60*60 seconds. but in practice that is really inconvenient for a lot of our technology which relies on very precise timing. its easier to just move us ahead one second every couple of years or so.\n",
            "capitilized_question 1-->  the rotation of the earth is not a constant. in fact the rotation of the earth is slowing down, which means that a full day is getting slightly longer. without leap seconds our clocks would slowly drift ever so slightly out of sync with the actual day. we could deal with this by redefining how how long 1 second is, making it slightly longer so that one day is still exactly 24*60*60 seconds. but in practice that is really inconvenient for a lot of our technology which relies on very precise timing. its easier to just move us ahead one second every couple of years or so.\n",
            "\n",
            "\n",
            "****************************************************************************************************\n",
            "From now on, we can use lowercase inputs to our model\n",
            "****************************************************************************************************\n"
          ]
        }
      ],
      "source": [
        "#I tried to have lower case sentences, instead of sentences having captial words\n",
        "capitilized_questions = dataset_dict['questions']\n",
        "lowercase_questions = [question.lower() for question in capitilized_questions] # make all questions small\n",
        "print('Lets see first lower case question VS first capitilzed question: Pay attention to <why> vs <Why? words')\n",
        "print('*'*100)\n",
        "print('lowercase_question 1--> ',lowercase_questions[0])\n",
        "print('capitilized_question 1--> ', capitilized_questions[0])\n",
        "print('')\n",
        "\n",
        "# The same for answers\n",
        "capitilized_answers = dataset_dict['answers']\n",
        "lowercase_answers = []\n",
        "for answers_list in capitilized_answers:\n",
        "  lowercase_answers_list =[]\n",
        "  for answer in answers_list:\n",
        "      lowercase_answers_list.append(answer.lower())\n",
        "  lowercase_answers.append(lowercase_answers_list)\n",
        "\n",
        "print('Lets see first lower case answer VS first capitilzed answer of frist question:')\n",
        "print('*'*100)\n",
        "print('lowercase_question 1--> ',lowercase_answers[0][0])\n",
        "print('capitilized_question 1--> ', capitilized_answers[0][0])\n",
        "print('\\n')\n",
        "print('*'*100)\n",
        "print('From now on, we can use lowercase inputs to our model')\n",
        "print('*'*100)\n"
      ]
    },
    {
      "cell_type": "markdown",
      "metadata": {
        "id": "sj_9eZz0wwZv"
      },
      "source": [
        "## Unique words"
      ]
    },
    {
      "cell_type": "code",
      "execution_count": null,
      "metadata": {
        "colab": {
          "base_uri": "https://localhost:8080/"
        },
        "id": "MewhsjJo2roc",
        "outputId": "41764d6f-dfe0-4fd5-c09c-f758a6afd028"
      },
      "outputs": [
        {
          "name": "stdout",
          "output_type": "stream",
          "text": [
            "In the following questions, try to keep q_3 in mind,in particular, its \"(like\" word:\n",
            "\n",
            "Q_1 has these unique vocabs:\n",
            "[\"'leap\", '2016?', 'a', 'added', 'end', 'of', \"second'\", 'the', 'there', 'to', 'was', 'why']\n",
            "****************************************************************************************************\n",
            "Q_2 has these unique vocabs:\n",
            "['claim', 'do', 'how', 'land?', 'undiscovered', 'you']\n",
            "****************************************************************************************************\n",
            "Q_3 has these unique vocabs:\n",
            "['(like', 'beings', 'cgi', 'do', 'fail', 'great', 'human', 'in', 'it', 'non-human', 'on', 'one)', 'realistic', 'rouge', 'so', 'sw', 'to', 'warcraft)?', 'we', 'why', 'yet']\n",
            "****************************************************************************************************\n",
            "Q_4 has these unique vocabs:\n",
            "['a', 'and', 'breath,', 'calm', 'deep', 'down', 'exhale?', 'few', 'for', 'hold', 'is', 'it', 'seconds', 'take', 'that', 'we', 'when', 'why']\n",
            "****************************************************************************************************\n",
            "Q_5 has these unique vocabs:\n",
            "['1080p', '4k', 'a', 'better', 'does', 'look', 'on', 'than', 'tv', 'tv?', 'why']\n",
            "****************************************************************************************************\n"
          ]
        }
      ],
      "source": [
        "# In the following code, we can see unique vocabs of each question\n",
        "\n",
        "question_list_words = [lowercase_question.split() for lowercase_question in lowercase_questions] # Find list of words of each questions and store them in a list\n",
        "question_list_vocabs = [sorted(set(words)) for words in question_list_words]  # Find unqiqe vocabularies of the each list of words\n",
        "\n",
        "\n",
        "# Just to show unique vocabularies\n",
        "\n",
        "print('In the following questions, try to keep q_3 in mind,in particular, its \"(like\" word:\\n')\n",
        "iteration = 0\n",
        "for index, vocabs  in enumerate(question_list_vocabs):\n",
        "  print(f'Q_{index+1} has these unique vocabs:')\n",
        "  print(vocabs)\n",
        "  print('*'*100)\n",
        "  iteration+=1\n",
        "  if iteration ==5:\n",
        "    break\n"
      ]
    },
    {
      "cell_type": "code",
      "execution_count": null,
      "metadata": {
        "colab": {
          "base_uri": "https://localhost:8080/"
        },
        "id": "K-UQKaAJ07he",
        "outputId": "452b35dc-3765-49f9-a995-40fe11f78869"
      },
      "outputs": [
        {
          "name": "stdout",
          "output_type": "stream",
          "text": [
            "A_1 of Q_1 has these unique vocabs:\n",
            "['1', '24*60*60', 'a', 'actual', 'ahead', 'but', 'by', 'clocks', 'constant.', 'could', 'couple', 'day', 'day.', 'deal', 'down,', 'drift', 'earth', 'easier', 'ever', 'every', 'exactly', 'fact', 'for', 'full', 'getting', 'how', 'in', 'inconvenient', 'is', 'is,', 'it', 'its', 'just', 'leap', 'long', 'longer', 'longer.', 'lot', 'making', 'means', 'move', 'not', 'of', 'on', 'one', 'or', 'our', 'out', 'practice', 'precise', 'really', 'redefining', 'relies', 'rotation', 'second', 'seconds', 'seconds.', 'slightly', 'slowing', 'slowly', 'so', 'so.', 'still', 'sync', 'technology', 'that', 'the', 'this', 'timing.', 'to', 'us', 'very', 'we', 'which', 'with', 'without', 'would', 'years']\n",
            "--------------------\n",
            "A_2 of Q_1 has these unique vocabs:\n",
            "['24', '7am', '7pm', 'a', 'about', 'actually', 'add', 'all', 'also', 'always', 'an', 'and', 'around', 'at', 'away', 'be', 'being', 'biggest', 'bit,', 'bug.', 'but', 'can', 'cause', 'caused', 'changed,', 'check', 'code', 'code.', 'computer', 'could', 'crash.', 'day', 'deal', 'did', 'do', 'dusk.', \"earth's\", 'easily', 'end', 'ensure', 'errors', 'etc.', 'evening,', 'example,', 'exception', 'exceptions', 'expect', 'fail-safe', 'for', 'forget', 'forward.', 'from', 'generally', 'get', 'going', 'good', 'had', 'happen', 'happen.', 'happened,', 'happens,', 'has', 'have', 'here:', 'hours,', 'hours.', 'however,', 'if', 'in', 'instead', 'interesting', 'is', 'is,', 'it', \"it's\", 'keep', 'know', 'leap', 'long', 'mid-day,', 'mid-day.', 'might', 'more', 'morning,', 'move', 'negative', 'never', 'noon', 'not', 'number.', 'of', 'one,', 'or', 'over', 'past.', 'period', 'possible', 'problems', 'problems,', 'problems.', 'produce', 'program', 'programer', 'programers', 'programmer', 'read', 'reason', 'regular.', 'remember', 'rotation', 'second', 'second.', 'seconds', 'seconds,', 'similar', 'slowly', 'so', 'software,', 'sometime', 'sometimes', 'speed', 'such', 'taking', 'than', 'that', 'the', 'their', 'them.', 'these', 'they', 'thing', 'think', 'this', 'though', 'time', 'to', 'topic,', 'true.', 'try', 'up', 'up,', 'url_0', 'varies', 'very', 'want', 'we', 'were', 'when', 'where', 'will', 'with', 'withing', 'word,', 'writing', 'y2k', 'year.', 'you']\n",
            "--------------------\n",
            "A_3 of Q_1 has these unique vocabs:\n",
            "[')', '2', '24', '60', '7', '86400', '[an', 'a', 'about', 'account', 'add', 'admittedly,', 'an', 'are', 'at', 'average', 'based', 'because', 'by', 'century', 'day', 'day.', 'definition', \"earth's\", 'end', 'eventually', 'every', 'extra', 'few', 'find', 'for', 'have', 'hours', 'if', 'in', 'is', 'leap', 'long', 'longer—again,', 'minutes', 'modern', 'multiply', 'noon', \"o'clock,\", 'of', 'old.](', 'on', 'our', 'per', 'problem', 'rotation', 'rotation.', 'second', 'seconds', 'seconds,', 'slip', 'slowing', 'slowing.', 'so', 'take', 'that', 'the', 'them.', 'there', 'this', 'those', 'though', 'thousandths', 'time.', 'times,', 'to', 'up', 'up,', 'url_0', 'very', 'we', \"we'd\", 'with', 'without', 'would', 'years', 'you']\n",
            "--------------------\n",
            "\n",
            "\n",
            "****************************************************************************************************\n",
            "A_1 of Q_2 has these unique vocabs:\n",
            "['\"forget', '\"funny', '\"gee', '\"i\\'ve', '\"one', '\"so', '\"that\\'s', '\"well', '\"yeah?', '\"yeah?\"', 'a', 'a)', 'ability', 'about', 'academy,', 'adopted', 'after', 'agreed', 'agrees.', 'all', 'already', 'also', 'amazonian', 'and', 'another', 'any', 'anyway,', 'are', 'around', 'arrow.', 'as', 'ask', 'ask.', 'at', 'away', 'away.\"', 'b)', 'back', 'bam!,', 'be', 'because', 'billionaire', 'bit', 'bow', 'boy', 'bring', 'bundle', 'but', 'by', 'c)', 'call', 'can', 'car', 'car,', 'carve', 'case,', 'cause', 'cave', 'cave,', 'cave.', 'cave.\"', 'cell.', 'chat.', 'chemicals.', 'claim', 'claimed', 'collection.', 'comes', 'computer', 'cool,', 'costume', 'crime', 'cryogenically', 'day', 'decided', 'defend', \"didn't\", 'difference.', 'do', 'drive', 'drowning', 'dude', 'dying', 'electrocuted', 'else', 'english', 'enough', 'everybody', 'everyone', 'fancies', 'fast', 'feel,', 'few', 'fight', 'fighting', 'find', 'finished', 'first.', 'fixing', 'flatten', 'flies', 'floor', 'for', 'forced', 'friend', 'friends', 'from', 'frozen', 'get', 'god', 'going', 'good', 'got', 'grab', 'gravitas.', 'great', 'guy', \"guy's\", 'guy,', 'happy,', 'has', 'he', \"he's\", 'here?\"', 'him', 'him.', 'himself', 'his', 'his.', 'house', 'how', 'i', \"i'm\", 'if', 'imagine', 'immense', 'in', 'into', 'is', 'it', \"it'd\", \"it's\", 'just', 'lair.\"', 'leaves', \"let's\", 'life', 'lightning', 'lightning.\"', 'like', 'made', 'make', 'makes', 'mankind.', 'me', 'me.\"', 'metal', 'might', 'miles', 'more,', 'move', 'move.\"', 'my', 'mythical', 'near', 'nice', 'nobody', 'norse', 'not', 'of', 'on', 'one', 'or', 'other', 'out', 'out.', 'outgunned.', 'over', 'ownership.', 'owns', 'peace.', 'perfect', 'phone', 'planet,', 'position', 'pow!', 'prisoner', 'private', 'real', 'recently', 'recognise', 'refugee', 'right', 'rings.', 'rocket', 'room', 'same.', 'say', 'say.', 'says', 'says.', 'see.', 'sees', 'should', 'shovel', 'so', 'soldier,', 'some', 'something', 'sounding', 'spent', 'start', 'starts', 'stone', 'strong', 'struck', 'stuff.', 'stuffed,', 'stupid', 'substantial', 'suddenly', 'suit', 'super', 'superhero', 'sure.\"', 'take', 'taliban', 'team', 'teams', 'teenage', 'tell', 'telling', 'that', \"that's\", 'that.', 'the', 'them.', \"there's\", \"they'll\", 'think', 'thinks,', 'this', 'to', 'together', 'toxic', 'training', 'tries', 'unwrap', 'up', 'voice', 'walk', 'walking', 'walks', 'walls,', 'wants', 'wardrobe', 'warrior', 'was', 'we', \"we'll\", 'were', \"what's\", 'what?\"', 'when', 'while', 'who', \"who'll\", 'whoof!', 'with', 'woods', 'working', 'you', \"you'll\", \"you've\", 'you,', 'you.', 'your', 'yours', 'yours.', 'yourself,']\n",
            "--------------------\n",
            "A_2 of Q_2 has these unique vocabs:\n",
            "['allies.', 'an', 'be', 'by', 'defended', 'fight', 'for', 'force.', 'have', 'historically,', 'if', 'island', 'it.', 'keep', 'military', 'nations', 'of', 'or', 'prepared', 'territory', 'the', 'their', 'to', 'undiscovered', 'via', 'want', 'you', 'yourself,']\n",
            "--------------------\n",
            "A_3 of Q_2 has these unique vocabs:\n",
            "['(terra', 'a', 'accepting', 'acknowledge', 'an', 'and', 'and/or', 'antartica', 'back', 'border', 'by', 'chunk', 'claim', 'claim.', 'conquering', 'discovered', 'disputes', 'done', 'else', 'everybody', 'few', 'flag', 'force', 'force/money', 'from', 'got', 'has', 'have', 'historically', 'if', 'in', 'interested', 'is', 'it.', 'land', 'land.', 'legitimate.', 'making', 'most', 'neither', 'next', 'now', 'nullius).', 'of', 'other', 'people', 'places', 'prevented', 'result', 'several', 'side', 'small', 'step', 'that', 'the', 'there', 'there.', 'to', 'transporting', 'unclaimed', 'usually', 'was', 'with', 'world', 'you', \"you're\", \"you've\"]\n",
            "--------------------\n",
            "\n",
            "\n",
            "****************************************************************************************************\n"
          ]
        }
      ],
      "source": [
        "# In the following code, we can see unique vocabs of each answer\n",
        "answer_list_vocabs = []\n",
        "\n",
        "for lowercase_answer_list in lowercase_answers:\n",
        "  answer_list_vocabs_small = []\n",
        "\n",
        "  for lowercase_answer in lowercase_answer_list:\n",
        "      words = lowercase_answer.split()\n",
        "      vocabs = sorted(set(words))\n",
        "      answer_list_vocabs_small.append(vocabs)\n",
        "\n",
        "  answer_list_vocabs.append(answer_list_vocabs_small)\n",
        "\n",
        "\n",
        "# Just to show unique vocabularies\n",
        "\n",
        "iteration = 0\n",
        "for index, vocabs_list  in enumerate(answer_list_vocabs):\n",
        "  for index1, vocabs in enumerate(vocabs_list):\n",
        "     print(f'A_{index1+1} of Q_{index+1} has these unique vocabs:')\n",
        "     print(vocabs)\n",
        "     print('--'*10)\n",
        "  print('\\n')\n",
        "  print('*'*100)\n",
        "  iteration+=1\n",
        "  if iteration ==2:\n",
        "    break\n"
      ]
    },
    {
      "cell_type": "markdown",
      "metadata": {
        "id": "7GJi-lh5xfxm"
      },
      "source": [
        "## Remove punctuations"
      ]
    },
    {
      "cell_type": "code",
      "execution_count": null,
      "metadata": {
        "colab": {
          "base_uri": "https://localhost:8080/"
        },
        "id": "af316HP-zKGb",
        "outputId": "93ca5382-05b1-4dae-b479-fd4d8d27837b"
      },
      "outputs": [
        {
          "name": "stdout",
          "output_type": "stream",
          "text": [
            "These [!\"#$%&'()*+,-./:;<=>?@[\\]^_`{|}~] punctuations should be deleted\n"
          ]
        }
      ],
      "source": [
        "import string, re\n",
        "regex = '[' + string.punctuation + ']'\n",
        "print(f'These {regex} punctuations should be deleted')"
      ]
    },
    {
      "cell_type": "code",
      "execution_count": null,
      "metadata": {
        "colab": {
          "base_uri": "https://localhost:8080/"
        },
        "id": "_Ovuf9P18Aee",
        "outputId": "a40868be-a8ed-420d-cbd7-bb34b2ab76e9"
      },
      "outputs": [
        {
          "name": "stdout",
          "output_type": "stream",
          "text": [
            "See first 5 questions without punctuations:\n",
            "Q_1 has these unique vocabs:\n",
            "['2016', 'a', 'added', 'end', 'leap', 'of', 'second', 'the', 'there', 'to', 'was', 'why']\n",
            "****************************************************************************************************\n",
            "Q_2 has these unique vocabs:\n",
            "['claim', 'do', 'how', 'land', 'undiscovered', 'you']\n",
            "****************************************************************************************************\n",
            "Q_3 has these unique vocabs:\n",
            "['beings', 'cgi', 'do', 'fail', 'great', 'human', 'in', 'it', 'like', 'nonhuman', 'on', 'one', 'realistic', 'rouge', 'so', 'sw', 'to', 'warcraft', 'we', 'why', 'yet']\n",
            "****************************************************************************************************\n",
            "Q_4 has these unique vocabs:\n",
            "['a', 'and', 'breath', 'calm', 'deep', 'down', 'exhale', 'few', 'for', 'hold', 'is', 'it', 'seconds', 'take', 'that', 'we', 'when', 'why']\n",
            "****************************************************************************************************\n",
            "Q_5 has these unique vocabs:\n",
            "['1080p', '4k', 'a', 'better', 'does', 'look', 'on', 'than', 'tv', 'why']\n",
            "****************************************************************************************************\n",
            "****************************************************************************************************\n",
            "****************************************************************************************************\n",
            "****************************************************************************************************\n",
            "See the difference between questions with punctuations and not punctuations:\n",
            "Qustion 3 with punctuations is:\n",
            "['(like', 'beings', 'cgi', 'do', 'fail', 'great', 'human', 'in', 'it', 'non-human', 'on', 'one)', 'realistic', 'rouge', 'so', 'sw', 'to', 'warcraft)?', 'we', 'why', 'yet']\n",
            "Qustion 3 witout punctuations is:\n",
            "['beings', 'cgi', 'do', 'fail', 'great', 'human', 'in', 'it', 'like', 'nonhuman', 'on', 'one', 'realistic', 'rouge', 'so', 'sw', 'to', 'warcraft', 'we', 'why', 'yet']\n"
          ]
        }
      ],
      "source": [
        "# remove punctuations\n",
        "lowercase_questions_nopunctuation = [re.sub(regex,'',lowercase_question)for lowercase_question in lowercase_questions ]\n",
        "\n",
        "question_list_vocabs_nonpunctuation = [lowercase_question_nonpunctuation.split() for lowercase_question_nonpunctuation in lowercase_questions_nopunctuation]\n",
        "question_list_vocabs_nonpunctuation = [sorted(set(words)) for words in question_list_vocabs_nonpunctuation]\n",
        "\n",
        "# Again find unique vocabs\n",
        "\n",
        "print('See first 5 questions without punctuations:')\n",
        "iteration = 0\n",
        "for index, vocabs  in enumerate(question_list_vocabs_nonpunctuation):\n",
        "  print(f'Q_{index+1} has these unique vocabs:')\n",
        "  print(vocabs)\n",
        "  print('*'*100)\n",
        "  iteration+=1\n",
        "  if iteration ==5:\n",
        "    break\n",
        "\n",
        "print('*'*100)\n",
        "print('*'*100)\n",
        "print('*'*100)\n",
        "print('See the difference between questions with punctuations and not punctuations:')\n",
        "print('Qustion 3 with punctuations is:')\n",
        "print(question_list_vocabs[2])\n",
        "print('Qustion 3 witout punctuations is:')\n",
        "print(question_list_vocabs_nonpunctuation[2])\n"
      ]
    },
    {
      "cell_type": "code",
      "execution_count": null,
      "metadata": {
        "colab": {
          "base_uri": "https://localhost:8080/"
        },
        "id": "glcCnrxU7CPT",
        "outputId": "5783199b-1863-43ee-f31e-2e2342d343ef"
      },
      "outputs": [
        {
          "name": "stdout",
          "output_type": "stream",
          "text": [
            "In the following part, you can see unique words of each answer after removing punctuations from sentences:\n",
            "\n",
            "A_1 of Q_1 has these unique vocabs:\n",
            "['1', '246060', 'a', 'actual', 'ahead', 'but', 'by', 'clocks', 'constant', 'could', 'couple', 'day', 'deal', 'down', 'drift', 'earth', 'easier', 'ever', 'every', 'exactly', 'fact', 'for', 'full', 'getting', 'how', 'in', 'inconvenient', 'is', 'it', 'its', 'just', 'leap', 'long', 'longer', 'lot', 'making', 'means', 'move', 'not', 'of', 'on', 'one', 'or', 'our', 'out', 'practice', 'precise', 'really', 'redefining', 'relies', 'rotation', 'second', 'seconds', 'slightly', 'slowing', 'slowly', 'so', 'still', 'sync', 'technology', 'that', 'the', 'this', 'timing', 'to', 'us', 'very', 'we', 'which', 'with', 'without', 'would', 'years']\n",
            "--------------------\n",
            "A_2 of Q_1 has these unique vocabs:\n",
            "['24', '7am', '7pm', 'a', 'about', 'actually', 'add', 'all', 'also', 'always', 'an', 'and', 'around', 'at', 'away', 'be', 'being', 'biggest', 'bit', 'bug', 'but', 'can', 'cause', 'caused', 'changed', 'check', 'code', 'computer', 'could', 'crash', 'day', 'deal', 'did', 'do', 'dusk', 'earths', 'easily', 'end', 'ensure', 'errors', 'etc', 'evening', 'example', 'exception', 'exceptions', 'expect', 'failsafe', 'for', 'forget', 'forward', 'from', 'generally', 'get', 'going', 'good', 'had', 'happen', 'happened', 'happens', 'has', 'have', 'here', 'hours', 'however', 'if', 'in', 'instead', 'interesting', 'is', 'it', 'its', 'keep', 'know', 'leap', 'long', 'midday', 'might', 'more', 'morning', 'move', 'negative', 'never', 'noon', 'not', 'number', 'of', 'one', 'or', 'over', 'past', 'period', 'possible', 'problems', 'produce', 'program', 'programer', 'programers', 'programmer', 'read', 'reason', 'regular', 'remember', 'rotation', 'second', 'seconds', 'similar', 'slowly', 'so', 'software', 'sometime', 'sometimes', 'speed', 'such', 'taking', 'than', 'that', 'the', 'their', 'them', 'these', 'they', 'thing', 'think', 'this', 'though', 'time', 'to', 'topic', 'true', 'try', 'up', 'url0', 'varies', 'very', 'want', 'we', 'were', 'when', 'where', 'will', 'with', 'withing', 'word', 'writing', 'y2k', 'year', 'you']\n",
            "--------------------\n",
            "A_3 of Q_1 has these unique vocabs:\n",
            "['2', '24', '60', '7', '86400', 'a', 'about', 'account', 'add', 'admittedly', 'an', 'are', 'at', 'average', 'based', 'because', 'by', 'century', 'day', 'definition', 'earths', 'end', 'eventually', 'every', 'extra', 'few', 'find', 'for', 'have', 'hours', 'if', 'in', 'is', 'leap', 'long', 'longer—again', 'minutes', 'modern', 'multiply', 'noon', 'oclock', 'of', 'old', 'on', 'our', 'per', 'problem', 'rotation', 'second', 'seconds', 'slip', 'slowing', 'so', 'take', 'that', 'the', 'them', 'there', 'this', 'those', 'though', 'thousandths', 'time', 'times', 'to', 'up', 'url0', 'very', 'we', 'wed', 'with', 'without', 'would', 'years', 'you']\n",
            "--------------------\n",
            "\n",
            "\n",
            "****************************************************************************************************\n",
            "A_1 of Q_2 has these unique vocabs:\n",
            "['a', 'ability', 'about', 'academy', 'adopted', 'after', 'agreed', 'agrees', 'all', 'already', 'also', 'amazonian', 'and', 'another', 'any', 'anyway', 'are', 'around', 'arrow', 'as', 'ask', 'at', 'away', 'b', 'back', 'bam', 'be', 'because', 'billionaire', 'bit', 'bow', 'boy', 'bring', 'bundle', 'but', 'by', 'c', 'call', 'can', 'car', 'carve', 'case', 'cause', 'cave', 'cell', 'chat', 'chemicals', 'claim', 'claimed', 'collection', 'comes', 'computer', 'cool', 'costume', 'crime', 'cryogenically', 'day', 'decided', 'defend', 'didnt', 'difference', 'do', 'drive', 'drowning', 'dude', 'dying', 'electrocuted', 'else', 'english', 'enough', 'everybody', 'everyone', 'fancies', 'fast', 'feel', 'few', 'fight', 'fighting', 'find', 'finished', 'first', 'fixing', 'flatten', 'flies', 'floor', 'for', 'forced', 'forget', 'friend', 'friends', 'from', 'frozen', 'funny', 'gee', 'get', 'god', 'going', 'good', 'got', 'grab', 'gravitas', 'great', 'guy', 'guys', 'happy', 'has', 'he', 'here', 'hes', 'him', 'himself', 'his', 'house', 'how', 'i', 'if', 'im', 'imagine', 'immense', 'in', 'into', 'is', 'it', 'itd', 'its', 'ive', 'just', 'lair', 'leaves', 'lets', 'life', 'lightning', 'like', 'made', 'make', 'makes', 'mankind', 'me', 'metal', 'might', 'miles', 'more', 'move', 'my', 'mythical', 'near', 'nice', 'nobody', 'norse', 'not', 'of', 'on', 'one', 'or', 'other', 'out', 'outgunned', 'over', 'ownership', 'owns', 'peace', 'perfect', 'phone', 'planet', 'position', 'pow', 'prisoner', 'private', 'real', 'recently', 'recognise', 'refugee', 'right', 'rings', 'rocket', 'room', 'same', 'say', 'says', 'see', 'sees', 'should', 'shovel', 'so', 'soldier', 'some', 'something', 'sounding', 'spent', 'start', 'starts', 'stone', 'strong', 'struck', 'stuff', 'stuffed', 'stupid', 'substantial', 'suddenly', 'suit', 'super', 'superhero', 'sure', 'take', 'taliban', 'team', 'teams', 'teenage', 'tell', 'telling', 'that', 'thats', 'the', 'them', 'theres', 'theyll', 'think', 'thinks', 'this', 'to', 'together', 'toxic', 'training', 'tries', 'unwrap', 'up', 'voice', 'walk', 'walking', 'walks', 'walls', 'wants', 'wardrobe', 'warrior', 'was', 'we', 'well', 'were', 'what', 'whats', 'when', 'while', 'who', 'wholl', 'whoof', 'with', 'woods', 'working', 'yeah', 'you', 'youll', 'your', 'yours', 'yourself', 'youve']\n",
            "--------------------\n",
            "A_2 of Q_2 has these unique vocabs:\n",
            "['allies', 'an', 'be', 'by', 'defended', 'fight', 'for', 'force', 'have', 'historically', 'if', 'island', 'it', 'keep', 'military', 'nations', 'of', 'or', 'prepared', 'territory', 'the', 'their', 'to', 'undiscovered', 'via', 'want', 'you', 'yourself']\n",
            "--------------------\n",
            "A_3 of Q_2 has these unique vocabs:\n",
            "['a', 'accepting', 'acknowledge', 'an', 'and', 'andor', 'antartica', 'back', 'border', 'by', 'chunk', 'claim', 'conquering', 'discovered', 'disputes', 'done', 'else', 'everybody', 'few', 'flag', 'force', 'forcemoney', 'from', 'got', 'has', 'have', 'historically', 'if', 'in', 'interested', 'is', 'it', 'land', 'legitimate', 'making', 'most', 'neither', 'next', 'now', 'nullius', 'of', 'other', 'people', 'places', 'prevented', 'result', 'several', 'side', 'small', 'step', 'terra', 'that', 'the', 'there', 'to', 'transporting', 'unclaimed', 'usually', 'was', 'with', 'world', 'you', 'youre', 'youve']\n",
            "--------------------\n",
            "\n",
            "\n",
            "****************************************************************************************************\n"
          ]
        }
      ],
      "source": [
        "# The same for answers\n",
        "# remove punctuations\n",
        "\n",
        "lowercase_answers_nopunctuation = []\n",
        "for lowercase_answer_list  in lowercase_answers:\n",
        "  lowercase_answers_nopunctuation_small = []\n",
        "  for lowercase_answer in lowercase_answer_list:\n",
        "    lowercase_answers_nopunctuation_small.append(re.sub(regex,'',lowercase_answer))\n",
        "\n",
        "  lowercase_answers_nopunctuation.append(lowercase_answers_nopunctuation_small)\n",
        "\n",
        "\n",
        "# Find unique words again\n",
        "answer_list_vocabs_nonpunctuation = []\n",
        "for lowercase_answer_list_nonpunctuation in lowercase_answers_nopunctuation:\n",
        "  answer_list_vocabs_nonpunctuation_small =[]\n",
        "  for lowercase_answer_nonpunctuation in lowercase_answer_list_nonpunctuation:\n",
        "    words = lowercase_answer_nonpunctuation.split()\n",
        "    vocabs = sorted(set(words))\n",
        "    answer_list_vocabs_nonpunctuation_small.append(vocabs)\n",
        "\n",
        "  answer_list_vocabs_nonpunctuation.append(answer_list_vocabs_nonpunctuation_small)\n",
        "\n",
        "\n",
        "print('In the following part, you can see unique words of each answer after removing punctuations from sentences:\\n')\n",
        "iteration = 0\n",
        "for index, vocabs_list  in enumerate(answer_list_vocabs_nonpunctuation):\n",
        "  for index1, vocabs in enumerate(vocabs_list):\n",
        "     print(f'A_{index1+1} of Q_{index+1} has these unique vocabs:')\n",
        "     print(vocabs)\n",
        "     print('--'*10)\n",
        "  print('\\n')\n",
        "  print('*'*100)\n",
        "  iteration+=1\n",
        "  if iteration ==2:\n",
        "    break"
      ]
    },
    {
      "cell_type": "markdown",
      "metadata": {
        "id": "JzeAPtu-KDiS"
      },
      "source": [
        "## Stemming and Lemmatization\n",
        "\n",
        "- Stemming reduces word-forms to stems in order to reduce size, whereas lemmatization reduces the word-forms to linguistically valid lemmas. For example, the stem of the word ‘happy’ is ‘happi’, but its lemma is ‘happy’, which is linguistically valid.\n",
        "\n",
        "- Lemmatization is usually more sophisticated and requires some sort of lexica. Stemming, on the other hand, can be achieved with simple rule-based approaches."
      ]
    },
    {
      "cell_type": "code",
      "execution_count": null,
      "metadata": {
        "colab": {
          "base_uri": "https://localhost:8080/"
        },
        "id": "wZ5OoywZKGyM",
        "outputId": "1e0aea4d-e038-427f-bc2a-6271396cf1dd"
      },
      "outputs": [
        {
          "name": "stderr",
          "output_type": "stream",
          "text": [
            "[nltk_data] Downloading package punkt to /root/nltk_data...\n",
            "[nltk_data]   Unzipping tokenizers/punkt.zip.\n",
            "[nltk_data] Downloading package wordnet to /root/nltk_data...\n",
            "[nltk_data] Downloading package stopwords to /root/nltk_data...\n",
            "[nltk_data]   Unzipping corpora/stopwords.zip.\n",
            "[nltk_data] Downloading package averaged_perceptron_tagger to\n",
            "[nltk_data]     /root/nltk_data...\n",
            "[nltk_data]   Unzipping taggers/averaged_perceptron_tagger.zip.\n"
          ]
        }
      ],
      "source": [
        "import nltk\n",
        "from nltk.corpus import stopwords\n",
        "from nltk.stem import WordNetLemmatizer\n",
        "from nltk.tokenize import word_tokenize, sent_tokenize\n",
        "\n",
        "\n",
        "nltk.download('punkt')\n",
        "nltk.download('wordnet')\n",
        "nltk.download('stopwords')\n",
        "nltk.download('averaged_perceptron_tagger')\n",
        "\n",
        "stop_words = set(stopwords.words('english'))\n",
        "\n",
        "# an instance of Word Net Lemmatizer\n",
        "lemmatizer = WordNetLemmatizer()"
      ]
    },
    {
      "cell_type": "markdown",
      "metadata": {
        "id": "jC17nDEFabfh"
      },
      "source": [
        "### Part of Speech Tagging (POS Tagging)\n",
        "\n",
        "As it is clear from the above code sections, for a correct lemmatization task, we need to detect the POS (part of speech) of each token of each question and answer.\n",
        "\n",
        "Since for example word \"leaves\" could be transformed to eitehr \"leaf\" or \"leave\" based on its part of speech."
      ]
    },
    {
      "cell_type": "code",
      "execution_count": null,
      "metadata": {
        "id": "2JYgKtSSaFNg"
      },
      "outputs": [],
      "source": [
        "# Define a function to map NLTK to WordNet POS tags\n",
        "def get_wordnet_pos(treebank_tag):\n",
        "    if treebank_tag.startswith('J'):\n",
        "        return 'a'  # adjective\n",
        "    elif treebank_tag.startswith('V'):\n",
        "        return 'v'  # verb\n",
        "    elif treebank_tag.startswith('N'):\n",
        "        return 'n'  # noun\n",
        "    elif treebank_tag.startswith('R'):\n",
        "        return 'r'  # adverb\n",
        "    else:\n",
        "        return 'n'  # default to noun if not found"
      ]
    },
    {
      "cell_type": "markdown",
      "metadata": {
        "id": "PCXFepM6aMsp"
      },
      "source": [
        "Lemmatize questions:"
      ]
    },
    {
      "cell_type": "code",
      "execution_count": null,
      "metadata": {
        "id": "2lcX6qVt9DDR"
      },
      "outputs": [],
      "source": [
        "# Lemmatize each token based on POS-tag\n",
        "# We have to do this for all questions tokens\n",
        "# So first we have to tokenize sentences\n",
        "\n",
        "lemmatizer = WordNetLemmatizer()\n",
        "lemmatized_questions_pos = []\n",
        "\n",
        "for question in dataset_dict['questions']:\n",
        "  # sent_tokenize is one of instances of PunktSentenceTokenizer from the nltk.tokenize.punkt module\n",
        "  wordsList = nltk.word_tokenize(question)\n",
        "\n",
        "  # removing stop words from wordList\n",
        "  # wordsList = [w for w in wordsList if not w in stop_words]\n",
        "\n",
        "  #  Using a Tagger. Which is part-of-speech tagger or POS-tagger.\n",
        "  tagged = nltk.pos_tag(wordsList)\n",
        "\n",
        "  # Lemmatize using the mapped POS tags\n",
        "  lemmatized_words_pos = [lemmatizer.lemmatize(word, pos=get_wordnet_pos(tag)) for word, tag in tagged]\n",
        "  lemmatized_questions_pos.append(lemmatized_words_pos)\n"
      ]
    },
    {
      "cell_type": "code",
      "execution_count": null,
      "metadata": {
        "colab": {
          "base_uri": "https://localhost:8080/"
        },
        "id": "rbJ05bifOGIP",
        "outputId": "64f0024b-eac6-4a4a-89d4-cd9f5a06a6f5"
      },
      "outputs": [
        {
          "name": "stdout",
          "output_type": "stream",
          "text": [
            "91772\n",
            "91772\n"
          ]
        }
      ],
      "source": [
        "print(len(lemmatized_questions_pos))\n",
        "print(len(dataset_dict['questions']))"
      ]
    },
    {
      "cell_type": "markdown",
      "metadata": {
        "id": "YYGUOtu2aQD9"
      },
      "source": [
        "Lemmatize answers:"
      ]
    },
    {
      "cell_type": "code",
      "execution_count": null,
      "metadata": {
        "id": "Zec3E51OGfq7"
      },
      "outputs": [],
      "source": [
        "# Lemmatize each token based on POS-tag\n",
        "# We have to do this for all answers tokens\n",
        "# So first we have to tokenize sentences\n",
        "\n",
        "lemmatizer = WordNetLemmatizer()\n",
        "lemmatized_answers_pos = []\n",
        "\n",
        "for ans_list in dataset_dict['answers']:\n",
        "  lemmatized_ans_list_pos = []\n",
        "  for ans in ans_list:\n",
        "\n",
        "    # sent_tokenize is one of instances of PunktSentenceTokenizer from the nltk.tokenize.punkt module\n",
        "    wordsList = nltk.word_tokenize(question)\n",
        "\n",
        "    # removing stop words from wordList\n",
        "    # wordsList = [w for w in wordsList if not w in stop_words]\n",
        "\n",
        "    #  Using a Tagger. Which is part-of-speech tagger or POS-tagger.\n",
        "    tagged = nltk.pos_tag(wordsList)\n",
        "\n",
        "    # Lemmatize using the mapped POS tags\n",
        "    lemmatized_words_pos = [lemmatizer.lemmatize(word, pos=get_wordnet_pos(tag)) for word, tag in tagged]\n",
        "    lemmatized_ans_list_pos.append(lemmatized_words_pos)\n",
        "\n",
        "  lemmatized_answers_pos.append(lemmatized_ans_list_pos)"
      ]
    },
    {
      "cell_type": "code",
      "execution_count": null,
      "metadata": {
        "colab": {
          "base_uri": "https://localhost:8080/"
        },
        "id": "p3tQdeJaIA8_",
        "outputId": "71be91b1-4926-4633-9496-e22f7b319620"
      },
      "outputs": [
        {
          "name": "stdout",
          "output_type": "stream",
          "text": [
            "91772\n",
            "91772\n"
          ]
        }
      ],
      "source": [
        "print(len(dataset_dict['answers']))\n",
        "\n",
        "print(len(lemmatized_answers_pos))"
      ]
    },
    {
      "cell_type": "markdown",
      "metadata": {
        "id": "SwSuyowWIksy"
      },
      "source": [
        "Now lets check how this lemmatizer treats emoticons or other languages in the dataset.\n",
        "\n",
        "It wont change neither the emoticons nor other languages written like Chinese or Korean, So that's OK!"
      ]
    },
    {
      "cell_type": "code",
      "execution_count": null,
      "metadata": {
        "colab": {
          "base_uri": "https://localhost:8080/"
        },
        "id": "obJx1bhxIA1n",
        "outputId": "6ed5b57d-5a83-43fe-a058-34c8f1df02ae"
      },
      "outputs": [
        {
          "name": "stdout",
          "output_type": "stream",
          "text": [
            "29 How to type Korean?\n",
            "1991 How is being dyslexic in symbol languages (Chinese, Japanese, Korean) different from being dyslexic in English?\n",
            "4732 Why does US restrain from shooting down N.Korean missiles?\n",
            "14442 Why do Japanese and Korean manufacturers seem to make such a wide variety of products from a given company?\n",
            "16330 Why are white people called \"white people\" when many Asians (mainly Korean, Japanese and Chinese) have pretty much the same skin color?\n",
            "20762 Why do we focus more on the Vietnam war and less on the Korean war?\n",
            "25494 Why can foreign car companies like Honda (Japanese), Volkswagen (German), and Hyundai (South Korean) make successful sedan-type cars in the United States, but domestic companies GM and Ford struggle to make good-selling sedans.\n",
            "28889 Why are there so many movies made about the Vietnam war but so few about the Korean War?\n",
            "29568 Steel is a very heavy product to ship, so how are the Chinese & Korean steel manufactures able to sell steel cheaper in the USA than they would domestically?\n",
            "37606 What did former South Korean president Park Geun-hye do exactly to warrant huge protests and a long prison sentence?\n",
            "37690 The contested Korean/Japanese islands\n",
            "65569 how does Korean artificial sun work?\n",
            "68903 What's the psychology behind the appeal of effeminate K-pop male stars to girls, even in places without the Korean \"male beauty\" standards?\n",
            "72632 Why are Japanese names in English reversed unlike Korean or Chinese?\n",
            "73417 Why are there so many Chinese words in Korean, Japanese, and Vietnamese? I know there was some cultural exchange, but I'm confused why there is a huge amount of it.\n",
            "81098 Was Japan original people, or did Chinese/Korean members move to Japan and eventually, Japanese people developed their culture to be \"Japanese\"?\n",
            "81586 Why is the Korean language so different than other languages? How did it develop without a known parent language or language family tree?\n",
            "82894 How come we \"flip\" Japanese names when speaking English, but not Korean ones?\n",
            "88324 Why and how did they manage to make every country follow the Gregorian calendar? Even the North Koreans?\n"
          ]
        }
      ],
      "source": [
        "for i , s in enumerate(dataset_dict['questions']):\n",
        "  if s.find('Korean') != -1:\n",
        "    print(i, s)"
      ]
    },
    {
      "cell_type": "code",
      "execution_count": null,
      "metadata": {
        "colab": {
          "base_uri": "https://localhost:8080/"
        },
        "id": "rIeqCnTcZHzv",
        "outputId": "8f7ce10f-24f5-495d-b744-0f4b882edf3d"
      },
      "outputs": [
        {
          "data": {
            "text/plain": [
              "['Korean uses an alphabet called hangul. Individual letters are composed into syllables, with each syllable occupying one block. This means that the computer needs to know when you have finished typing one syllable and want to start typing the next: fortunately, the Korean writing system has very strict and simple rules that are quite easy to program into a computer. A syllable must start with a consonant, and must contain at least one vowel; it can then have another consonant at the end. The consonant letter \"ㅇ\" is \"ng\" at the end of a syllable, but silent at the beginning of a syllable, so this lets you write syllables beginning with a vowel *sound* without breaking the rule that in written Korean, all syllables must begin with a consonant. In your example, \"saranghae\" is \"사랑해\", the three blocks representing the syllables \"sa-rang-hae\". First, you type an \"s\", which in Korean is \"ㅅ\". Next comes a vowel, \"ㅏ\"; when you type that, the \"ㅅ\" changes to \"사\", the syllable \"sa\". That\\'s fine, but then you type the Korean \"r\", which is \"ㄹ\", but the computer initially thinks that you are typing the syllable \"sar\" or \"sal\", and so it gives you \"살\". At this point you panic, because that\\'s not what you want. But don\\'t worry, because the moment you type the next letter -- another \"ㅏ\" -- the software knows that you can\\'t start a Korean syllable with a vowel letter. And so now it knows that the \"ㄹ\" needs to go in the second syllable, changes the \"살\" back to \"사\" and starts a new syllable \"라\". Now you type \"ㅇ\", and the \"라\" changes to \"랑\", the syllable \"rang\". Next, type \"ㅎ\". This is a consonant, so the computer knows that it can leave \"랑\" exactly as it is and start a new syllable. Finally, you type \"ㅐ\", the \"ㅎ\" changes to \"해\" and you\\'re done. So in fact, if everything is working properly, you should just be able to type the Korean letters \"ㅅ\", \"ㅏ\", \"ㄹ\", \"ㅏ\", \"ㅇ\", \"ㅎ\" and \"ㅐ\", and the software will automatically convert it to \"사랑해\" without you having to do anything else. You do have to make sure you have a Korean keyboard and you have switched it to accept Korean (a Korean keyboard can be toggled between Korean and English input; for example, if you want to type a web address, you normally have to use English input mode).',\n",
              " 'Korean isn\\'t a logographic language like Chinese. It has an alphabet, just like English, made up of consonants and vowels. The major difference between Korean and English (and other alphabetic languages) is that in Korean, you group the letters of each syllable and write them on top of each other. 사랑해 (\"saranghae\") is just made up of three syllables - 사, 랑, 해 - and each of these is made up of two or three letters: * 사 = ㅅ + ㅏ * 랑 = ㄹ + ㅏ + ㅇ * 해 = ㅎ + ㅐ']"
            ]
          },
          "execution_count": 87,
          "metadata": {},
          "output_type": "execute_result"
        }
      ],
      "source": [
        "dataset_dict['answers'][29]"
      ]
    },
    {
      "cell_type": "code",
      "execution_count": null,
      "metadata": {
        "colab": {
          "base_uri": "https://localhost:8080/"
        },
        "id": "LXx9MTPxLnrW",
        "outputId": "800ac27e-14f4-4120-b554-012a4e9cbcb1"
      },
      "outputs": [
        {
          "name": "stdout",
          "output_type": "stream",
          "text": [
            "I know it seems irrational, but Felix Baumgartner! Thanks 😊 EDIT: Thanks everyone for all your replies :). Loving reading them! Just like to add, I know this can't happen without special clothing etc., like what Baumgartner wore, or being in a pressurised compartment such as a cockpit. I'm just wondering, theoretically ;). Thanks again :).\n",
            "~~~~~~~~~~~~~~\n",
            "['I', 'know', 'it', 'seem', 'irrational', ',', 'but', 'Felix', 'Baumgartner', '!', 'Thanks', '😊', 'EDIT', ':', 'Thanks', 'everyone', 'for', 'all', 'your', 'reply', ':', ')', '.', 'Loving', 'read', 'them', '!', 'Just', 'like', 'to', 'add', ',', 'I', 'know', 'this', 'ca', \"n't\", 'happen', 'without', 'special', 'clothing', 'etc.', ',', 'like', 'what', 'Baumgartner', 'wear', ',', 'or', 'be', 'in', 'a', 'pressurised', 'compartment', 'such', 'a', 'a', 'cockpit', '.', 'I', \"'m\", 'just', 'wondering', ',', 'theoretically', ';', ')', '.', 'Thanks', 'again', ':', ')', '.']\n"
          ]
        }
      ],
      "source": [
        "selftext = dataset_dict['selftext'][34]\n",
        "wordsList1 = []\n",
        "tagged1 = []\n",
        "\n",
        "# Word tokenizers is used to find the words and punctuation in a string\n",
        "wordsList1 = nltk.word_tokenize(selftext)\n",
        "\n",
        "# removing stop words from wordList\n",
        "# wordsList = [w for w in wordsList if not w in stop_words]\n",
        "\n",
        "#  Using a Tagger. Which is part-of-speech tagger or POS-tagger.\n",
        "tagged1 = nltk.pos_tag(wordsList1)\n",
        "\n",
        "# Lemmatize using the mapped POS tags\n",
        "lemmatized_words_pos = [lemmatizer.lemmatize(word, pos=get_wordnet_pos(tag)) for word, tag in tagged1]\n",
        "\n",
        "print(selftext)\n",
        "print(\"~~~~~~~~~~~~~~\")\n",
        "print(lemmatized_words_pos)"
      ]
    },
    {
      "cell_type": "code",
      "execution_count": null,
      "metadata": {
        "colab": {
          "base_uri": "https://localhost:8080/"
        },
        "id": "X-T9n1xGLnn2",
        "outputId": "b168d4bc-4163-4d84-ec57-bfa38d664b86"
      },
      "outputs": [
        {
          "name": "stdout",
          "output_type": "stream",
          "text": [
            "Korean uses an alphabet called hangul. Individual letters are composed into syllables, with each syllable occupying one block. This means that the computer needs to know when you have finished typing one syllable and want to start typing the next: fortunately, the Korean writing system has very strict and simple rules that are quite easy to program into a computer. A syllable must start with a consonant, and must contain at least one vowel; it can then have another consonant at the end. The consonant letter \"ㅇ\" is \"ng\" at the end of a syllable, but silent at the beginning of a syllable, so this lets you write syllables beginning with a vowel *sound* without breaking the rule that in written Korean, all syllables must begin with a consonant. In your example, \"saranghae\" is \"사랑해\", the three blocks representing the syllables \"sa-rang-hae\". First, you type an \"s\", which in Korean is \"ㅅ\". Next comes a vowel, \"ㅏ\"; when you type that, the \"ㅅ\" changes to \"사\", the syllable \"sa\". That's fine, but then you type the Korean \"r\", which is \"ㄹ\", but the computer initially thinks that you are typing the syllable \"sar\" or \"sal\", and so it gives you \"살\". At this point you panic, because that's not what you want. But don't worry, because the moment you type the next letter -- another \"ㅏ\" -- the software knows that you can't start a Korean syllable with a vowel letter. And so now it knows that the \"ㄹ\" needs to go in the second syllable, changes the \"살\" back to \"사\" and starts a new syllable \"라\". Now you type \"ㅇ\", and the \"라\" changes to \"랑\", the syllable \"rang\". Next, type \"ㅎ\". This is a consonant, so the computer knows that it can leave \"랑\" exactly as it is and start a new syllable. Finally, you type \"ㅐ\", the \"ㅎ\" changes to \"해\" and you're done. So in fact, if everything is working properly, you should just be able to type the Korean letters \"ㅅ\", \"ㅏ\", \"ㄹ\", \"ㅏ\", \"ㅇ\", \"ㅎ\" and \"ㅐ\", and the software will automatically convert it to \"사랑해\" without you having to do anything else. You do have to make sure you have a Korean keyboard and you have switched it to accept Korean (a Korean keyboard can be toggled between Korean and English input; for example, if you want to type a web address, you normally have to use English input mode).\n",
            "~~~~~~~~~~~~~~\n",
            "['Korean', 'use', 'an', 'alphabet', 'call', 'hangul', '.', 'Individual', 'letter', 'be', 'compose', 'into', 'syllable', ',', 'with', 'each', 'syllable', 'occupy', 'one', 'block', '.', 'This', 'mean', 'that', 'the', 'computer', 'need', 'to', 'know', 'when', 'you', 'have', 'finish', 'type', 'one', 'syllable', 'and', 'want', 'to', 'start', 'type', 'the', 'next', ':', 'fortunately', ',', 'the', 'Korean', 'writing', 'system', 'have', 'very', 'strict', 'and', 'simple', 'rule', 'that', 'be', 'quite', 'easy', 'to', 'program', 'into', 'a', 'computer', '.', 'A', 'syllable', 'must', 'start', 'with', 'a', 'consonant', ',', 'and', 'must', 'contain', 'at', 'least', 'one', 'vowel', ';', 'it', 'can', 'then', 'have', 'another', 'consonant', 'at', 'the', 'end', '.', 'The', 'consonant', 'letter', '``', 'ㅇ', \"''\", 'be', '``', 'ng', \"''\", 'at', 'the', 'end', 'of', 'a', 'syllable', ',', 'but', 'silent', 'at', 'the', 'beginning', 'of', 'a', 'syllable', ',', 'so', 'this', 'let', 'you', 'write', 'syllable', 'begin', 'with', 'a', 'vowel', '*', 'sound', '*', 'without', 'break', 'the', 'rule', 'that', 'in', 'write', 'Korean', ',', 'all', 'syllable', 'must', 'begin', 'with', 'a', 'consonant', '.', 'In', 'your', 'example', ',', '``', 'saranghae', \"''\", 'be', '``', '사랑해', \"''\", ',', 'the', 'three', 'block', 'represent', 'the', 'syllable', '``', 'sa-rang-hae', \"''\", '.', 'First', ',', 'you', 'type', 'an', '``', 's', \"''\", ',', 'which', 'in', 'Korean', 'be', '``', 'ㅅ', \"''\", '.', 'Next', 'come', 'a', 'vowel', ',', '``', 'ㅏ', \"''\", ';', 'when', 'you', 'type', 'that', ',', 'the', '``', 'ㅅ', \"''\", 'change', 'to', '``', '사', \"''\", ',', 'the', 'syllable', '``', 'sa', \"''\", '.', 'That', \"'s\", 'fine', ',', 'but', 'then', 'you', 'type', 'the', 'Korean', '``', 'r', \"''\", ',', 'which', 'be', '``', 'ㄹ', \"''\", ',', 'but', 'the', 'computer', 'initially', 'think', 'that', 'you', 'be', 'type', 'the', 'syllable', '``', 'sar', \"''\", 'or', '``', 'sal', \"''\", ',', 'and', 'so', 'it', 'give', 'you', '``', '살', \"''\", '.', 'At', 'this', 'point', 'you', 'panic', ',', 'because', 'that', \"'s\", 'not', 'what', 'you', 'want', '.', 'But', 'do', \"n't\", 'worry', ',', 'because', 'the', 'moment', 'you', 'type', 'the', 'next', 'letter', '--', 'another', '``', 'ㅏ', \"''\", '--', 'the', 'software', 'know', 'that', 'you', 'ca', \"n't\", 'start', 'a', 'Korean', 'syllable', 'with', 'a', 'vowel', 'letter', '.', 'And', 'so', 'now', 'it', 'know', 'that', 'the', '``', 'ㄹ', \"''\", 'need', 'to', 'go', 'in', 'the', 'second', 'syllable', ',', 'change', 'the', '``', '살', \"''\", 'back', 'to', '``', '사', \"''\", 'and', 'start', 'a', 'new', 'syllable', '``', '라', \"''\", '.', 'Now', 'you', 'type', '``', 'ㅇ', \"''\", ',', 'and', 'the', '``', '라', \"''\", 'change', 'to', '``', '랑', \"''\", ',', 'the', 'syllable', '``', 'rang', \"''\", '.', 'Next', ',', 'type', '``', 'ㅎ', \"''\", '.', 'This', 'be', 'a', 'consonant', ',', 'so', 'the', 'computer', 'know', 'that', 'it', 'can', 'leave', '``', '랑', \"''\", 'exactly', 'a', 'it', 'be', 'and', 'start', 'a', 'new', 'syllable', '.', 'Finally', ',', 'you', 'type', '``', 'ㅐ', \"''\", ',', 'the', '``', 'ㅎ', \"''\", 'change', 'to', '``', '해', \"''\", 'and', 'you', \"'re\", 'do', '.', 'So', 'in', 'fact', ',', 'if', 'everything', 'be', 'work', 'properly', ',', 'you', 'should', 'just', 'be', 'able', 'to', 'type', 'the', 'Korean', 'letter', '``', 'ㅅ', \"''\", ',', '``', 'ㅏ', \"''\", ',', '``', 'ㄹ', \"''\", ',', '``', 'ㅏ', \"''\", ',', '``', 'ㅇ', \"''\", ',', '``', 'ㅎ', \"''\", 'and', '``', 'ㅐ', \"''\", ',', 'and', 'the', 'software', 'will', 'automatically', 'convert', 'it', 'to', '``', '사랑해', \"''\", 'without', 'you', 'have', 'to', 'do', 'anything', 'else', '.', 'You', 'do', 'have', 'to', 'make', 'sure', 'you', 'have', 'a', 'Korean', 'keyboard', 'and', 'you', 'have', 'switch', 'it', 'to', 'accept', 'Korean', '(', 'a', 'Korean', 'keyboard', 'can', 'be', 'toggle', 'between', 'Korean', 'and', 'English', 'input', ';', 'for', 'example', ',', 'if', 'you', 'want', 'to', 'type', 'a', 'web', 'address', ',', 'you', 'normally', 'have', 'to', 'use', 'English', 'input', 'mode', ')', '.']\n"
          ]
        }
      ],
      "source": [
        "selftext = dataset_dict['answers'][29][0]\n",
        "wordsList1 = []\n",
        "tagged1 = []\n",
        "\n",
        "# Word tokenizers is used to find the words and punctuation in a string\n",
        "wordsList1 = nltk.word_tokenize(selftext)\n",
        "\n",
        "# removing stop words from wordList\n",
        "# wordsList = [w for w in wordsList if not w in stop_words]\n",
        "\n",
        "#  Using a Tagger. Which is part-of-speech tagger or POS-tagger.\n",
        "tagged1 = nltk.pos_tag(wordsList1)\n",
        "\n",
        "# Lemmatize using the mapped POS tags\n",
        "lemmatized_words_pos = [lemmatizer.lemmatize(word, pos=get_wordnet_pos(tag)) for word, tag in tagged1]\n",
        "\n",
        "print(selftext)\n",
        "print(\"~~~~~~~~~~~~~~\")\n",
        "print(lemmatized_words_pos)"
      ]
    },
    {
      "cell_type": "markdown",
      "metadata": {
        "id": "rsbxfC6oydD0"
      },
      "source": [
        "# Model \"GPT\""
      ]
    },
    {
      "cell_type": "markdown",
      "metadata": {
        "id": "L5pftHT7ygec"
      },
      "source": [
        "First step is to install the openai library"
      ]
    },
    {
      "cell_type": "code",
      "execution_count": null,
      "metadata": {
        "colab": {
          "base_uri": "https://localhost:8080/"
        },
        "id": "YAbkaOq4ylaQ",
        "outputId": "f4f23dad-0d3d-492e-d7a5-ab421895b132"
      },
      "outputs": [
        {
          "name": "stdout",
          "output_type": "stream",
          "text": [
            "Collecting openai\n",
            "  Downloading openai-1.28.1-py3-none-any.whl (320 kB)\n",
            "\u001b[?25l     \u001b[90m━━━━━━━━━━━━━━━━━━━━━━━━━━━━━━━━━━━━━━━━\u001b[0m \u001b[32m0.0/320.1 kB\u001b[0m \u001b[31m?\u001b[0m eta \u001b[36m-:--:--\u001b[0m\r\u001b[2K     \u001b[91m━━━━━━━━━━━━━━━━━━━━━━━━━\u001b[0m\u001b[91m╸\u001b[0m\u001b[90m━━━━━━━━━━━━━━\u001b[0m \u001b[32m204.8/320.1 kB\u001b[0m \u001b[31m6.0 MB/s\u001b[0m eta \u001b[36m0:00:01\u001b[0m\r\u001b[2K     \u001b[90m━━━━━━━━━━━━━━━━━━━━━━━━━━━━━━━━━━━━━━━━\u001b[0m \u001b[32m320.1/320.1 kB\u001b[0m \u001b[31m6.4 MB/s\u001b[0m eta \u001b[36m0:00:00\u001b[0m\n",
            "\u001b[?25hRequirement already satisfied: anyio<5,>=3.5.0 in /usr/local/lib/python3.10/dist-packages (from openai) (3.7.1)\n",
            "Requirement already satisfied: distro<2,>=1.7.0 in /usr/lib/python3/dist-packages (from openai) (1.7.0)\n",
            "Collecting httpx<1,>=0.23.0 (from openai)\n",
            "  Downloading httpx-0.27.0-py3-none-any.whl (75 kB)\n",
            "\u001b[2K     \u001b[90m━━━━━━━━━━━━━━━━━━━━━━━━━━━━━━━━━━━━━━━━\u001b[0m \u001b[32m75.6/75.6 kB\u001b[0m \u001b[31m10.0 MB/s\u001b[0m eta \u001b[36m0:00:00\u001b[0m\n",
            "\u001b[?25hRequirement already satisfied: pydantic<3,>=1.9.0 in /usr/local/lib/python3.10/dist-packages (from openai) (2.7.1)\n",
            "Requirement already satisfied: sniffio in /usr/local/lib/python3.10/dist-packages (from openai) (1.3.1)\n",
            "Requirement already satisfied: tqdm>4 in /usr/local/lib/python3.10/dist-packages (from openai) (4.66.4)\n",
            "Requirement already satisfied: typing-extensions<5,>=4.7 in /usr/local/lib/python3.10/dist-packages (from openai) (4.11.0)\n",
            "Requirement already satisfied: idna>=2.8 in /usr/local/lib/python3.10/dist-packages (from anyio<5,>=3.5.0->openai) (3.7)\n",
            "Requirement already satisfied: exceptiongroup in /usr/local/lib/python3.10/dist-packages (from anyio<5,>=3.5.0->openai) (1.2.1)\n",
            "Requirement already satisfied: certifi in /usr/local/lib/python3.10/dist-packages (from httpx<1,>=0.23.0->openai) (2024.2.2)\n",
            "Collecting httpcore==1.* (from httpx<1,>=0.23.0->openai)\n",
            "  Downloading httpcore-1.0.5-py3-none-any.whl (77 kB)\n",
            "\u001b[2K     \u001b[90m━━━━━━━━━━━━━━━━━━━━━━━━━━━━━━━━━━━━━━━━\u001b[0m \u001b[32m77.9/77.9 kB\u001b[0m \u001b[31m11.0 MB/s\u001b[0m eta \u001b[36m0:00:00\u001b[0m\n",
            "\u001b[?25hCollecting h11<0.15,>=0.13 (from httpcore==1.*->httpx<1,>=0.23.0->openai)\n",
            "  Downloading h11-0.14.0-py3-none-any.whl (58 kB)\n",
            "\u001b[2K     \u001b[90m━━━━━━━━━━━━━━━━━━━━━━━━━━━━━━━━━━━━━━━━\u001b[0m \u001b[32m58.3/58.3 kB\u001b[0m \u001b[31m7.7 MB/s\u001b[0m eta \u001b[36m0:00:00\u001b[0m\n",
            "\u001b[?25hRequirement already satisfied: annotated-types>=0.4.0 in /usr/local/lib/python3.10/dist-packages (from pydantic<3,>=1.9.0->openai) (0.6.0)\n",
            "Requirement already satisfied: pydantic-core==2.18.2 in /usr/local/lib/python3.10/dist-packages (from pydantic<3,>=1.9.0->openai) (2.18.2)\n",
            "Installing collected packages: h11, httpcore, httpx, openai\n",
            "Successfully installed h11-0.14.0 httpcore-1.0.5 httpx-0.27.0 openai-1.28.1\n"
          ]
        }
      ],
      "source": [
        "pip install --upgrade openai"
      ]
    },
    {
      "cell_type": "code",
      "execution_count": null,
      "metadata": {
        "id": "NTBdi8d-ym-N"
      },
      "outputs": [],
      "source": [
        "openai_API_KEY = \"SECRET KEY\""
      ]
    },
    {
      "cell_type": "code",
      "execution_count": null,
      "metadata": {
        "id": "rGIQQlGQ4YJ0"
      },
      "outputs": [],
      "source": [
        "def convert_to_gpt35_format(dataset):\n",
        "\n",
        "  fine_tuning_data = []\n",
        "  for i in range(len(dataset['questions'])):\n",
        "\n",
        "      json_response = '{\"best answer\": \"' + dataset['answers'][i][0] + '\"}'\n",
        "      fine_tuning_data.append({\n",
        "          \"messages\": [\n",
        "              {\"role\": \"user\", \"content\": dataset['questions'][i]},\n",
        "              {\"role\": \"system\", \"content\": json_response}\n",
        "          ]\n",
        "      })\n",
        "  return fine_tuning_data"
      ]
    },
    {
      "cell_type": "code",
      "execution_count": null,
      "metadata": {
        "id": "feU_q5Xf6KH9"
      },
      "outputs": [],
      "source": [
        "converted_data = convert_to_gpt35_format(dataset_dict)"
      ]
    },
    {
      "cell_type": "code",
      "execution_count": null,
      "metadata": {
        "colab": {
          "base_uri": "https://localhost:8080/"
        },
        "id": "iEdrpv_O6Zta",
        "outputId": "c72b4061-0566-46cc-b9da-34095a7882f5"
      },
      "outputs": [
        {
          "name": "stdout",
          "output_type": "stream",
          "text": [
            "91772\n"
          ]
        },
        {
          "data": {
            "text/plain": [
              "[{'messages': [{'role': 'user',\n",
              "    'content': \"Why there was a 'leap second' added to the end of 2016?\"},\n",
              "   {'role': 'system',\n",
              "    'content': '{\"best answer\": \"the rotation of the earth is not a constant. in fact the rotation of the earth is slowing down, which means that a full day is getting slightly longer. without leap seconds our clocks would slowly drift ever so slightly out of sync with the actual day. we could deal with this by redefining how how long 1 second is, making it slightly longer so that one day is still exactly 24*60*60 seconds. but in practice that is really inconvenient for a lot of our technology which relies on very precise timing. its easier to just move us ahead one second every couple of years or so.\"}'}]},\n",
              " {'messages': [{'role': 'user',\n",
              "    'content': 'How do you claim undiscovered land?'},\n",
              "   {'role': 'system',\n",
              "    'content': '{\"best answer\": \"Imagine you are out walking in the woods near your house and you find a cave. You think to yourself, \"Gee that\\'s a real nice cave, there\\'s just enough room for my rocket car, my crime fighting computer and my superhero costume collection. It\\'d be perfect for me.\" Let\\'s say that nobody already owns the cave, so you move in and bring in all your stuff. You carve a costume wardrobe into one of the stone walls, grab a shovel and flatten the floor a bit so your rocket car can drive in and out. After you\\'ve finished working on the cave and fixing it up you start to think of it as yours. But not everybody agrees. There\\'s another guy a few miles away who also fancies himself a billionaire superhero like you. Flies around in a stupid metal suit that he made himself while a prisoner of the Taliban or something like that. Anyway, one day he walks by and sees your cave and thinks, \"That\\'s a great cave, I should make that my lair.\" So he comes in for a chat. He starts by telling you that he\\'s going to move into your cave because it\\'s his. You tell him to get stuffed, and that if he tries to take it from you, you\\'ll be forced to unwrap a bundle of BAM!, POW! and WHOOF! on him. And what\\'s more, you\\'ve recently adopted a teenage boy who\\'ll do the same. \"Yeah?\" says the guy, \"Well if that\\'s how you feel, I\\'m friends with a cryogenically frozen soldier, a Norse god and some dude who owns a bow and arrow. They\\'ll back me up if I ask them. Your move.\" \"So what?\" you say. \"One of my friends is a super strong refugee from a dying planet, another is a mythical Amazonian warrior and there\\'s also a guy who was electrocuted by lightning while drowning in toxic chemicals. They\\'ll take your friends for sure.\" \"Yeah? We\\'ll see. How fast can your friends be here?\" \"Funny you should ask. There\\'s something I didn\\'t tell you about my friend who got struck by lightning.\" Suddenly a phone rings. It\\'s the other guy\\'s cell. On the phone is a cool, english sounding voice with immense gravitas. \"Forget the cave.\" it says. \"I\\'ve spent my life training superhero teams at my private academy, and I\\'m telling you, your team is outgunned. In any case, nobody else wants a fight over this cave when we should all be working together for the good of mankind. Everyone else has decided the cave is his cause he claimed it first. So walk away.\" This call makes all the difference. The other guy might not be happy, but he leaves you in peace. The cave is yours because a) you claimed it b) you were in a position to defend it and c) everyone else agreed that your claim and ability to defend were substantial enough to recognise your right of ownership.\"}'}]}]"
            ]
          },
          "execution_count": 48,
          "metadata": {},
          "output_type": "execute_result"
        }
      ],
      "source": [
        "print(len(converted_data))\n",
        "\n",
        "converted_data[:2]"
      ]
    },
    {
      "cell_type": "markdown",
      "metadata": {
        "id": "P_mZpTAl7KsE"
      },
      "source": [
        "Make sure the dataset is in correct json format"
      ]
    },
    {
      "cell_type": "code",
      "execution_count": null,
      "metadata": {
        "colab": {
          "base_uri": "https://localhost:8080/"
        },
        "id": "FpwOCxv67TvN",
        "outputId": "99339455-95b1-4308-f3da-27ba052732e5"
      },
      "outputs": [
        {
          "data": {
            "text/plain": [
              "{'best answer': 'the rotation of the earth is not a constant. in fact the rotation of the earth is slowing down, which means that a full day is getting slightly longer. without leap seconds our clocks would slowly drift ever so slightly out of sync with the actual day. we could deal with this by redefining how how long 1 second is, making it slightly longer so that one day is still exactly 24*60*60 seconds. but in practice that is really inconvenient for a lot of our technology which relies on very precise timing. its easier to just move us ahead one second every couple of years or so.'}"
            ]
          },
          "execution_count": 49,
          "metadata": {},
          "output_type": "execute_result"
        }
      ],
      "source": [
        "import json\n",
        "json.loads(converted_data[0]['messages'][-1]['content'])"
      ]
    },
    {
      "cell_type": "code",
      "execution_count": null,
      "metadata": {
        "id": "-_OdZvP64ipU"
      },
      "outputs": [],
      "source": [
        "from sklearn.model_selection import train_test_split\n",
        "\n",
        "# Stratified splitting. Assuming 'Top Category' can be used for stratification\n",
        "train_data, val_data = train_test_split(\n",
        "    converted_data,\n",
        "    test_size=0.2,\n",
        "    # stratify=dataset['Top Category'],\n",
        "    random_state=42  # for reproducibility\n",
        ")"
      ]
    },
    {
      "cell_type": "code",
      "execution_count": null,
      "metadata": {
        "id": "fNooNl248f6_"
      },
      "outputs": [],
      "source": [
        "def write_to_jsonl(data, file_path):\n",
        "    with open(file_path, 'w') as file:\n",
        "        for entry in data:\n",
        "            json.dump(entry, file)\n",
        "            file.write('\\n')\n",
        "\n",
        "training_file_name = \"train.jsonl\"\n",
        "validation_file_name = \"val.jsonl\"\n",
        "\n",
        "write_to_jsonl(train_data, training_file_name)\n",
        "write_to_jsonl(val_data, validation_file_name)"
      ]
    },
    {
      "cell_type": "code",
      "execution_count": null,
      "metadata": {
        "colab": {
          "base_uri": "https://localhost:8080/",
          "height": 401
        },
        "id": "B0F-2lxuyxYm",
        "outputId": "c2ee484d-7719-4e93-d04c-ad14900c72b6"
      },
      "outputs": [
        {
          "ename": "BadRequestError",
          "evalue": "Error code: 400 - {'error': {'message': 'Fine-tuning jobs cannot be created on an Explore plan. You can upgrade to a paid plan on your billing page: https://platform.openai.com/account/billing/overview', 'type': 'invalid_request_error', 'param': None, 'code': 'exceeded_quota'}}",
          "output_type": "error",
          "traceback": [
            "\u001b[0;31m---------------------------------------------------------------------------\u001b[0m",
            "\u001b[0;31mBadRequestError\u001b[0m                           Traceback (most recent call last)",
            "\u001b[0;32m<ipython-input-54-735313c37667>\u001b[0m in \u001b[0;36m<cell line: 14>\u001b[0;34m()\u001b[0m\n\u001b[1;32m     12\u001b[0m \u001b[0;31m# Create Fine-Tuning Job\u001b[0m\u001b[0;34m\u001b[0m\u001b[0;34m\u001b[0m\u001b[0m\n\u001b[1;32m     13\u001b[0m \u001b[0msuffix_name\u001b[0m \u001b[0;34m=\u001b[0m \u001b[0;34m\"yt_tutorial\"\u001b[0m\u001b[0;34m\u001b[0m\u001b[0;34m\u001b[0m\u001b[0m\n\u001b[0;32m---> 14\u001b[0;31m response = client.fine_tuning.jobs.create(\n\u001b[0m\u001b[1;32m     15\u001b[0m     \u001b[0mtraining_file\u001b[0m\u001b[0;34m=\u001b[0m\u001b[0mtraining_file\u001b[0m\u001b[0;34m.\u001b[0m\u001b[0mid\u001b[0m\u001b[0;34m,\u001b[0m\u001b[0;34m\u001b[0m\u001b[0;34m\u001b[0m\u001b[0m\n\u001b[1;32m     16\u001b[0m     \u001b[0mvalidation_file\u001b[0m\u001b[0;34m=\u001b[0m\u001b[0mvalidation_file\u001b[0m\u001b[0;34m.\u001b[0m\u001b[0mid\u001b[0m\u001b[0;34m,\u001b[0m\u001b[0;34m\u001b[0m\u001b[0;34m\u001b[0m\u001b[0m\n",
            "\u001b[0;32m/usr/local/lib/python3.10/dist-packages/openai/resources/fine_tuning/jobs/jobs.py\u001b[0m in \u001b[0;36mcreate\u001b[0;34m(self, model, training_file, hyperparameters, integrations, seed, suffix, validation_file, extra_headers, extra_query, extra_body, timeout)\u001b[0m\n\u001b[1;32m    126\u001b[0m           \u001b[0mtimeout\u001b[0m\u001b[0;34m:\u001b[0m \u001b[0mOverride\u001b[0m \u001b[0mthe\u001b[0m \u001b[0mclient\u001b[0m\u001b[0;34m-\u001b[0m\u001b[0mlevel\u001b[0m \u001b[0mdefault\u001b[0m \u001b[0mtimeout\u001b[0m \u001b[0;32mfor\u001b[0m \u001b[0mthis\u001b[0m \u001b[0mrequest\u001b[0m\u001b[0;34m,\u001b[0m \u001b[0;32min\u001b[0m \u001b[0mseconds\u001b[0m\u001b[0;34m\u001b[0m\u001b[0;34m\u001b[0m\u001b[0m\n\u001b[1;32m    127\u001b[0m         \"\"\"\n\u001b[0;32m--> 128\u001b[0;31m         return self._post(\n\u001b[0m\u001b[1;32m    129\u001b[0m             \u001b[0;34m\"/fine_tuning/jobs\"\u001b[0m\u001b[0;34m,\u001b[0m\u001b[0;34m\u001b[0m\u001b[0;34m\u001b[0m\u001b[0m\n\u001b[1;32m    130\u001b[0m             body=maybe_transform(\n",
            "\u001b[0;32m/usr/local/lib/python3.10/dist-packages/openai/_base_client.py\u001b[0m in \u001b[0;36mpost\u001b[0;34m(self, path, cast_to, body, options, files, stream, stream_cls)\u001b[0m\n\u001b[1;32m   1238\u001b[0m             \u001b[0mmethod\u001b[0m\u001b[0;34m=\u001b[0m\u001b[0;34m\"post\"\u001b[0m\u001b[0;34m,\u001b[0m \u001b[0murl\u001b[0m\u001b[0;34m=\u001b[0m\u001b[0mpath\u001b[0m\u001b[0;34m,\u001b[0m \u001b[0mjson_data\u001b[0m\u001b[0;34m=\u001b[0m\u001b[0mbody\u001b[0m\u001b[0;34m,\u001b[0m \u001b[0mfiles\u001b[0m\u001b[0;34m=\u001b[0m\u001b[0mto_httpx_files\u001b[0m\u001b[0;34m(\u001b[0m\u001b[0mfiles\u001b[0m\u001b[0;34m)\u001b[0m\u001b[0;34m,\u001b[0m \u001b[0;34m**\u001b[0m\u001b[0moptions\u001b[0m\u001b[0;34m\u001b[0m\u001b[0;34m\u001b[0m\u001b[0m\n\u001b[1;32m   1239\u001b[0m         )\n\u001b[0;32m-> 1240\u001b[0;31m         \u001b[0;32mreturn\u001b[0m \u001b[0mcast\u001b[0m\u001b[0;34m(\u001b[0m\u001b[0mResponseT\u001b[0m\u001b[0;34m,\u001b[0m \u001b[0mself\u001b[0m\u001b[0;34m.\u001b[0m\u001b[0mrequest\u001b[0m\u001b[0;34m(\u001b[0m\u001b[0mcast_to\u001b[0m\u001b[0;34m,\u001b[0m \u001b[0mopts\u001b[0m\u001b[0;34m,\u001b[0m \u001b[0mstream\u001b[0m\u001b[0;34m=\u001b[0m\u001b[0mstream\u001b[0m\u001b[0;34m,\u001b[0m \u001b[0mstream_cls\u001b[0m\u001b[0;34m=\u001b[0m\u001b[0mstream_cls\u001b[0m\u001b[0;34m)\u001b[0m\u001b[0;34m)\u001b[0m\u001b[0;34m\u001b[0m\u001b[0;34m\u001b[0m\u001b[0m\n\u001b[0m\u001b[1;32m   1241\u001b[0m \u001b[0;34m\u001b[0m\u001b[0m\n\u001b[1;32m   1242\u001b[0m     def patch(\n",
            "\u001b[0;32m/usr/local/lib/python3.10/dist-packages/openai/_base_client.py\u001b[0m in \u001b[0;36mrequest\u001b[0;34m(self, cast_to, options, remaining_retries, stream, stream_cls)\u001b[0m\n\u001b[1;32m    919\u001b[0m         \u001b[0mstream_cls\u001b[0m\u001b[0;34m:\u001b[0m \u001b[0mtype\u001b[0m\u001b[0;34m[\u001b[0m\u001b[0m_StreamT\u001b[0m\u001b[0;34m]\u001b[0m \u001b[0;34m|\u001b[0m \u001b[0;32mNone\u001b[0m \u001b[0;34m=\u001b[0m \u001b[0;32mNone\u001b[0m\u001b[0;34m,\u001b[0m\u001b[0;34m\u001b[0m\u001b[0;34m\u001b[0m\u001b[0m\n\u001b[1;32m    920\u001b[0m     ) -> ResponseT | _StreamT:\n\u001b[0;32m--> 921\u001b[0;31m         return self._request(\n\u001b[0m\u001b[1;32m    922\u001b[0m             \u001b[0mcast_to\u001b[0m\u001b[0;34m=\u001b[0m\u001b[0mcast_to\u001b[0m\u001b[0;34m,\u001b[0m\u001b[0;34m\u001b[0m\u001b[0;34m\u001b[0m\u001b[0m\n\u001b[1;32m    923\u001b[0m             \u001b[0moptions\u001b[0m\u001b[0;34m=\u001b[0m\u001b[0moptions\u001b[0m\u001b[0;34m,\u001b[0m\u001b[0;34m\u001b[0m\u001b[0;34m\u001b[0m\u001b[0m\n",
            "\u001b[0;32m/usr/local/lib/python3.10/dist-packages/openai/_base_client.py\u001b[0m in \u001b[0;36m_request\u001b[0;34m(self, cast_to, options, remaining_retries, stream, stream_cls)\u001b[0m\n\u001b[1;32m   1018\u001b[0m \u001b[0;34m\u001b[0m\u001b[0m\n\u001b[1;32m   1019\u001b[0m             \u001b[0mlog\u001b[0m\u001b[0;34m.\u001b[0m\u001b[0mdebug\u001b[0m\u001b[0;34m(\u001b[0m\u001b[0;34m\"Re-raising status error\"\u001b[0m\u001b[0;34m)\u001b[0m\u001b[0;34m\u001b[0m\u001b[0;34m\u001b[0m\u001b[0m\n\u001b[0;32m-> 1020\u001b[0;31m             \u001b[0;32mraise\u001b[0m \u001b[0mself\u001b[0m\u001b[0;34m.\u001b[0m\u001b[0m_make_status_error_from_response\u001b[0m\u001b[0;34m(\u001b[0m\u001b[0merr\u001b[0m\u001b[0;34m.\u001b[0m\u001b[0mresponse\u001b[0m\u001b[0;34m)\u001b[0m \u001b[0;32mfrom\u001b[0m \u001b[0;32mNone\u001b[0m\u001b[0;34m\u001b[0m\u001b[0;34m\u001b[0m\u001b[0m\n\u001b[0m\u001b[1;32m   1021\u001b[0m \u001b[0;34m\u001b[0m\u001b[0m\n\u001b[1;32m   1022\u001b[0m         return self._process_response(\n",
            "\u001b[0;31mBadRequestError\u001b[0m: Error code: 400 - {'error': {'message': 'Fine-tuning jobs cannot be created on an Explore plan. You can upgrade to a paid plan on your billing page: https://platform.openai.com/account/billing/overview', 'type': 'invalid_request_error', 'param': None, 'code': 'exceeded_quota'}}"
          ]
        }
      ],
      "source": [
        "from openai import OpenAI\n",
        "client = OpenAI(api_key=openai_API_KEY)\n",
        "\n",
        "# Upload Training and Validation Files\n",
        "training_file = client.files.create(\n",
        "    file=open(training_file_name, \"rb\"), purpose=\"fine-tune\"\n",
        ")\n",
        "validation_file = client.files.create(\n",
        "    file=open(validation_file_name, \"rb\"), purpose=\"fine-tune\"\n",
        ")\n",
        "\n",
        "# Create Fine-Tuning Job\n",
        "suffix_name = \"yt_tutorial\"\n",
        "response = client.fine_tuning.jobs.create(\n",
        "    training_file=training_file.id,\n",
        "    validation_file=validation_file.id,\n",
        "    model=\"gpt-3.5-turbo\",\n",
        "    suffix=suffix_name,\n",
        ")"
      ]
    },
    {
      "cell_type": "markdown",
      "metadata": {
        "id": "eoAsITFL9NEp"
      },
      "source": [
        "Testing fine-tuned model"
      ]
    },
    {
      "cell_type": "code",
      "execution_count": null,
      "metadata": {
        "id": "GjSaociA0URV"
      },
      "outputs": [],
      "source": [
        "from sklearn.metrics import accuracy_score, precision_score, recall_score, f1_score\n",
        "\n",
        "def format_test(row):\n",
        "    formatted_message = [{\"role\": \"user\", \"content\": row['Support Query']}]\n",
        "    return formatted_message\n",
        "\n",
        "def predict(test_messages, fine_tuned_model_id):\n",
        "    response = client.chat.completions.create(\n",
        "        model=fine_tuned_model_id, messages=test_messages, temperature=0, max_tokens=50\n",
        "    )\n",
        "    return response.choices[0].message.content\n",
        "\n",
        "def store_predictions(test_df, fine_tuned_model_id):\n",
        "    test_df['Prediction'] = None\n",
        "    for index, row in test_df.iterrows():\n",
        "        test_message = format_test(row)\n",
        "        prediction_result = predict(test_message, fine_tuned_model_id)\n",
        "        test_df.at[index, 'Prediction'] = prediction_result\n",
        "\n",
        "    test_df.to_csv(\"predictions.csv\")\n"
      ]
    },
    {
      "cell_type": "markdown",
      "metadata": {
        "id": "kYpwb-fU9as4"
      },
      "source": [
        "# Model T5"
      ]
    },
    {
      "cell_type": "code",
      "execution_count": 9,
      "metadata": {
        "id": "ndWlvJ039cqi"
      },
      "outputs": [],
      "source": [
        "def clear_dataset_4_finetuning(dataset_dict):\n",
        "  df = []\n",
        "  for i, ans_list in enumerate(dataset_dict['answers']):\n",
        "    for j, ans in enumerate(ans_list):\n",
        "      df.append(\n",
        "          {\n",
        "              'question': dataset_dict['questions'][i],\n",
        "              'answer': dataset_dict['answers'][i][j],\n",
        "              'score': dataset_dict['score'][i][j],\n",
        "              'selftext': dataset_dict['selftext'][i],\n",
        "              'category':  dataset_dict['category'][i]\n",
        "          }\n",
        "      )\n",
        "  df = pd.DataFrame(df)\n",
        "\n",
        "  return df"
      ]
    },
    {
      "cell_type": "code",
      "execution_count": 10,
      "metadata": {
        "id": "KZbHaolDrQoS"
      },
      "outputs": [],
      "source": [
        "df_train = clear_dataset_4_finetuning(dataset_dict)"
      ]
    },
    {
      "cell_type": "code",
      "execution_count": 11,
      "metadata": {
        "colab": {
          "base_uri": "https://localhost:8080/",
          "height": 289
        },
        "id": "YmgN4hJLrVRu",
        "outputId": "ed284a5f-b0c6-4e12-a592-2bed170b1b6a"
      },
      "outputs": [
        {
          "data": {
            "application/vnd.google.colaboratory.intrinsic+json": {
              "type": "dataframe",
              "variable_name": "df_train"
            },
            "text/html": [
              "\n",
              "  <div id=\"df-461d185a-7457-480b-bd1a-5980f6b586ea\" class=\"colab-df-container\">\n",
              "    <div>\n",
              "<style scoped>\n",
              "    .dataframe tbody tr th:only-of-type {\n",
              "        vertical-align: middle;\n",
              "    }\n",
              "\n",
              "    .dataframe tbody tr th {\n",
              "        vertical-align: top;\n",
              "    }\n",
              "\n",
              "    .dataframe thead th {\n",
              "        text-align: right;\n",
              "    }\n",
              "</style>\n",
              "<table border=\"1\" class=\"dataframe\">\n",
              "  <thead>\n",
              "    <tr style=\"text-align: right;\">\n",
              "      <th></th>\n",
              "      <th>question</th>\n",
              "      <th>answer</th>\n",
              "      <th>score</th>\n",
              "      <th>selftext</th>\n",
              "      <th>category</th>\n",
              "    </tr>\n",
              "  </thead>\n",
              "  <tbody>\n",
              "    <tr>\n",
              "      <th>0</th>\n",
              "      <td>Why there was a 'leap second' added to the end...</td>\n",
              "      <td>the rotation of the earth is not a constant. i...</td>\n",
              "      <td>44</td>\n",
              "      <td></td>\n",
              "      <td>Other</td>\n",
              "    </tr>\n",
              "    <tr>\n",
              "      <th>1</th>\n",
              "      <td>Why there was a 'leap second' added to the end...</td>\n",
              "      <td>The Earth's rotation is not regular. It varies...</td>\n",
              "      <td>5</td>\n",
              "      <td></td>\n",
              "      <td>Other</td>\n",
              "    </tr>\n",
              "    <tr>\n",
              "      <th>2</th>\n",
              "      <td>Why there was a 'leap second' added to the end...</td>\n",
              "      <td>Because the Earth's rotation is slowing. If yo...</td>\n",
              "      <td>4</td>\n",
              "      <td></td>\n",
              "      <td>Other</td>\n",
              "    </tr>\n",
              "    <tr>\n",
              "      <th>3</th>\n",
              "      <td>How do you claim undiscovered land?</td>\n",
              "      <td>Imagine you are out walking in the woods near ...</td>\n",
              "      <td>195</td>\n",
              "      <td>If your on a boat, sailing through lets say th...</td>\n",
              "      <td>Other</td>\n",
              "    </tr>\n",
              "    <tr>\n",
              "      <th>4</th>\n",
              "      <td>How do you claim undiscovered land?</td>\n",
              "      <td>By force. Historically, nations have defended ...</td>\n",
              "      <td>39</td>\n",
              "      <td>If your on a boat, sailing through lets say th...</td>\n",
              "      <td>Other</td>\n",
              "    </tr>\n",
              "  </tbody>\n",
              "</table>\n",
              "</div>\n",
              "    <div class=\"colab-df-buttons\">\n",
              "\n",
              "  <div class=\"colab-df-container\">\n",
              "    <button class=\"colab-df-convert\" onclick=\"convertToInteractive('df-461d185a-7457-480b-bd1a-5980f6b586ea')\"\n",
              "            title=\"Convert this dataframe to an interactive table.\"\n",
              "            style=\"display:none;\">\n",
              "\n",
              "  <svg xmlns=\"http://www.w3.org/2000/svg\" height=\"24px\" viewBox=\"0 -960 960 960\">\n",
              "    <path d=\"M120-120v-720h720v720H120Zm60-500h600v-160H180v160Zm220 220h160v-160H400v160Zm0 220h160v-160H400v160ZM180-400h160v-160H180v160Zm440 0h160v-160H620v160ZM180-180h160v-160H180v160Zm440 0h160v-160H620v160Z\"/>\n",
              "  </svg>\n",
              "    </button>\n",
              "\n",
              "  <style>\n",
              "    .colab-df-container {\n",
              "      display:flex;\n",
              "      gap: 12px;\n",
              "    }\n",
              "\n",
              "    .colab-df-convert {\n",
              "      background-color: #E8F0FE;\n",
              "      border: none;\n",
              "      border-radius: 50%;\n",
              "      cursor: pointer;\n",
              "      display: none;\n",
              "      fill: #1967D2;\n",
              "      height: 32px;\n",
              "      padding: 0 0 0 0;\n",
              "      width: 32px;\n",
              "    }\n",
              "\n",
              "    .colab-df-convert:hover {\n",
              "      background-color: #E2EBFA;\n",
              "      box-shadow: 0px 1px 2px rgba(60, 64, 67, 0.3), 0px 1px 3px 1px rgba(60, 64, 67, 0.15);\n",
              "      fill: #174EA6;\n",
              "    }\n",
              "\n",
              "    .colab-df-buttons div {\n",
              "      margin-bottom: 4px;\n",
              "    }\n",
              "\n",
              "    [theme=dark] .colab-df-convert {\n",
              "      background-color: #3B4455;\n",
              "      fill: #D2E3FC;\n",
              "    }\n",
              "\n",
              "    [theme=dark] .colab-df-convert:hover {\n",
              "      background-color: #434B5C;\n",
              "      box-shadow: 0px 1px 3px 1px rgba(0, 0, 0, 0.15);\n",
              "      filter: drop-shadow(0px 1px 2px rgba(0, 0, 0, 0.3));\n",
              "      fill: #FFFFFF;\n",
              "    }\n",
              "  </style>\n",
              "\n",
              "    <script>\n",
              "      const buttonEl =\n",
              "        document.querySelector('#df-461d185a-7457-480b-bd1a-5980f6b586ea button.colab-df-convert');\n",
              "      buttonEl.style.display =\n",
              "        google.colab.kernel.accessAllowed ? 'block' : 'none';\n",
              "\n",
              "      async function convertToInteractive(key) {\n",
              "        const element = document.querySelector('#df-461d185a-7457-480b-bd1a-5980f6b586ea');\n",
              "        const dataTable =\n",
              "          await google.colab.kernel.invokeFunction('convertToInteractive',\n",
              "                                                    [key], {});\n",
              "        if (!dataTable) return;\n",
              "\n",
              "        const docLinkHtml = 'Like what you see? Visit the ' +\n",
              "          '<a target=\"_blank\" href=https://colab.research.google.com/notebooks/data_table.ipynb>data table notebook</a>'\n",
              "          + ' to learn more about interactive tables.';\n",
              "        element.innerHTML = '';\n",
              "        dataTable['output_type'] = 'display_data';\n",
              "        await google.colab.output.renderOutput(dataTable, element);\n",
              "        const docLink = document.createElement('div');\n",
              "        docLink.innerHTML = docLinkHtml;\n",
              "        element.appendChild(docLink);\n",
              "      }\n",
              "    </script>\n",
              "  </div>\n",
              "\n",
              "\n",
              "<div id=\"df-0ebecd7a-a2d8-40b4-8fe2-4aebbedcc3b6\">\n",
              "  <button class=\"colab-df-quickchart\" onclick=\"quickchart('df-0ebecd7a-a2d8-40b4-8fe2-4aebbedcc3b6')\"\n",
              "            title=\"Suggest charts\"\n",
              "            style=\"display:none;\">\n",
              "\n",
              "<svg xmlns=\"http://www.w3.org/2000/svg\" height=\"24px\"viewBox=\"0 0 24 24\"\n",
              "     width=\"24px\">\n",
              "    <g>\n",
              "        <path d=\"M19 3H5c-1.1 0-2 .9-2 2v14c0 1.1.9 2 2 2h14c1.1 0 2-.9 2-2V5c0-1.1-.9-2-2-2zM9 17H7v-7h2v7zm4 0h-2V7h2v10zm4 0h-2v-4h2v4z\"/>\n",
              "    </g>\n",
              "</svg>\n",
              "  </button>\n",
              "\n",
              "<style>\n",
              "  .colab-df-quickchart {\n",
              "      --bg-color: #E8F0FE;\n",
              "      --fill-color: #1967D2;\n",
              "      --hover-bg-color: #E2EBFA;\n",
              "      --hover-fill-color: #174EA6;\n",
              "      --disabled-fill-color: #AAA;\n",
              "      --disabled-bg-color: #DDD;\n",
              "  }\n",
              "\n",
              "  [theme=dark] .colab-df-quickchart {\n",
              "      --bg-color: #3B4455;\n",
              "      --fill-color: #D2E3FC;\n",
              "      --hover-bg-color: #434B5C;\n",
              "      --hover-fill-color: #FFFFFF;\n",
              "      --disabled-bg-color: #3B4455;\n",
              "      --disabled-fill-color: #666;\n",
              "  }\n",
              "\n",
              "  .colab-df-quickchart {\n",
              "    background-color: var(--bg-color);\n",
              "    border: none;\n",
              "    border-radius: 50%;\n",
              "    cursor: pointer;\n",
              "    display: none;\n",
              "    fill: var(--fill-color);\n",
              "    height: 32px;\n",
              "    padding: 0;\n",
              "    width: 32px;\n",
              "  }\n",
              "\n",
              "  .colab-df-quickchart:hover {\n",
              "    background-color: var(--hover-bg-color);\n",
              "    box-shadow: 0 1px 2px rgba(60, 64, 67, 0.3), 0 1px 3px 1px rgba(60, 64, 67, 0.15);\n",
              "    fill: var(--button-hover-fill-color);\n",
              "  }\n",
              "\n",
              "  .colab-df-quickchart-complete:disabled,\n",
              "  .colab-df-quickchart-complete:disabled:hover {\n",
              "    background-color: var(--disabled-bg-color);\n",
              "    fill: var(--disabled-fill-color);\n",
              "    box-shadow: none;\n",
              "  }\n",
              "\n",
              "  .colab-df-spinner {\n",
              "    border: 2px solid var(--fill-color);\n",
              "    border-color: transparent;\n",
              "    border-bottom-color: var(--fill-color);\n",
              "    animation:\n",
              "      spin 1s steps(1) infinite;\n",
              "  }\n",
              "\n",
              "  @keyframes spin {\n",
              "    0% {\n",
              "      border-color: transparent;\n",
              "      border-bottom-color: var(--fill-color);\n",
              "      border-left-color: var(--fill-color);\n",
              "    }\n",
              "    20% {\n",
              "      border-color: transparent;\n",
              "      border-left-color: var(--fill-color);\n",
              "      border-top-color: var(--fill-color);\n",
              "    }\n",
              "    30% {\n",
              "      border-color: transparent;\n",
              "      border-left-color: var(--fill-color);\n",
              "      border-top-color: var(--fill-color);\n",
              "      border-right-color: var(--fill-color);\n",
              "    }\n",
              "    40% {\n",
              "      border-color: transparent;\n",
              "      border-right-color: var(--fill-color);\n",
              "      border-top-color: var(--fill-color);\n",
              "    }\n",
              "    60% {\n",
              "      border-color: transparent;\n",
              "      border-right-color: var(--fill-color);\n",
              "    }\n",
              "    80% {\n",
              "      border-color: transparent;\n",
              "      border-right-color: var(--fill-color);\n",
              "      border-bottom-color: var(--fill-color);\n",
              "    }\n",
              "    90% {\n",
              "      border-color: transparent;\n",
              "      border-bottom-color: var(--fill-color);\n",
              "    }\n",
              "  }\n",
              "</style>\n",
              "\n",
              "  <script>\n",
              "    async function quickchart(key) {\n",
              "      const quickchartButtonEl =\n",
              "        document.querySelector('#' + key + ' button');\n",
              "      quickchartButtonEl.disabled = true;  // To prevent multiple clicks.\n",
              "      quickchartButtonEl.classList.add('colab-df-spinner');\n",
              "      try {\n",
              "        const charts = await google.colab.kernel.invokeFunction(\n",
              "            'suggestCharts', [key], {});\n",
              "      } catch (error) {\n",
              "        console.error('Error during call to suggestCharts:', error);\n",
              "      }\n",
              "      quickchartButtonEl.classList.remove('colab-df-spinner');\n",
              "      quickchartButtonEl.classList.add('colab-df-quickchart-complete');\n",
              "    }\n",
              "    (() => {\n",
              "      let quickchartButtonEl =\n",
              "        document.querySelector('#df-0ebecd7a-a2d8-40b4-8fe2-4aebbedcc3b6 button');\n",
              "      quickchartButtonEl.style.display =\n",
              "        google.colab.kernel.accessAllowed ? 'block' : 'none';\n",
              "    })();\n",
              "  </script>\n",
              "</div>\n",
              "    </div>\n",
              "  </div>\n"
            ],
            "text/plain": [
              "                                            question  \\\n",
              "0  Why there was a 'leap second' added to the end...   \n",
              "1  Why there was a 'leap second' added to the end...   \n",
              "2  Why there was a 'leap second' added to the end...   \n",
              "3                How do you claim undiscovered land?   \n",
              "4                How do you claim undiscovered land?   \n",
              "\n",
              "                                              answer  score  \\\n",
              "0  the rotation of the earth is not a constant. i...     44   \n",
              "1  The Earth's rotation is not regular. It varies...      5   \n",
              "2  Because the Earth's rotation is slowing. If yo...      4   \n",
              "3  Imagine you are out walking in the woods near ...    195   \n",
              "4  By force. Historically, nations have defended ...     39   \n",
              "\n",
              "                                            selftext category  \n",
              "0                                                       Other  \n",
              "1                                                       Other  \n",
              "2                                                       Other  \n",
              "3  If your on a boat, sailing through lets say th...    Other  \n",
              "4  If your on a boat, sailing through lets say th...    Other  "
            ]
          },
          "execution_count": 11,
          "metadata": {},
          "output_type": "execute_result"
        }
      ],
      "source": [
        "df_train.head()"
      ]
    },
    {
      "cell_type": "code",
      "execution_count": 12,
      "metadata": {
        "id": "1eU9UXAxskKZ"
      },
      "outputs": [],
      "source": [
        "from transformers import T5ForConditionalGeneration, T5Tokenizer, Trainer, TrainingArguments\n",
        "from datasets import load_dataset, load_metric\n",
        "import torch"
      ]
    },
    {
      "cell_type": "code",
      "execution_count": 13,
      "metadata": {
        "id": "C_xvb6HqtdUj"
      },
      "outputs": [],
      "source": [
        "# Split the datafame_train to train, validate, test\n",
        "\n",
        "import pandas as pd\n",
        "from sklearn.model_selection import train_test_split\n",
        "\n",
        "# Assuming df is your DataFrame\n",
        "train_df, test_df = train_test_split(df_train, test_size=0.2, random_state=42)  # 20% for testing\n",
        "train_df, val_df = train_test_split(train_df, test_size=0.25, random_state=42)  # 25% of 80% for validation\n",
        "\n",
        "# Convert to Hugging Face datasets\n",
        "from datasets import Dataset\n",
        "\n",
        "train_dataset = Dataset.from_pandas(train_df)\n",
        "val_dataset = Dataset.from_pandas(val_df)\n",
        "test_dataset = Dataset.from_pandas(test_df)"
      ]
    },
    {
      "cell_type": "code",
      "execution_count": 14,
      "metadata": {
        "colab": {
          "base_uri": "https://localhost:8080/",
          "height": 235,
          "referenced_widgets": [
            "706b2dbb59a2479fbf00b5bc41a9cb32",
            "6918d948a48a4a34bfc89d5e523be84e",
            "28e723c805f4490599ab8c05b8f5bbc8",
            "45b5cbd8402944fdb2b7c1fdc46c9b83",
            "e7b7fd0cba91412f81ddd160177fb3be",
            "18fd06700f83412fb3d318341aeb2442",
            "5196cd3b3d8d4249b384e66a6ec9ed27",
            "e4822a8f3eb949cc8ab08ab953e2b158",
            "071e155a77ba496babff83938b7fcc41",
            "cd528013c2c54bccbc01eb17856c8511",
            "596f40ce42bb4ed98ba5f95627b29b6b",
            "6f49e52c9e3945cb9593ddfd92c358d2",
            "ece15bce967947c995c9c183d2b3cf1f",
            "83ab813bdd8c4088baae6c574e3d004a",
            "99077555a60a4936aa9a24fc911eec46",
            "d4286600933a442daecd1a1e05f36861",
            "d73b1a6cd3e6479cb45ef2d452eeb7a0",
            "66d9d56b5a614f1e98a5c1bf3ccb51b6",
            "de7e46d8270c4a47ab12ba228381368d",
            "1373ff121fae434081268a7b863f35cf",
            "411579aeb6814dacb476a08441aac744",
            "63777aa37ea54a31a596c63eda215b0b",
            "ff7f82539e77443b8bad94f26f5f0c04",
            "dc9629c397814a09b9f465292dc0a348",
            "dd94640af7414eb18b41b3b675f043aa",
            "88bbb5af8be9439f8f5f48a0707c7d93",
            "6cf4d74eb4154c3abd83d553306a275d",
            "60ced8d1b24c45adaecd0ac59a944e17",
            "a4f1ffca929e4ff28e61d5e92f25f163",
            "22b5d6474dfe4e638e92195bbdc986e6",
            "5e4c1d1fc7ed4716b6c7208289078281",
            "953508d98f3040cbac34e6d792b88414",
            "f88a011479054c2a9fd459e26c92b2cc"
          ]
        },
        "id": "MD--WMVorW_P",
        "outputId": "583c4261-4956-4395-88b4-5dd4adfc6cda"
      },
      "outputs": [
        {
          "name": "stderr",
          "output_type": "stream",
          "text": [
            "/usr/local/lib/python3.10/dist-packages/huggingface_hub/file_download.py:1132: FutureWarning: `resume_download` is deprecated and will be removed in version 1.0.0. Downloads always resume when possible. If you want to force a new download, use `force_download=True`.\n",
            "  warnings.warn(\n",
            "You are using the default legacy behaviour of the <class 'transformers.models.t5.tokenization_t5.T5Tokenizer'>. This is expected, and simply means that the `legacy` (previous) behavior will be used so nothing changes for you. If you want to use the new behaviour, set `legacy=False`. This should only be set if you understand what it means, and thoroughly read the reason why this was added as explained in https://github.com/huggingface/transformers/pull/24565\n",
            "Special tokens have been added in the vocabulary, make sure the associated word embeddings are fine-tuned or trained.\n"
          ]
        },
        {
          "data": {
            "application/vnd.jupyter.widget-view+json": {
              "model_id": "706b2dbb59a2479fbf00b5bc41a9cb32",
              "version_major": 2,
              "version_minor": 0
            },
            "text/plain": [
              "Map:   0%|          | 0/134453 [00:00<?, ? examples/s]"
            ]
          },
          "metadata": {},
          "output_type": "display_data"
        },
        {
          "name": "stderr",
          "output_type": "stream",
          "text": [
            "/usr/local/lib/python3.10/dist-packages/transformers/tokenization_utils_base.py:3921: UserWarning: `as_target_tokenizer` is deprecated and will be removed in v5 of Transformers. You can tokenize your labels by using the argument `text_target` of the regular `__call__` method (either in the same call as your input texts if you use the same keyword arguments, or in a separate call.\n",
            "  warnings.warn(\n"
          ]
        },
        {
          "data": {
            "application/vnd.jupyter.widget-view+json": {
              "model_id": "6f49e52c9e3945cb9593ddfd92c358d2",
              "version_major": 2,
              "version_minor": 0
            },
            "text/plain": [
              "Map:   0%|          | 0/44818 [00:00<?, ? examples/s]"
            ]
          },
          "metadata": {},
          "output_type": "display_data"
        },
        {
          "data": {
            "application/vnd.jupyter.widget-view+json": {
              "model_id": "ff7f82539e77443b8bad94f26f5f0c04",
              "version_major": 2,
              "version_minor": 0
            },
            "text/plain": [
              "Map:   0%|          | 0/44818 [00:00<?, ? examples/s]"
            ]
          },
          "metadata": {},
          "output_type": "display_data"
        }
      ],
      "source": [
        "model_name = 't5-small'\n",
        "\n",
        "tokenizer = T5Tokenizer.from_pretrained(model_name)\n",
        "\n",
        "def preprocess_data_tokenization(examples):\n",
        "  inputs = [\"explain: \" + q for q in examples['question']]\n",
        "  model_inputs = tokenizer(inputs, max_length=128, truncation=True, padding='max_length')\n",
        "\n",
        "  # Our target will be the answers\n",
        "  with tokenizer.as_target_tokenizer():\n",
        "      labels = tokenizer(examples['answer'], max_length=128, truncation=True, padding='max_length')\n",
        "\n",
        "  model_inputs['labels'] = labels['input_ids']\n",
        "  return model_inputs\n",
        "\n",
        "# encoded_dataset = df_train.apply(preprocess_data_tokenization, axis=1)\n",
        "\n",
        "# Apply the preprocess function\n",
        "train_dataset = train_dataset.map(preprocess_data_tokenization, batched=True)\n",
        "val_dataset = val_dataset.map(preprocess_data_tokenization, batched=True)\n",
        "test_dataset = test_dataset.map(preprocess_data_tokenization, batched=True)\n"
      ]
    },
    {
      "cell_type": "code",
      "execution_count": 15,
      "metadata": {
        "id": "NNIgDcMFsGwd"
      },
      "outputs": [],
      "source": [
        "model = T5ForConditionalGeneration.from_pretrained(model_name)"
      ]
    },
    {
      "cell_type": "code",
      "execution_count": 16,
      "metadata": {
        "id": "-tYEKTbgwSx2"
      },
      "outputs": [],
      "source": [
        "from transformers import T5ForConditionalGeneration, TrainingArguments, Trainer\n"
      ]
    },
    {
      "cell_type": "code",
      "execution_count": 17,
      "metadata": {
        "id": "9xin2-Z1sx7J"
      },
      "outputs": [],
      "source": [
        "\n",
        "training_args = TrainingArguments(\n",
        "    output_dir='./results',\n",
        "    evaluation_strategy=\"epoch\",\n",
        "    learning_rate=2e-5,\n",
        "    per_device_train_batch_size=16,\n",
        "    per_device_eval_batch_size=16,\n",
        "    num_train_epochs=3,\n",
        "    weight_decay=0.01\n",
        ")\n"
      ]
    },
    {
      "cell_type": "code",
      "execution_count": 23,
      "metadata": {
        "id": "bvk4I_-6s0UB"
      },
      "outputs": [],
      "source": [
        "trainer = Trainer(\n",
        "    model=model,\n",
        "    args=training_args,\n",
        "    train_dataset=train_dataset.select(range(2000)),\n",
        "    eval_dataset=val_dataset.select(range(1000)),\n",
        "    tokenizer=tokenizer\n",
        ")\n",
        "\n"
      ]
    },
    {
      "cell_type": "code",
      "execution_count": 24,
      "metadata": {
        "colab": {
          "base_uri": "https://localhost:8080/",
          "height": 202
        },
        "id": "JA_ZIAvc0F9i",
        "outputId": "198ccf11-2efc-4677-b4ca-c23187ca4625"
      },
      "outputs": [
        {
          "data": {
            "text/html": [
              "\n",
              "    <div>\n",
              "      \n",
              "      <progress value='375' max='375' style='width:300px; height:20px; vertical-align: middle;'></progress>\n",
              "      [375/375 02:06, Epoch 3/3]\n",
              "    </div>\n",
              "    <table border=\"1\" class=\"dataframe\">\n",
              "  <thead>\n",
              " <tr style=\"text-align: left;\">\n",
              "      <th>Epoch</th>\n",
              "      <th>Training Loss</th>\n",
              "      <th>Validation Loss</th>\n",
              "    </tr>\n",
              "  </thead>\n",
              "  <tbody>\n",
              "    <tr>\n",
              "      <td>1</td>\n",
              "      <td>No log</td>\n",
              "      <td>3.172627</td>\n",
              "    </tr>\n",
              "    <tr>\n",
              "      <td>2</td>\n",
              "      <td>No log</td>\n",
              "      <td>3.070078</td>\n",
              "    </tr>\n",
              "    <tr>\n",
              "      <td>3</td>\n",
              "      <td>No log</td>\n",
              "      <td>3.054723</td>\n",
              "    </tr>\n",
              "  </tbody>\n",
              "</table><p>"
            ],
            "text/plain": [
              "<IPython.core.display.HTML object>"
            ]
          },
          "metadata": {},
          "output_type": "display_data"
        },
        {
          "data": {
            "text/plain": [
              "TrainOutput(global_step=375, training_loss=3.613568359375, metrics={'train_runtime': 126.7278, 'train_samples_per_second': 47.346, 'train_steps_per_second': 2.959, 'total_flos': 203012702208000.0, 'train_loss': 3.613568359375, 'epoch': 3.0})"
            ]
          },
          "execution_count": 24,
          "metadata": {},
          "output_type": "execute_result"
        }
      ],
      "source": [
        "trainer.train()"
      ]
    },
    {
      "cell_type": "code",
      "execution_count": 25,
      "metadata": {
        "colab": {
          "base_uri": "https://localhost:8080/",
          "height": 142
        },
        "id": "CqiFZ2r4s1qD",
        "outputId": "3d56a1e6-18f5-4048-8682-0963c5cfe9b6"
      },
      "outputs": [
        {
          "data": {
            "text/html": [
              "\n",
              "    <div>\n",
              "      \n",
              "      <progress value='63' max='63' style='width:300px; height:20px; vertical-align: middle;'></progress>\n",
              "      [63/63 00:06]\n",
              "    </div>\n",
              "    "
            ],
            "text/plain": [
              "<IPython.core.display.HTML object>"
            ]
          },
          "metadata": {},
          "output_type": "display_data"
        },
        {
          "name": "stdout",
          "output_type": "stream",
          "text": [
            "{'eval_loss': 3.0035135746002197, 'eval_runtime': 6.0981, 'eval_samples_per_second': 163.987, 'eval_steps_per_second': 10.331, 'epoch': 3.0}\n"
          ]
        },
        {
          "data": {
            "text/plain": [
              "('./finetuned-t5-qa/tokenizer_config.json',\n",
              " './finetuned-t5-qa/special_tokens_map.json',\n",
              " './finetuned-t5-qa/spiece.model',\n",
              " './finetuned-t5-qa/added_tokens.json')"
            ]
          },
          "execution_count": 25,
          "metadata": {},
          "output_type": "execute_result"
        }
      ],
      "source": [
        "results = trainer.evaluate(test_dataset.select(range(1000)))\n",
        "print(results)\n",
        "\n",
        "model.save_pretrained('./finetuned-t5-qa')\n",
        "tokenizer.save_pretrained('./finetuned-t5-qa')\n"
      ]
    },
    {
      "cell_type": "code",
      "execution_count": 26,
      "metadata": {
        "colab": {
          "base_uri": "https://localhost:8080/"
        },
        "id": "FYJxNGq-1Apo",
        "outputId": "9ee58e87-a3b7-4de2-9639-9989af712b8c"
      },
      "outputs": [
        {
          "name": "stderr",
          "output_type": "stream",
          "text": [
            "Special tokens have been added in the vocabulary, make sure the associated word embeddings are fine-tuned or trained.\n"
          ]
        }
      ],
      "source": [
        "# predict using the finetuned saved model\n",
        "\n",
        "from transformers import T5ForConditionalGeneration, T5Tokenizer\n",
        "\n",
        "model_path = './finetuned-t5-qa'  # adjust this path to where you've saved your model\n",
        "\n",
        "# Load the trained model and tokenizer\n",
        "saved_model = T5ForConditionalGeneration.from_pretrained(model_path)\n",
        "saved_tokenizer = T5Tokenizer.from_pretrained(model_path)"
      ]
    },
    {
      "cell_type": "code",
      "execution_count": 28,
      "metadata": {
        "id": "4plI12un1pCh"
      },
      "outputs": [],
      "source": [
        "def generate_answer(question):\n",
        "    input_text = \"question: \" + question  # format input as the model expects\n",
        "    input_ids = saved_tokenizer.encode(input_text, return_tensors=\"pt\")  # convert input to ids and create a tensor\n",
        "\n",
        "    # Generate outputs\n",
        "    output_ids = saved_model.generate(input_ids)\n",
        "\n",
        "    # Decode the output IDs to a string\n",
        "    answer = saved_tokenizer.decode(output_ids[0], skip_special_tokens=True)\n",
        "    return answer"
      ]
    },
    {
      "cell_type": "code",
      "execution_count": 29,
      "metadata": {
        "colab": {
          "base_uri": "https://localhost:8080/"
        },
        "id": "Rl5VaFGS1suP",
        "outputId": "b3dca5cf-6adb-430b-b2ab-2d174d36cc85"
      },
      "outputs": [
        {
          "name": "stdout",
          "output_type": "stream",
          "text": [
            "Answer: France\n"
          ]
        },
        {
          "name": "stderr",
          "output_type": "stream",
          "text": [
            "/usr/local/lib/python3.10/dist-packages/transformers/generation/utils.py:1141: UserWarning: Using the model-agnostic default `max_length` (=20) to control the generation length. We recommend setting `max_new_tokens` to control the maximum length of the generation.\n",
            "  warnings.warn(\n"
          ]
        }
      ],
      "source": [
        "question = \"What is the capital of France?\"\n",
        "answer = generate_answer(question)\n",
        "print(\"Answer:\", answer)"
      ]
    },
    {
      "cell_type": "code",
      "execution_count": null,
      "metadata": {
        "id": "1FFvkdyc1tOt"
      },
      "outputs": [],
      "source": []
    }
  ],
  "metadata": {
    "accelerator": "GPU",
    "colab": {
      "collapsed_sections": [
        "CxIj4iPPxKPq",
        "rsbxfC6oydD0"
      ],
      "gpuType": "T4",
      "provenance": [],
      "toc_visible": true
    },
    "kernelspec": {
      "display_name": "Python 3",
      "name": "python3"
    },
    "language_info": {
      "name": "python"
    },
    "widgets": {
      "application/vnd.jupyter.widget-state+json": {
        "071e155a77ba496babff83938b7fcc41": {
          "model_module": "@jupyter-widgets/controls",
          "model_module_version": "1.5.0",
          "model_name": "ProgressStyleModel",
          "state": {
            "_model_module": "@jupyter-widgets/controls",
            "_model_module_version": "1.5.0",
            "_model_name": "ProgressStyleModel",
            "_view_count": null,
            "_view_module": "@jupyter-widgets/base",
            "_view_module_version": "1.2.0",
            "_view_name": "StyleView",
            "bar_color": null,
            "description_width": ""
          }
        },
        "1373ff121fae434081268a7b863f35cf": {
          "model_module": "@jupyter-widgets/controls",
          "model_module_version": "1.5.0",
          "model_name": "ProgressStyleModel",
          "state": {
            "_model_module": "@jupyter-widgets/controls",
            "_model_module_version": "1.5.0",
            "_model_name": "ProgressStyleModel",
            "_view_count": null,
            "_view_module": "@jupyter-widgets/base",
            "_view_module_version": "1.2.0",
            "_view_name": "StyleView",
            "bar_color": null,
            "description_width": ""
          }
        },
        "18fd06700f83412fb3d318341aeb2442": {
          "model_module": "@jupyter-widgets/base",
          "model_module_version": "1.2.0",
          "model_name": "LayoutModel",
          "state": {
            "_model_module": "@jupyter-widgets/base",
            "_model_module_version": "1.2.0",
            "_model_name": "LayoutModel",
            "_view_count": null,
            "_view_module": "@jupyter-widgets/base",
            "_view_module_version": "1.2.0",
            "_view_name": "LayoutView",
            "align_content": null,
            "align_items": null,
            "align_self": null,
            "border": null,
            "bottom": null,
            "display": null,
            "flex": null,
            "flex_flow": null,
            "grid_area": null,
            "grid_auto_columns": null,
            "grid_auto_flow": null,
            "grid_auto_rows": null,
            "grid_column": null,
            "grid_gap": null,
            "grid_row": null,
            "grid_template_areas": null,
            "grid_template_columns": null,
            "grid_template_rows": null,
            "height": null,
            "justify_content": null,
            "justify_items": null,
            "left": null,
            "margin": null,
            "max_height": null,
            "max_width": null,
            "min_height": null,
            "min_width": null,
            "object_fit": null,
            "object_position": null,
            "order": null,
            "overflow": null,
            "overflow_x": null,
            "overflow_y": null,
            "padding": null,
            "right": null,
            "top": null,
            "visibility": null,
            "width": null
          }
        },
        "22b5d6474dfe4e638e92195bbdc986e6": {
          "model_module": "@jupyter-widgets/base",
          "model_module_version": "1.2.0",
          "model_name": "LayoutModel",
          "state": {
            "_model_module": "@jupyter-widgets/base",
            "_model_module_version": "1.2.0",
            "_model_name": "LayoutModel",
            "_view_count": null,
            "_view_module": "@jupyter-widgets/base",
            "_view_module_version": "1.2.0",
            "_view_name": "LayoutView",
            "align_content": null,
            "align_items": null,
            "align_self": null,
            "border": null,
            "bottom": null,
            "display": null,
            "flex": null,
            "flex_flow": null,
            "grid_area": null,
            "grid_auto_columns": null,
            "grid_auto_flow": null,
            "grid_auto_rows": null,
            "grid_column": null,
            "grid_gap": null,
            "grid_row": null,
            "grid_template_areas": null,
            "grid_template_columns": null,
            "grid_template_rows": null,
            "height": null,
            "justify_content": null,
            "justify_items": null,
            "left": null,
            "margin": null,
            "max_height": null,
            "max_width": null,
            "min_height": null,
            "min_width": null,
            "object_fit": null,
            "object_position": null,
            "order": null,
            "overflow": null,
            "overflow_x": null,
            "overflow_y": null,
            "padding": null,
            "right": null,
            "top": null,
            "visibility": null,
            "width": null
          }
        },
        "28e723c805f4490599ab8c05b8f5bbc8": {
          "model_module": "@jupyter-widgets/controls",
          "model_module_version": "1.5.0",
          "model_name": "FloatProgressModel",
          "state": {
            "_dom_classes": [],
            "_model_module": "@jupyter-widgets/controls",
            "_model_module_version": "1.5.0",
            "_model_name": "FloatProgressModel",
            "_view_count": null,
            "_view_module": "@jupyter-widgets/controls",
            "_view_module_version": "1.5.0",
            "_view_name": "ProgressView",
            "bar_style": "success",
            "description": "",
            "description_tooltip": null,
            "layout": "IPY_MODEL_e4822a8f3eb949cc8ab08ab953e2b158",
            "max": 134453,
            "min": 0,
            "orientation": "horizontal",
            "style": "IPY_MODEL_071e155a77ba496babff83938b7fcc41",
            "value": 134453
          }
        },
        "411579aeb6814dacb476a08441aac744": {
          "model_module": "@jupyter-widgets/base",
          "model_module_version": "1.2.0",
          "model_name": "LayoutModel",
          "state": {
            "_model_module": "@jupyter-widgets/base",
            "_model_module_version": "1.2.0",
            "_model_name": "LayoutModel",
            "_view_count": null,
            "_view_module": "@jupyter-widgets/base",
            "_view_module_version": "1.2.0",
            "_view_name": "LayoutView",
            "align_content": null,
            "align_items": null,
            "align_self": null,
            "border": null,
            "bottom": null,
            "display": null,
            "flex": null,
            "flex_flow": null,
            "grid_area": null,
            "grid_auto_columns": null,
            "grid_auto_flow": null,
            "grid_auto_rows": null,
            "grid_column": null,
            "grid_gap": null,
            "grid_row": null,
            "grid_template_areas": null,
            "grid_template_columns": null,
            "grid_template_rows": null,
            "height": null,
            "justify_content": null,
            "justify_items": null,
            "left": null,
            "margin": null,
            "max_height": null,
            "max_width": null,
            "min_height": null,
            "min_width": null,
            "object_fit": null,
            "object_position": null,
            "order": null,
            "overflow": null,
            "overflow_x": null,
            "overflow_y": null,
            "padding": null,
            "right": null,
            "top": null,
            "visibility": null,
            "width": null
          }
        },
        "45b5cbd8402944fdb2b7c1fdc46c9b83": {
          "model_module": "@jupyter-widgets/controls",
          "model_module_version": "1.5.0",
          "model_name": "HTMLModel",
          "state": {
            "_dom_classes": [],
            "_model_module": "@jupyter-widgets/controls",
            "_model_module_version": "1.5.0",
            "_model_name": "HTMLModel",
            "_view_count": null,
            "_view_module": "@jupyter-widgets/controls",
            "_view_module_version": "1.5.0",
            "_view_name": "HTMLView",
            "description": "",
            "description_tooltip": null,
            "layout": "IPY_MODEL_cd528013c2c54bccbc01eb17856c8511",
            "placeholder": "​",
            "style": "IPY_MODEL_596f40ce42bb4ed98ba5f95627b29b6b",
            "value": " 134453/134453 [01:58&lt;00:00, 1293.23 examples/s]"
          }
        },
        "5196cd3b3d8d4249b384e66a6ec9ed27": {
          "model_module": "@jupyter-widgets/controls",
          "model_module_version": "1.5.0",
          "model_name": "DescriptionStyleModel",
          "state": {
            "_model_module": "@jupyter-widgets/controls",
            "_model_module_version": "1.5.0",
            "_model_name": "DescriptionStyleModel",
            "_view_count": null,
            "_view_module": "@jupyter-widgets/base",
            "_view_module_version": "1.2.0",
            "_view_name": "StyleView",
            "description_width": ""
          }
        },
        "596f40ce42bb4ed98ba5f95627b29b6b": {
          "model_module": "@jupyter-widgets/controls",
          "model_module_version": "1.5.0",
          "model_name": "DescriptionStyleModel",
          "state": {
            "_model_module": "@jupyter-widgets/controls",
            "_model_module_version": "1.5.0",
            "_model_name": "DescriptionStyleModel",
            "_view_count": null,
            "_view_module": "@jupyter-widgets/base",
            "_view_module_version": "1.2.0",
            "_view_name": "StyleView",
            "description_width": ""
          }
        },
        "5e4c1d1fc7ed4716b6c7208289078281": {
          "model_module": "@jupyter-widgets/controls",
          "model_module_version": "1.5.0",
          "model_name": "ProgressStyleModel",
          "state": {
            "_model_module": "@jupyter-widgets/controls",
            "_model_module_version": "1.5.0",
            "_model_name": "ProgressStyleModel",
            "_view_count": null,
            "_view_module": "@jupyter-widgets/base",
            "_view_module_version": "1.2.0",
            "_view_name": "StyleView",
            "bar_color": null,
            "description_width": ""
          }
        },
        "60ced8d1b24c45adaecd0ac59a944e17": {
          "model_module": "@jupyter-widgets/base",
          "model_module_version": "1.2.0",
          "model_name": "LayoutModel",
          "state": {
            "_model_module": "@jupyter-widgets/base",
            "_model_module_version": "1.2.0",
            "_model_name": "LayoutModel",
            "_view_count": null,
            "_view_module": "@jupyter-widgets/base",
            "_view_module_version": "1.2.0",
            "_view_name": "LayoutView",
            "align_content": null,
            "align_items": null,
            "align_self": null,
            "border": null,
            "bottom": null,
            "display": null,
            "flex": null,
            "flex_flow": null,
            "grid_area": null,
            "grid_auto_columns": null,
            "grid_auto_flow": null,
            "grid_auto_rows": null,
            "grid_column": null,
            "grid_gap": null,
            "grid_row": null,
            "grid_template_areas": null,
            "grid_template_columns": null,
            "grid_template_rows": null,
            "height": null,
            "justify_content": null,
            "justify_items": null,
            "left": null,
            "margin": null,
            "max_height": null,
            "max_width": null,
            "min_height": null,
            "min_width": null,
            "object_fit": null,
            "object_position": null,
            "order": null,
            "overflow": null,
            "overflow_x": null,
            "overflow_y": null,
            "padding": null,
            "right": null,
            "top": null,
            "visibility": null,
            "width": null
          }
        },
        "63777aa37ea54a31a596c63eda215b0b": {
          "model_module": "@jupyter-widgets/controls",
          "model_module_version": "1.5.0",
          "model_name": "DescriptionStyleModel",
          "state": {
            "_model_module": "@jupyter-widgets/controls",
            "_model_module_version": "1.5.0",
            "_model_name": "DescriptionStyleModel",
            "_view_count": null,
            "_view_module": "@jupyter-widgets/base",
            "_view_module_version": "1.2.0",
            "_view_name": "StyleView",
            "description_width": ""
          }
        },
        "66d9d56b5a614f1e98a5c1bf3ccb51b6": {
          "model_module": "@jupyter-widgets/controls",
          "model_module_version": "1.5.0",
          "model_name": "DescriptionStyleModel",
          "state": {
            "_model_module": "@jupyter-widgets/controls",
            "_model_module_version": "1.5.0",
            "_model_name": "DescriptionStyleModel",
            "_view_count": null,
            "_view_module": "@jupyter-widgets/base",
            "_view_module_version": "1.2.0",
            "_view_name": "StyleView",
            "description_width": ""
          }
        },
        "6918d948a48a4a34bfc89d5e523be84e": {
          "model_module": "@jupyter-widgets/controls",
          "model_module_version": "1.5.0",
          "model_name": "HTMLModel",
          "state": {
            "_dom_classes": [],
            "_model_module": "@jupyter-widgets/controls",
            "_model_module_version": "1.5.0",
            "_model_name": "HTMLModel",
            "_view_count": null,
            "_view_module": "@jupyter-widgets/controls",
            "_view_module_version": "1.5.0",
            "_view_name": "HTMLView",
            "description": "",
            "description_tooltip": null,
            "layout": "IPY_MODEL_18fd06700f83412fb3d318341aeb2442",
            "placeholder": "​",
            "style": "IPY_MODEL_5196cd3b3d8d4249b384e66a6ec9ed27",
            "value": "Map: 100%"
          }
        },
        "6cf4d74eb4154c3abd83d553306a275d": {
          "model_module": "@jupyter-widgets/base",
          "model_module_version": "1.2.0",
          "model_name": "LayoutModel",
          "state": {
            "_model_module": "@jupyter-widgets/base",
            "_model_module_version": "1.2.0",
            "_model_name": "LayoutModel",
            "_view_count": null,
            "_view_module": "@jupyter-widgets/base",
            "_view_module_version": "1.2.0",
            "_view_name": "LayoutView",
            "align_content": null,
            "align_items": null,
            "align_self": null,
            "border": null,
            "bottom": null,
            "display": null,
            "flex": null,
            "flex_flow": null,
            "grid_area": null,
            "grid_auto_columns": null,
            "grid_auto_flow": null,
            "grid_auto_rows": null,
            "grid_column": null,
            "grid_gap": null,
            "grid_row": null,
            "grid_template_areas": null,
            "grid_template_columns": null,
            "grid_template_rows": null,
            "height": null,
            "justify_content": null,
            "justify_items": null,
            "left": null,
            "margin": null,
            "max_height": null,
            "max_width": null,
            "min_height": null,
            "min_width": null,
            "object_fit": null,
            "object_position": null,
            "order": null,
            "overflow": null,
            "overflow_x": null,
            "overflow_y": null,
            "padding": null,
            "right": null,
            "top": null,
            "visibility": null,
            "width": null
          }
        },
        "6f49e52c9e3945cb9593ddfd92c358d2": {
          "model_module": "@jupyter-widgets/controls",
          "model_module_version": "1.5.0",
          "model_name": "HBoxModel",
          "state": {
            "_dom_classes": [],
            "_model_module": "@jupyter-widgets/controls",
            "_model_module_version": "1.5.0",
            "_model_name": "HBoxModel",
            "_view_count": null,
            "_view_module": "@jupyter-widgets/controls",
            "_view_module_version": "1.5.0",
            "_view_name": "HBoxView",
            "box_style": "",
            "children": [
              "IPY_MODEL_ece15bce967947c995c9c183d2b3cf1f",
              "IPY_MODEL_83ab813bdd8c4088baae6c574e3d004a",
              "IPY_MODEL_99077555a60a4936aa9a24fc911eec46"
            ],
            "layout": "IPY_MODEL_d4286600933a442daecd1a1e05f36861"
          }
        },
        "706b2dbb59a2479fbf00b5bc41a9cb32": {
          "model_module": "@jupyter-widgets/controls",
          "model_module_version": "1.5.0",
          "model_name": "HBoxModel",
          "state": {
            "_dom_classes": [],
            "_model_module": "@jupyter-widgets/controls",
            "_model_module_version": "1.5.0",
            "_model_name": "HBoxModel",
            "_view_count": null,
            "_view_module": "@jupyter-widgets/controls",
            "_view_module_version": "1.5.0",
            "_view_name": "HBoxView",
            "box_style": "",
            "children": [
              "IPY_MODEL_6918d948a48a4a34bfc89d5e523be84e",
              "IPY_MODEL_28e723c805f4490599ab8c05b8f5bbc8",
              "IPY_MODEL_45b5cbd8402944fdb2b7c1fdc46c9b83"
            ],
            "layout": "IPY_MODEL_e7b7fd0cba91412f81ddd160177fb3be"
          }
        },
        "83ab813bdd8c4088baae6c574e3d004a": {
          "model_module": "@jupyter-widgets/controls",
          "model_module_version": "1.5.0",
          "model_name": "FloatProgressModel",
          "state": {
            "_dom_classes": [],
            "_model_module": "@jupyter-widgets/controls",
            "_model_module_version": "1.5.0",
            "_model_name": "FloatProgressModel",
            "_view_count": null,
            "_view_module": "@jupyter-widgets/controls",
            "_view_module_version": "1.5.0",
            "_view_name": "ProgressView",
            "bar_style": "success",
            "description": "",
            "description_tooltip": null,
            "layout": "IPY_MODEL_de7e46d8270c4a47ab12ba228381368d",
            "max": 44818,
            "min": 0,
            "orientation": "horizontal",
            "style": "IPY_MODEL_1373ff121fae434081268a7b863f35cf",
            "value": 44818
          }
        },
        "88bbb5af8be9439f8f5f48a0707c7d93": {
          "model_module": "@jupyter-widgets/controls",
          "model_module_version": "1.5.0",
          "model_name": "HTMLModel",
          "state": {
            "_dom_classes": [],
            "_model_module": "@jupyter-widgets/controls",
            "_model_module_version": "1.5.0",
            "_model_name": "HTMLModel",
            "_view_count": null,
            "_view_module": "@jupyter-widgets/controls",
            "_view_module_version": "1.5.0",
            "_view_name": "HTMLView",
            "description": "",
            "description_tooltip": null,
            "layout": "IPY_MODEL_953508d98f3040cbac34e6d792b88414",
            "placeholder": "​",
            "style": "IPY_MODEL_f88a011479054c2a9fd459e26c92b2cc",
            "value": " 44818/44818 [00:36&lt;00:00, 1128.51 examples/s]"
          }
        },
        "953508d98f3040cbac34e6d792b88414": {
          "model_module": "@jupyter-widgets/base",
          "model_module_version": "1.2.0",
          "model_name": "LayoutModel",
          "state": {
            "_model_module": "@jupyter-widgets/base",
            "_model_module_version": "1.2.0",
            "_model_name": "LayoutModel",
            "_view_count": null,
            "_view_module": "@jupyter-widgets/base",
            "_view_module_version": "1.2.0",
            "_view_name": "LayoutView",
            "align_content": null,
            "align_items": null,
            "align_self": null,
            "border": null,
            "bottom": null,
            "display": null,
            "flex": null,
            "flex_flow": null,
            "grid_area": null,
            "grid_auto_columns": null,
            "grid_auto_flow": null,
            "grid_auto_rows": null,
            "grid_column": null,
            "grid_gap": null,
            "grid_row": null,
            "grid_template_areas": null,
            "grid_template_columns": null,
            "grid_template_rows": null,
            "height": null,
            "justify_content": null,
            "justify_items": null,
            "left": null,
            "margin": null,
            "max_height": null,
            "max_width": null,
            "min_height": null,
            "min_width": null,
            "object_fit": null,
            "object_position": null,
            "order": null,
            "overflow": null,
            "overflow_x": null,
            "overflow_y": null,
            "padding": null,
            "right": null,
            "top": null,
            "visibility": null,
            "width": null
          }
        },
        "99077555a60a4936aa9a24fc911eec46": {
          "model_module": "@jupyter-widgets/controls",
          "model_module_version": "1.5.0",
          "model_name": "HTMLModel",
          "state": {
            "_dom_classes": [],
            "_model_module": "@jupyter-widgets/controls",
            "_model_module_version": "1.5.0",
            "_model_name": "HTMLModel",
            "_view_count": null,
            "_view_module": "@jupyter-widgets/controls",
            "_view_module_version": "1.5.0",
            "_view_name": "HTMLView",
            "description": "",
            "description_tooltip": null,
            "layout": "IPY_MODEL_411579aeb6814dacb476a08441aac744",
            "placeholder": "​",
            "style": "IPY_MODEL_63777aa37ea54a31a596c63eda215b0b",
            "value": " 44818/44818 [00:34&lt;00:00, 1379.15 examples/s]"
          }
        },
        "a4f1ffca929e4ff28e61d5e92f25f163": {
          "model_module": "@jupyter-widgets/controls",
          "model_module_version": "1.5.0",
          "model_name": "DescriptionStyleModel",
          "state": {
            "_model_module": "@jupyter-widgets/controls",
            "_model_module_version": "1.5.0",
            "_model_name": "DescriptionStyleModel",
            "_view_count": null,
            "_view_module": "@jupyter-widgets/base",
            "_view_module_version": "1.2.0",
            "_view_name": "StyleView",
            "description_width": ""
          }
        },
        "cd528013c2c54bccbc01eb17856c8511": {
          "model_module": "@jupyter-widgets/base",
          "model_module_version": "1.2.0",
          "model_name": "LayoutModel",
          "state": {
            "_model_module": "@jupyter-widgets/base",
            "_model_module_version": "1.2.0",
            "_model_name": "LayoutModel",
            "_view_count": null,
            "_view_module": "@jupyter-widgets/base",
            "_view_module_version": "1.2.0",
            "_view_name": "LayoutView",
            "align_content": null,
            "align_items": null,
            "align_self": null,
            "border": null,
            "bottom": null,
            "display": null,
            "flex": null,
            "flex_flow": null,
            "grid_area": null,
            "grid_auto_columns": null,
            "grid_auto_flow": null,
            "grid_auto_rows": null,
            "grid_column": null,
            "grid_gap": null,
            "grid_row": null,
            "grid_template_areas": null,
            "grid_template_columns": null,
            "grid_template_rows": null,
            "height": null,
            "justify_content": null,
            "justify_items": null,
            "left": null,
            "margin": null,
            "max_height": null,
            "max_width": null,
            "min_height": null,
            "min_width": null,
            "object_fit": null,
            "object_position": null,
            "order": null,
            "overflow": null,
            "overflow_x": null,
            "overflow_y": null,
            "padding": null,
            "right": null,
            "top": null,
            "visibility": null,
            "width": null
          }
        },
        "d4286600933a442daecd1a1e05f36861": {
          "model_module": "@jupyter-widgets/base",
          "model_module_version": "1.2.0",
          "model_name": "LayoutModel",
          "state": {
            "_model_module": "@jupyter-widgets/base",
            "_model_module_version": "1.2.0",
            "_model_name": "LayoutModel",
            "_view_count": null,
            "_view_module": "@jupyter-widgets/base",
            "_view_module_version": "1.2.0",
            "_view_name": "LayoutView",
            "align_content": null,
            "align_items": null,
            "align_self": null,
            "border": null,
            "bottom": null,
            "display": null,
            "flex": null,
            "flex_flow": null,
            "grid_area": null,
            "grid_auto_columns": null,
            "grid_auto_flow": null,
            "grid_auto_rows": null,
            "grid_column": null,
            "grid_gap": null,
            "grid_row": null,
            "grid_template_areas": null,
            "grid_template_columns": null,
            "grid_template_rows": null,
            "height": null,
            "justify_content": null,
            "justify_items": null,
            "left": null,
            "margin": null,
            "max_height": null,
            "max_width": null,
            "min_height": null,
            "min_width": null,
            "object_fit": null,
            "object_position": null,
            "order": null,
            "overflow": null,
            "overflow_x": null,
            "overflow_y": null,
            "padding": null,
            "right": null,
            "top": null,
            "visibility": null,
            "width": null
          }
        },
        "d73b1a6cd3e6479cb45ef2d452eeb7a0": {
          "model_module": "@jupyter-widgets/base",
          "model_module_version": "1.2.0",
          "model_name": "LayoutModel",
          "state": {
            "_model_module": "@jupyter-widgets/base",
            "_model_module_version": "1.2.0",
            "_model_name": "LayoutModel",
            "_view_count": null,
            "_view_module": "@jupyter-widgets/base",
            "_view_module_version": "1.2.0",
            "_view_name": "LayoutView",
            "align_content": null,
            "align_items": null,
            "align_self": null,
            "border": null,
            "bottom": null,
            "display": null,
            "flex": null,
            "flex_flow": null,
            "grid_area": null,
            "grid_auto_columns": null,
            "grid_auto_flow": null,
            "grid_auto_rows": null,
            "grid_column": null,
            "grid_gap": null,
            "grid_row": null,
            "grid_template_areas": null,
            "grid_template_columns": null,
            "grid_template_rows": null,
            "height": null,
            "justify_content": null,
            "justify_items": null,
            "left": null,
            "margin": null,
            "max_height": null,
            "max_width": null,
            "min_height": null,
            "min_width": null,
            "object_fit": null,
            "object_position": null,
            "order": null,
            "overflow": null,
            "overflow_x": null,
            "overflow_y": null,
            "padding": null,
            "right": null,
            "top": null,
            "visibility": null,
            "width": null
          }
        },
        "dc9629c397814a09b9f465292dc0a348": {
          "model_module": "@jupyter-widgets/controls",
          "model_module_version": "1.5.0",
          "model_name": "HTMLModel",
          "state": {
            "_dom_classes": [],
            "_model_module": "@jupyter-widgets/controls",
            "_model_module_version": "1.5.0",
            "_model_name": "HTMLModel",
            "_view_count": null,
            "_view_module": "@jupyter-widgets/controls",
            "_view_module_version": "1.5.0",
            "_view_name": "HTMLView",
            "description": "",
            "description_tooltip": null,
            "layout": "IPY_MODEL_60ced8d1b24c45adaecd0ac59a944e17",
            "placeholder": "​",
            "style": "IPY_MODEL_a4f1ffca929e4ff28e61d5e92f25f163",
            "value": "Map: 100%"
          }
        },
        "dd94640af7414eb18b41b3b675f043aa": {
          "model_module": "@jupyter-widgets/controls",
          "model_module_version": "1.5.0",
          "model_name": "FloatProgressModel",
          "state": {
            "_dom_classes": [],
            "_model_module": "@jupyter-widgets/controls",
            "_model_module_version": "1.5.0",
            "_model_name": "FloatProgressModel",
            "_view_count": null,
            "_view_module": "@jupyter-widgets/controls",
            "_view_module_version": "1.5.0",
            "_view_name": "ProgressView",
            "bar_style": "success",
            "description": "",
            "description_tooltip": null,
            "layout": "IPY_MODEL_22b5d6474dfe4e638e92195bbdc986e6",
            "max": 44818,
            "min": 0,
            "orientation": "horizontal",
            "style": "IPY_MODEL_5e4c1d1fc7ed4716b6c7208289078281",
            "value": 44818
          }
        },
        "de7e46d8270c4a47ab12ba228381368d": {
          "model_module": "@jupyter-widgets/base",
          "model_module_version": "1.2.0",
          "model_name": "LayoutModel",
          "state": {
            "_model_module": "@jupyter-widgets/base",
            "_model_module_version": "1.2.0",
            "_model_name": "LayoutModel",
            "_view_count": null,
            "_view_module": "@jupyter-widgets/base",
            "_view_module_version": "1.2.0",
            "_view_name": "LayoutView",
            "align_content": null,
            "align_items": null,
            "align_self": null,
            "border": null,
            "bottom": null,
            "display": null,
            "flex": null,
            "flex_flow": null,
            "grid_area": null,
            "grid_auto_columns": null,
            "grid_auto_flow": null,
            "grid_auto_rows": null,
            "grid_column": null,
            "grid_gap": null,
            "grid_row": null,
            "grid_template_areas": null,
            "grid_template_columns": null,
            "grid_template_rows": null,
            "height": null,
            "justify_content": null,
            "justify_items": null,
            "left": null,
            "margin": null,
            "max_height": null,
            "max_width": null,
            "min_height": null,
            "min_width": null,
            "object_fit": null,
            "object_position": null,
            "order": null,
            "overflow": null,
            "overflow_x": null,
            "overflow_y": null,
            "padding": null,
            "right": null,
            "top": null,
            "visibility": null,
            "width": null
          }
        },
        "e4822a8f3eb949cc8ab08ab953e2b158": {
          "model_module": "@jupyter-widgets/base",
          "model_module_version": "1.2.0",
          "model_name": "LayoutModel",
          "state": {
            "_model_module": "@jupyter-widgets/base",
            "_model_module_version": "1.2.0",
            "_model_name": "LayoutModel",
            "_view_count": null,
            "_view_module": "@jupyter-widgets/base",
            "_view_module_version": "1.2.0",
            "_view_name": "LayoutView",
            "align_content": null,
            "align_items": null,
            "align_self": null,
            "border": null,
            "bottom": null,
            "display": null,
            "flex": null,
            "flex_flow": null,
            "grid_area": null,
            "grid_auto_columns": null,
            "grid_auto_flow": null,
            "grid_auto_rows": null,
            "grid_column": null,
            "grid_gap": null,
            "grid_row": null,
            "grid_template_areas": null,
            "grid_template_columns": null,
            "grid_template_rows": null,
            "height": null,
            "justify_content": null,
            "justify_items": null,
            "left": null,
            "margin": null,
            "max_height": null,
            "max_width": null,
            "min_height": null,
            "min_width": null,
            "object_fit": null,
            "object_position": null,
            "order": null,
            "overflow": null,
            "overflow_x": null,
            "overflow_y": null,
            "padding": null,
            "right": null,
            "top": null,
            "visibility": null,
            "width": null
          }
        },
        "e7b7fd0cba91412f81ddd160177fb3be": {
          "model_module": "@jupyter-widgets/base",
          "model_module_version": "1.2.0",
          "model_name": "LayoutModel",
          "state": {
            "_model_module": "@jupyter-widgets/base",
            "_model_module_version": "1.2.0",
            "_model_name": "LayoutModel",
            "_view_count": null,
            "_view_module": "@jupyter-widgets/base",
            "_view_module_version": "1.2.0",
            "_view_name": "LayoutView",
            "align_content": null,
            "align_items": null,
            "align_self": null,
            "border": null,
            "bottom": null,
            "display": null,
            "flex": null,
            "flex_flow": null,
            "grid_area": null,
            "grid_auto_columns": null,
            "grid_auto_flow": null,
            "grid_auto_rows": null,
            "grid_column": null,
            "grid_gap": null,
            "grid_row": null,
            "grid_template_areas": null,
            "grid_template_columns": null,
            "grid_template_rows": null,
            "height": null,
            "justify_content": null,
            "justify_items": null,
            "left": null,
            "margin": null,
            "max_height": null,
            "max_width": null,
            "min_height": null,
            "min_width": null,
            "object_fit": null,
            "object_position": null,
            "order": null,
            "overflow": null,
            "overflow_x": null,
            "overflow_y": null,
            "padding": null,
            "right": null,
            "top": null,
            "visibility": null,
            "width": null
          }
        },
        "ece15bce967947c995c9c183d2b3cf1f": {
          "model_module": "@jupyter-widgets/controls",
          "model_module_version": "1.5.0",
          "model_name": "HTMLModel",
          "state": {
            "_dom_classes": [],
            "_model_module": "@jupyter-widgets/controls",
            "_model_module_version": "1.5.0",
            "_model_name": "HTMLModel",
            "_view_count": null,
            "_view_module": "@jupyter-widgets/controls",
            "_view_module_version": "1.5.0",
            "_view_name": "HTMLView",
            "description": "",
            "description_tooltip": null,
            "layout": "IPY_MODEL_d73b1a6cd3e6479cb45ef2d452eeb7a0",
            "placeholder": "​",
            "style": "IPY_MODEL_66d9d56b5a614f1e98a5c1bf3ccb51b6",
            "value": "Map: 100%"
          }
        },
        "f88a011479054c2a9fd459e26c92b2cc": {
          "model_module": "@jupyter-widgets/controls",
          "model_module_version": "1.5.0",
          "model_name": "DescriptionStyleModel",
          "state": {
            "_model_module": "@jupyter-widgets/controls",
            "_model_module_version": "1.5.0",
            "_model_name": "DescriptionStyleModel",
            "_view_count": null,
            "_view_module": "@jupyter-widgets/base",
            "_view_module_version": "1.2.0",
            "_view_name": "StyleView",
            "description_width": ""
          }
        },
        "ff7f82539e77443b8bad94f26f5f0c04": {
          "model_module": "@jupyter-widgets/controls",
          "model_module_version": "1.5.0",
          "model_name": "HBoxModel",
          "state": {
            "_dom_classes": [],
            "_model_module": "@jupyter-widgets/controls",
            "_model_module_version": "1.5.0",
            "_model_name": "HBoxModel",
            "_view_count": null,
            "_view_module": "@jupyter-widgets/controls",
            "_view_module_version": "1.5.0",
            "_view_name": "HBoxView",
            "box_style": "",
            "children": [
              "IPY_MODEL_dc9629c397814a09b9f465292dc0a348",
              "IPY_MODEL_dd94640af7414eb18b41b3b675f043aa",
              "IPY_MODEL_88bbb5af8be9439f8f5f48a0707c7d93"
            ],
            "layout": "IPY_MODEL_6cf4d74eb4154c3abd83d553306a275d"
          }
        }
      }
    }
  },
  "nbformat": 4,
  "nbformat_minor": 0
}
